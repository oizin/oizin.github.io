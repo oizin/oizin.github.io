{
 "cells": [
  {
   "cell_type": "code",
   "execution_count": null,
   "metadata": {},
   "outputs": [],
   "source": []
  },
  {
   "cell_type": "code",
   "execution_count": 18,
   "metadata": {},
   "outputs": [],
   "source": [
    "# we'll use the electricity data for this, import:\n",
    "import numpy as np\n",
    "import pandas as pd\n",
    "from sklearn.preprocessing import MinMaxScaler\n",
    "\n",
    "\n",
    "def import_energy_data():\n",
    "    \"\"\"\n",
    "    Import the UCI ML data archive Energy dataset\n",
    "    Args:\n",
    "        downsample: sample to one row per hour (else every 10 minutes)\n",
    "    \"\"\"\n",
    "    \n",
    "    # download\n",
    "    energy_df = pd.read_csv('https://archive.ics.uci.edu/ml/machine-learning-databases/00374/energydata_complete.csv')\n",
    "\n",
    "    # fix data types\n",
    "    energy_df['date'] = pd.to_datetime(energy_df['date'])\n",
    "    energy_df['month'] = energy_df['date'].dt.month.astype(int)\n",
    "    energy_df['day_of_month'] = energy_df['date'].dt.day.astype(int)\n",
    "\n",
    "    # day_of_week=0 corresponds to Monday\n",
    "    energy_df['day_of_week'] = energy_df['date'].dt.dayofweek.astype(int)\n",
    "    energy_df['hour_of_day'] = energy_df['date'].dt.hour.astype(int)\n",
    "\n",
    "    # filter columns\n",
    "    selected_columns = ['date', 'day_of_week', 'hour_of_day', 'Appliances']\n",
    "    energy_df = energy_df[selected_columns]\n",
    "    \n",
    "    # downsample to one hour\n",
    "    energy_df = energy_df.set_index('date').resample('1H').mean()\n",
    "    energy_df['date'] = energy_df.index\n",
    "    \n",
    "    # model log outcome\n",
    "    energy_df['log_energy_consumption'] = np.log(energy_df['Appliances'])\n",
    "    \n",
    "    datetime_columns = ['date', 'day_of_week', 'hour_of_day']\n",
    "    target_column = 'log_energy_consumption'\n",
    "    feature_columns = datetime_columns + ['log_energy_consumption']\n",
    "    energy_df = energy_df[feature_columns]\n",
    "    \n",
    "    return energy_df\n",
    "\n",
    "\n",
    "def create_sliding_window(data, sequence_length, stride=1):\n",
    "    X_list, y_list = [], []\n",
    "    for i in range(len(data)):\n",
    "        if(i + sequence_length) < len(data):\n",
    "            X_list.append(data.iloc[i:i+sequence_length:stride, :].values)\n",
    "            y_list.append(data.iloc[i+sequence_length, -1])\n",
    "    return np.array(X_list), np.array(y_list)\n",
    "\n"
   ]
  },
  {
   "cell_type": "code",
   "execution_count": 14,
   "metadata": {},
   "outputs": [],
   "source": [
    "energy_df = import_energy_data()"
   ]
  },
  {
   "cell_type": "code",
   "execution_count": 15,
   "metadata": {},
   "outputs": [
    {
     "data": {
      "text/html": [
       "<div>\n",
       "<style scoped>\n",
       "    .dataframe tbody tr th:only-of-type {\n",
       "        vertical-align: middle;\n",
       "    }\n",
       "\n",
       "    .dataframe tbody tr th {\n",
       "        vertical-align: top;\n",
       "    }\n",
       "\n",
       "    .dataframe thead th {\n",
       "        text-align: right;\n",
       "    }\n",
       "</style>\n",
       "<table border=\"1\" class=\"dataframe\">\n",
       "  <thead>\n",
       "    <tr style=\"text-align: right;\">\n",
       "      <th></th>\n",
       "      <th>date</th>\n",
       "      <th>day_of_week</th>\n",
       "      <th>hour_of_day</th>\n",
       "      <th>log_energy_consumption</th>\n",
       "    </tr>\n",
       "    <tr>\n",
       "      <th>date</th>\n",
       "      <th></th>\n",
       "      <th></th>\n",
       "      <th></th>\n",
       "      <th></th>\n",
       "    </tr>\n",
       "  </thead>\n",
       "  <tbody>\n",
       "    <tr>\n",
       "      <th>2016-01-11 17:00:00</th>\n",
       "      <td>2016-01-11 17:00:00</td>\n",
       "      <td>0</td>\n",
       "      <td>17</td>\n",
       "      <td>4.007333</td>\n",
       "    </tr>\n",
       "    <tr>\n",
       "      <th>2016-01-11 18:00:00</th>\n",
       "      <td>2016-01-11 18:00:00</td>\n",
       "      <td>0</td>\n",
       "      <td>18</td>\n",
       "      <td>5.174265</td>\n",
       "    </tr>\n",
       "    <tr>\n",
       "      <th>2016-01-11 19:00:00</th>\n",
       "      <td>2016-01-11 19:00:00</td>\n",
       "      <td>0</td>\n",
       "      <td>19</td>\n",
       "      <td>5.155217</td>\n",
       "    </tr>\n",
       "    <tr>\n",
       "      <th>2016-01-11 20:00:00</th>\n",
       "      <td>2016-01-11 20:00:00</td>\n",
       "      <td>0</td>\n",
       "      <td>20</td>\n",
       "      <td>4.828314</td>\n",
       "    </tr>\n",
       "    <tr>\n",
       "      <th>2016-01-11 21:00:00</th>\n",
       "      <td>2016-01-11 21:00:00</td>\n",
       "      <td>0</td>\n",
       "      <td>21</td>\n",
       "      <td>4.637960</td>\n",
       "    </tr>\n",
       "  </tbody>\n",
       "</table>\n",
       "</div>"
      ],
      "text/plain": [
       "                                   date  day_of_week  hour_of_day  \\\n",
       "date                                                                \n",
       "2016-01-11 17:00:00 2016-01-11 17:00:00            0           17   \n",
       "2016-01-11 18:00:00 2016-01-11 18:00:00            0           18   \n",
       "2016-01-11 19:00:00 2016-01-11 19:00:00            0           19   \n",
       "2016-01-11 20:00:00 2016-01-11 20:00:00            0           20   \n",
       "2016-01-11 21:00:00 2016-01-11 21:00:00            0           21   \n",
       "\n",
       "                     log_energy_consumption  \n",
       "date                                         \n",
       "2016-01-11 17:00:00                4.007333  \n",
       "2016-01-11 18:00:00                5.174265  \n",
       "2016-01-11 19:00:00                5.155217  \n",
       "2016-01-11 20:00:00                4.828314  \n",
       "2016-01-11 21:00:00                4.637960  "
      ]
     },
     "execution_count": 15,
     "metadata": {},
     "output_type": "execute_result"
    }
   ],
   "source": [
    "energy_df.head()"
   ]
  },
  {
   "cell_type": "code",
   "execution_count": 23,
   "metadata": {},
   "outputs": [],
   "source": [
    "energy_df = import_energy_data()\n",
    "\n",
    "train_split = 0.7\n",
    "n_train = int(train_split * len(energy_df))\n",
    "n_test = len(energy_df) - n_train\n",
    "\n",
    "features = ['day_of_week', 'hour_of_day', 'log_energy_consumption']\n",
    "feature_array = energy_df[features].values\n",
    "\n",
    "# Fit Scaler only on Training features\n",
    "feature_scaler = MinMaxScaler()\n",
    "feature_scaler.fit(feature_array[:n_train])\n",
    "# Fit Scaler only on Training target values\n",
    "target_scaler = MinMaxScaler()\n",
    "target_scaler.fit(feature_array[:n_train, -1].reshape(-1, 1))\n",
    "\n",
    "# Transform on both Training and Test data\n",
    "scaled_array = pd.DataFrame(feature_scaler.transform(feature_array),\n",
    "                            columns=features)\n",
    "\n",
    "sequence_length = 10\n",
    "X, y = create_sliding_window(scaled_array, sequence_length)\n",
    "\n",
    "X_train = X[:n_train]\n",
    "y_train = y[:n_train]\n",
    "\n",
    "X_test = X[n_train:]\n",
    "y_test = y[n_train:]"
   ]
  },
  {
   "cell_type": "code",
   "execution_count": 37,
   "metadata": {},
   "outputs": [
    {
     "data": {
      "text/plain": [
       "(3290, 4)"
      ]
     },
     "execution_count": 37,
     "metadata": {},
     "output_type": "execute_result"
    }
   ],
   "source": []
  },
  {
   "cell_type": "code",
   "execution_count": null,
   "metadata": {},
   "outputs": [],
   "source": []
  }
 ],
 "metadata": {
  "kernelspec": {
   "display_name": "Python 3",
   "language": "python",
   "name": "python3"
  },
  "language_info": {
   "codemirror_mode": {
    "name": "ipython",
    "version": 3
   },
   "file_extension": ".py",
   "mimetype": "text/x-python",
   "name": "python",
   "nbconvert_exporter": "python",
   "pygments_lexer": "ipython3",
   "version": "3.7.4"
  }
 },
 "nbformat": 4,
 "nbformat_minor": 4
}
