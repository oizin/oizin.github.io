{
 "cells": [
  {
   "cell_type": "code",
   "execution_count": 1,
   "metadata": {},
   "outputs": [],
   "source": [
    "import torch\n",
    "import torch.nn as nn\n",
    "import torch.nn.functional as F\n",
    "import torch.optim as optim\n",
    "from torch.autograd import Variable\n",
    "\n",
    "import pandas as pd\n",
    "from sklearn.preprocessing import MinMaxScaler\n",
    "import matplotlib.pyplot as plt\n",
    "import numpy as np\n",
    "from tqdm import trange \n",
    "#from energy_data import import_energy_data\n",
    "# from utils import create_sliding_window"
   ]
  },
  {
   "cell_type": "code",
   "execution_count": 2,
   "metadata": {},
   "outputs": [],
   "source": [
    "# energy_data.py\n",
    "import numpy as np\n",
    "import pandas as pd\n",
    "\n",
    "def import_energy_data():\n",
    "    \"\"\"\n",
    "    Import the UCI ML data archive Energy dataset\n",
    "    Args:\n",
    "        downsample: sample to one row per hour (else every 10 minutes)\n",
    "    \"\"\"\n",
    "    \n",
    "    # download\n",
    "    energy_df = pd.read_csv('https://archive.ics.uci.edu/ml/machine-learning-databases/00374/energydata_complete.csv')\n",
    "\n",
    "    # fix data types\n",
    "    energy_df['date'] = pd.to_datetime(energy_df['date'])\n",
    "    energy_df['month'] = energy_df['date'].dt.month.astype(int)\n",
    "    energy_df['day_of_month'] = energy_df['date'].dt.day.astype(int)\n",
    "\n",
    "    # day_of_week=0 corresponds to Monday\n",
    "    energy_df['day_of_week'] = energy_df['date'].dt.dayofweek.astype(int)\n",
    "    energy_df['hour_of_day'] = energy_df['date'].dt.hour.astype(int)\n",
    "\n",
    "    # filter columns\n",
    "    selected_columns = ['date', 'day_of_week', 'hour_of_day', 'Appliances']\n",
    "    energy_df = energy_df[selected_columns]\n",
    "    \n",
    "    # downsample to one hour\n",
    "    energy_df = energy_df.set_index('date').resample('1H').mean()\n",
    "    energy_df['date'] = energy_df.index\n",
    "    \n",
    "    # model log outcome\n",
    "    energy_df['log_energy_consumption'] = np.log(energy_df['Appliances'])\n",
    "    \n",
    "    datetime_columns = ['date', 'day_of_week', 'hour_of_day']\n",
    "    target_column = 'log_energy_consumption'\n",
    "    feature_columns = datetime_columns + ['log_energy_consumption']\n",
    "    energy_df = energy_df[feature_columns]\n",
    "    \n",
    "    return energy_df\n"
   ]
  },
  {
   "cell_type": "code",
   "execution_count": 3,
   "metadata": {},
   "outputs": [],
   "source": [
    "def create_sliding_window(data, sequence_length, stride=1):\n",
    "    X_list, y_list = [], []\n",
    "    for i in range(len(data)):\n",
    "      if (i + sequence_length) < len(data):\n",
    "        X_list.append(data.iloc[i:i+sequence_length:stride, :].values)\n",
    "        y_list.append(data.iloc[i+sequence_length, -1])\n",
    "    return np.array(X_list), np.array(y_list)\n"
   ]
  },
  {
   "cell_type": "code",
   "execution_count": 4,
   "metadata": {},
   "outputs": [],
   "source": [
    "# utils.py\n",
    "def create_sliding_window(data, sequence_length, stride=1, output_size=1):\n",
    "    X_list, y_list = [], []\n",
    "    for i in range(len(data)):\n",
    "        if(i + sequence_length + output_size) < len(data):\n",
    "            end = i+sequence_length\n",
    "            X_list.append(data.iloc[i:end:stride, :].values)\n",
    "            if output_size > 1:\n",
    "                y_list.append(data.iloc[end:(end+output_size), -1].values)\n",
    "            else:\n",
    "                y_list.append(data.iloc[end, -1])\n",
    "    return np.array(X_list), np.array(y_list)"
   ]
  },
  {
   "cell_type": "code",
   "execution_count": null,
   "metadata": {},
   "outputs": [],
   "source": []
  },
  {
   "cell_type": "code",
   "execution_count": null,
   "metadata": {},
   "outputs": [],
   "source": []
  },
  {
   "cell_type": "code",
   "execution_count": null,
   "metadata": {},
   "outputs": [],
   "source": []
  },
  {
   "cell_type": "markdown",
   "metadata": {},
   "source": [
    "First we'll make the encoder-decoder model that we pre-train before training the final model."
   ]
  },
  {
   "cell_type": "code",
   "execution_count": 216,
   "metadata": {},
   "outputs": [],
   "source": [
    "# lstm_encoder_decoder.py\n",
    "# adapted from: https://github.com/lkulowski/LSTM_encoder_decoder\n",
    "class lstm_encoder(nn.Module):\n",
    "    ''' Encodes time-series sequence '''\n",
    "\n",
    "    def __init__(self, input_size, hidden_size, num_layers = 1):\n",
    "        '''\n",
    "        : param input_size:     the number of features in the input X\n",
    "        : param hidden_size:    the number of features in the hidden state h\n",
    "        : param num_layers:     number of recurrent layers\n",
    "        '''\n",
    "        super(lstm_encoder, self).__init__()\n",
    "        self.input_size = input_size\n",
    "        self.hidden_size = hidden_size\n",
    "        self.num_layers = num_layers\n",
    "\n",
    "        self.lstm = nn.LSTM(input_size = input_size, hidden_size = hidden_size,\n",
    "                            num_layers = num_layers, batch_first = True)\n",
    "\n",
    "    def forward(self, x_input):\n",
    "        '''\n",
    "        : param x_input:               input of shape (# in batch, seq_len, input_size)\n",
    "        : return lstm_out, hidden:     lstm_out gives all the hidden states in the sequence;\n",
    "        :                              hidden gives the hidden state and cell state for the last\n",
    "        :                              element in the sequence \n",
    "        '''\n",
    "        lstm_out, self.hidden = self.lstm(x_input)\n",
    "        \n",
    "        return lstm_out, self.hidden     \n",
    "    \n",
    "    def init_hidden(self, batch_size):\n",
    "        '''\n",
    "        initialize hidden state\n",
    "        : param batch_size:    x_input.shape[1]\n",
    "        : return:              zeroed hidden state and cell state \n",
    "        '''\n",
    "        return (torch.zeros(batch_size, self.num_layers, self.hidden_size),\n",
    "                torch.zeros(batch_size, self.num_layers, self.hidden_size))\n",
    "    \n",
    "class lstm_decoder(nn.Module):\n",
    "    ''' Decodes hidden state output by encoder '''\n",
    "    def __init__(self, input_size, hidden_size, num_layers = 1):\n",
    "        '''\n",
    "        : param input_size:     the number of features in the input X\n",
    "        : param hidden_size:    the number of features in the hidden state h\n",
    "        : param num_layers:     number of recurrent layers (i.e., 2 means there are\n",
    "        :                       2 stacked LSTMs)\n",
    "        '''\n",
    "        super(lstm_decoder, self).__init__()\n",
    "        self.input_size = input_size\n",
    "        self.hidden_size = hidden_size\n",
    "        self.num_layers = num_layers\n",
    "\n",
    "        self.lstm = nn.LSTM(input_size = input_size, hidden_size = hidden_size,\n",
    "                            num_layers = num_layers, batch_first=True)\n",
    "        self.linear = nn.Linear(hidden_size, input_size)           \n",
    "\n",
    "    def forward(self, x_input, encoder_hidden_states):\n",
    "        '''        \n",
    "        : param x_input:                    should be 2D (batch_size, input_size)\n",
    "        : param encoder_hidden_states:      hidden states\n",
    "        : return output, hidden:            output gives all the hidden states in the sequence;\n",
    "        :                                   hidden gives the hidden state and cell state for the last\n",
    "        :                                   element in the sequence \n",
    "        '''\n",
    "        lstm_out, self.hidden = self.lstm(x_input.unsqueeze(1), encoder_hidden_states)\n",
    "        output = self.linear(lstm_out.squeeze(0))     \n",
    "        \n",
    "        return output, self.hidden\n",
    "    \n",
    "class lstm_seq2seq(nn.Module):\n",
    "    ''' train LSTM encoder-decoder and make predictions '''\n",
    "    \n",
    "    def __init__(self, input_size, hidden_size):\n",
    "        '''\n",
    "        : param input_size:     the number of expected features in the input X\n",
    "        : param hidden_size:    the number of features in the hidden state h\n",
    "        '''\n",
    "        super(lstm_seq2seq, self).__init__()\n",
    "\n",
    "        self.input_size = input_size\n",
    "        self.hidden_size = hidden_size\n",
    "\n",
    "        self.encoder = lstm_encoder(input_size = input_size, hidden_size = hidden_size)\n",
    "        self.decoder = lstm_decoder(input_size = input_size, hidden_size = hidden_size)\n",
    "\n",
    "\n",
    "    def train_model(self, input_tensor, target_tensor, n_epochs, target_len, batch_size, learning_rate = 0.01):\n",
    "        '''\n",
    "        train lstm encoder-decoder\n",
    "        \n",
    "        : param input_tensor:              input data with shape (# in batch, seq_len, number features); PyTorch tensor    \n",
    "        : param target_tensor:             target data with shape (# in batch, seq_len, number features); PyTorch tensor\n",
    "        : param n_epochs:                  number of epochs \n",
    "        : param target_len:                number of values to predict \n",
    "        : param batch_size:                number of samples per gradient update\n",
    "        : param learning_rate:             float >= 0; learning rate\n",
    "        :                                  reduces the amount of teacher forcing for each epoch\n",
    "        : return losses:                   array of loss function for each epoch\n",
    "        '''\n",
    "        # initialize array of losses \n",
    "        losses = np.full(n_epochs, np.nan)\n",
    "\n",
    "        optimizer = optim.Adam(self.parameters(), lr = learning_rate)\n",
    "        criterion = nn.MSELoss()\n",
    "\n",
    "        # calculate number of batch iterations\n",
    "        n_batches = int(input_tensor.shape[0] / batch_size)\n",
    "\n",
    "        with trange(n_epochs) as tr:\n",
    "            for it in tr:\n",
    "                \n",
    "                batch_loss = 0.\n",
    "\n",
    "                for b in range(n_batches):\n",
    "                    # select data \n",
    "                    input_batch = input_tensor[b: b + batch_size,:, :]\n",
    "                    target_batch = target_tensor[b: b + batch_size,:, :]\n",
    "\n",
    "                    # outputs tensor\n",
    "                    outputs = torch.zeros(batch_size, target_len, input_batch.shape[2])\n",
    "\n",
    "                    # initialize hidden state\n",
    "                    encoder_hidden = self.encoder.init_hidden(batch_size)\n",
    "\n",
    "                    # zero the gradient\n",
    "                    optimizer.zero_grad()\n",
    "\n",
    "                    # encoder outputs\n",
    "                    encoder_output, encoder_hidden = self.encoder(input_batch)\n",
    "                                        \n",
    "                    # encoder -> decoder\n",
    "                    decoder_input = input_batch[:,0,:]   # shape: (batch_size, input_size)\n",
    "                    decoder_hidden = encoder_hidden\n",
    "\n",
    "                    # predict\n",
    "                    for t in range(target_len): \n",
    "                        decoder_output, decoder_hidden = self.decoder(decoder_input, decoder_hidden)\n",
    "                        outputs[:,t,:] = decoder_output.squeeze(1)\n",
    "                        decoder_input = input_batch[:,t,:]\n",
    "                            \n",
    "                    # compute the loss \n",
    "                    loss = criterion(outputs, target_batch)\n",
    "                    batch_loss += loss.item()\n",
    "                    \n",
    "                    # backpropagation\n",
    "                    loss.backward()\n",
    "                    optimizer.step()\n",
    "                    \n",
    "                # loss for epoch \n",
    "                batch_loss /= n_batches \n",
    "                losses[it] = batch_loss\n",
    "\n",
    "                # progress bar \n",
    "                tr.set_postfix(loss=\"{0:.3f}\".format(batch_loss))\n",
    "                    \n",
    "        return losses\n",
    "\n",
    "    def predict(self, input_tensor, target_len):\n",
    "        '''\n",
    "        : param input_tensor:      input data (seq_len, input_size); PyTorch tensor \n",
    "        : param target_len:        number of target values to predict \n",
    "        : return np_outputs:       np.array containing predicted values; prediction done recursively \n",
    "        '''\n",
    "        # encode input_tensor\n",
    "        input_tensor = input_tensor.unsqueeze(0)     # add in batch size of 1\n",
    "        encoder_output, encoder_hidden = self.encoder(input_tensor)\n",
    "\n",
    "        # initialize tensor for predictions\n",
    "        outputs = torch.zeros(target_len, input_tensor.shape[2])\n",
    "\n",
    "        # encoder -> decoder\n",
    "        decoder_input = input_tensor[:,0,:]   # shape: (batch_size, input_size)\n",
    "        decoder_hidden = encoder_hidden\n",
    "\n",
    "        # predict\n",
    "        for t in range(target_len): \n",
    "            decoder_output, decoder_hidden = self.decoder(decoder_input, decoder_hidden)\n",
    "            outputs[t,:] = decoder_output\n",
    "            decoder_input = input_tensor[:,t,:]\n",
    "            \n",
    "        np_outputs = outputs.detach().numpy()\n",
    "        \n",
    "        return np_outputs"
   ]
  },
  {
   "cell_type": "code",
   "execution_count": 6,
   "metadata": {},
   "outputs": [],
   "source": [
    "# example of a pure encoder-decoder based approach"
   ]
  },
  {
   "cell_type": "code",
   "execution_count": 7,
   "metadata": {},
   "outputs": [],
   "source": [
    "# we'll use the electricity data for this, import:\n",
    "energy_df = import_energy_data()\n",
    "\n",
    "train_split = 0.7\n",
    "n_train = int(train_split * len(energy_df))\n",
    "n_test = len(energy_df) - n_train\n",
    "\n",
    "features = ['log_energy_consumption']\n",
    "feature_array = energy_df[features].values\n",
    "\n",
    "# Fit Scaler only on Training features\n",
    "feature_scaler = MinMaxScaler()\n",
    "feature_scaler.fit(feature_array[:n_train])\n",
    "# Fit Scaler only on Training target values\n",
    "target_scaler = MinMaxScaler()\n",
    "target_scaler.fit(feature_array[:n_train, -1].reshape(-1, 1))\n",
    "\n",
    "# Transform on both Training and Test data\n",
    "scaled_array = pd.DataFrame(feature_scaler.transform(feature_array),\n",
    "                            columns=features)"
   ]
  },
  {
   "cell_type": "code",
   "execution_count": 222,
   "metadata": {},
   "outputs": [],
   "source": [
    "sequence_length = 2\n",
    "output_size = 2\n",
    "X, y = create_sliding_window(scaled_array, sequence_length,output_size=2)\n",
    "\n",
    "X_train = X[:n_train]\n",
    "y_train = y[:n_train]\n",
    "\n",
    "X_test = X[n_train:]\n",
    "y_test = y[n_train:]"
   ]
  },
  {
   "cell_type": "code",
   "execution_count": 223,
   "metadata": {},
   "outputs": [],
   "source": [
    "X_train = torch.tensor(X_train).float()\n",
    "y_train = torch.tensor(y_train).unsqueeze(2).float()"
   ]
  },
  {
   "cell_type": "code",
   "execution_count": 224,
   "metadata": {},
   "outputs": [],
   "source": [
    "X_test = torch.tensor(X_test).float()"
   ]
  },
  {
   "cell_type": "code",
   "execution_count": 225,
   "metadata": {},
   "outputs": [
    {
     "data": {
      "text/plain": [
       "tensor([[0.5968],\n",
       "        [0.5906]])"
      ]
     },
     "execution_count": 225,
     "metadata": {},
     "output_type": "execute_result"
    }
   ],
   "source": [
    "X_train[1]"
   ]
  },
  {
   "cell_type": "code",
   "execution_count": 226,
   "metadata": {},
   "outputs": [
    {
     "data": {
      "text/plain": [
       "tensor([[0.4840],\n",
       "        [0.4219]])"
      ]
     },
     "execution_count": 226,
     "metadata": {},
     "output_type": "execute_result"
    }
   ],
   "source": [
    "y_train[1]"
   ]
  },
  {
   "cell_type": "code",
   "execution_count": 240,
   "metadata": {},
   "outputs": [
    {
     "name": "stderr",
     "output_type": "stream",
     "text": [
      "100%|██████████████████████████████████████████████████████████████████████| 10/10 [00:56<00:00,  5.63s/it, loss=0.029]\n"
     ]
    },
    {
     "data": {
      "text/plain": [
       "array([0.04070873, 0.02949778, 0.02878833, 0.02865942, 0.02860337,\n",
       "       0.02857017, 0.02854807, 0.02853238, 0.0285203 , 0.02850917])"
      ]
     },
     "execution_count": 240,
     "metadata": {},
     "output_type": "execute_result"
    }
   ],
   "source": [
    "# input_size, hidden_size\n",
    "s2s = lstm_seq2seq(1, 1)\n",
    "# input_tensor, target_tensor, n_epochs, target_len, batch_size\n",
    "s2s.train_model(X_train, y_train, 10, 2, 1)"
   ]
  },
  {
   "cell_type": "code",
   "execution_count": null,
   "metadata": {},
   "outputs": [],
   "source": []
  },
  {
   "cell_type": "code",
   "execution_count": 234,
   "metadata": {},
   "outputs": [],
   "source": [
    "preds = []\n",
    "for t in range(X_test.size(0)):\n",
    "    preds.append(s2s.predict(X_test[t],2))"
   ]
  },
  {
   "cell_type": "code",
   "execution_count": 239,
   "metadata": {},
   "outputs": [
    {
     "data": {
      "text/plain": [
       "<matplotlib.collections.PathCollection at 0x1e5613018c8>"
      ]
     },
     "execution_count": 239,
     "metadata": {},
     "output_type": "execute_result"
    },
    {
     "data": {
      "image/png": "[encoded data removed]",
      "text/plain": [
       "<Figure size 432x288 with 1 Axes>"
      ]
     },
     "metadata": {
      "needs_background": "light"
     },
     "output_type": "display_data"
    }
   ],
   "source": [
    "plt.scatter(np.concatenate(preds),y_test)"
   ]
  },
  {
   "cell_type": "markdown",
   "metadata": {},
   "source": [
    "We need variational dropout for the encoder, that is coded as:"
   ]
  },
  {
   "cell_type": "code",
   "execution_count": 13,
   "metadata": {},
   "outputs": [],
   "source": [
    "# variational dropout"
   ]
  },
  {
   "cell_type": "markdown",
   "metadata": {},
   "source": [
    "Now we construct the inference model - the encoder plus the porediction net"
   ]
  },
  {
   "cell_type": "code",
   "execution_count": 14,
   "metadata": {},
   "outputs": [],
   "source": [
    "# class InferenceModel(nn.Module):\n",
    "#     def __init__(self,encoder,....):\n",
    "#         super(InferenceModel,self).__init__()\n",
    "#         self.encoder = encoder\n",
    "#         ...\n",
    "        \n",
    "#     def forward(self,...):\n",
    "#         context = self.encoder(...)\n",
    "#         ...other NN stuff...\n",
    "#         return y\n",
    "    \n",
    "#     def train\n",
    "    \n",
    "#     def predict\n",
    "        \n",
    "        "
   ]
  },
  {
   "cell_type": "markdown",
   "metadata": {},
   "source": []
  }
 ],
 "metadata": {
  "kernelspec": {
   "display_name": "Python 3",
   "language": "python",
   "name": "python3"
  },
  "language_info": {
   "codemirror_mode": {
    "name": "ipython",
    "version": 3
   },
   "file_extension": ".py",
   "mimetype": "text/x-python",
   "name": "python",
   "nbconvert_exporter": "python",
   "pygments_lexer": "ipython3",
   "version": "3.7.4"
  }
 },
 "nbformat": 4,
 "nbformat_minor": 4
}
