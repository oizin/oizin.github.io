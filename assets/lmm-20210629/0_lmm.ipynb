{
 "cells": [
  {
   "cell_type": "markdown",
   "metadata": {},
   "source": [
    "# Linear mixed effect models"
   ]
  },
  {
   "cell_type": "markdown",
   "metadata": {},
   "source": [
    "These notes are based on:\n",
    "Simon Woods book\n",
    "Douglas Bates"
   ]
  },
  {
   "cell_type": "markdown",
   "metadata": {},
   "source": [
    "## Introduction"
   ]
  },
  {
   "cell_type": "markdown",
   "metadata": {},
   "source": [
    "Linear mixed effect models (LMMs; also known as hierarchical or multilevel models) are a commonly used statistical tool in analysis of healthcare data. They are useful in situations where the data is naturally clustered. The clustering unit is usually something XXX such as patients, clinicians or hospitals. A single dataset may contain several clustering units (hereafter levels), giving the data a hierachical structure - patients within clinicians within hospitals. The probabilistic form of the model for vector outcome $\\boldsymbol{y}$ is as follows:\n",
    "\n",
    "$(\\boldsymbol{y}|B=b) \\sim N(\\boldsymbol{X}\\boldsymbol{\\beta} + \\boldsymbol{Z}\\boldsymbol{b},\\sigma^2 I)$\n",
    "\n",
    "$\\boldsymbol{b} \\sim N(\\boldsymbol{0},\\boldsymbol{\\Sigma_{\\theta}})$"
   ]
  },
  {
   "cell_type": "markdown",
   "metadata": {},
   "source": [
    "The $\\boldsymbol{X}\\boldsymbol{\\beta}$ is fixed effect. Here we put covariates. The $\\boldsymbol{Z}\\boldsymbol{b}$ is the random effect. ...... \n",
    "\n",
    "### Examples\n",
    "\n",
    "#### 1. Random intercepts \n",
    "\n",
    "The random effects component $\\boldsymbol{Z}\\boldsymbol{b}$ often has a very simple structure, such as a unit level deviation from a fixed intercept. For example a model in which each individual $i \\in \\{1,...,I\\}$ is clustered within a hospital $j \\in \\{1,...,J\\}$ and observed at several fixed timepoints $t \\in \\{1,...,T\\}$ would have the following per observation model:\n",
    "\n",
    "$y_{jit} = X\\beta + \\mu_i + \\mu_j + e_{jit}$\n",
    "\n",
    "$\\mu_i \\sim N(0,)$\n",
    "\n",
    "$\\mu_j \\sim N(0,)$\n",
    "\n",
    "$e_{jit} \\sim N(0,)$\n",
    "\n",
    "From this we see that LMMs (as commonly used) are equivalent to decomposing unexplained variation into a per level term and enabling a per level intercept. Unlike adding in a \n",
    "\n",
    "#### 2. Random intercepts and slopes\n",
    "\n",
    "random slopes..."
   ]
  },
  {
   "cell_type": "markdown",
   "metadata": {},
   "source": [
    "We might consider the assumption that the model is linear quite strong. While we can consider $X$ a basis that may be a transformation of the original data (Bishop), using splines, we may might to use a model that will learn non-linearities as part of the model training. Deep neural networks are one approch to this problem. However, before we consider this lets look at the estimation of LMMs using maximum likelihood."
   ]
  },
  {
   "cell_type": "markdown",
   "metadata": {},
   "source": [
    "## Estimation"
   ]
  },
  {
   "cell_type": "markdown",
   "metadata": {},
   "source": [
    "To cover:\n",
    "\n",
    "- maximum likelihood (\n",
    "- bayesian\n",
    "\n",
    "### Maximum likelihood\n",
    "\n",
    "y is length n.  \n",
    "\n",
    "b is length q.\n",
    "\n",
    "Letting $\\Vert x \\Vert$\n",
    "\n",
    "Some distributions are:\n",
    "\n",
    "$f(y|b,\\beta) = (2\\pi)^{-n/2}|I\\sigma^2|^{-1/2}\\text{exp}\\{\\Vert y-X\\beta-Zb\\Vert/2\\sigma^2\\}$\n",
    "\n",
    "$f(b) = (2\\pi)^{-p/2}|\\Sigma_{\\theta}|^{-1/2}\\text{exp}\\{-b^t\\Sigma_{\\theta}^{-1}b/2\\}$\n",
    "\n",
    "Now consider integrating out the random effects since they are \"missing\". Best over whatever b.\n",
    "\n",
    "$f(y) = \\int f(y,b) db = \\int \\text{exp}\\{\\text{log}f(y,b)\\} db$ \n",
    "\n",
    "This is laplace type integral. We can Taylor expand about the MLEs for b, hat(B), with no remainder terms. THis gives\n",
    "\n",
    "$f(y) = \\int \\text{exp}\\{\\text{log}f(y,\\hat{b})\\} + 1/2(b-b)\\frac{d2 log f(y,\\hat{b})}{db db}(b-b) db$ \n",
    "\n",
    "Rearrange:\n",
    "\n",
    "$f(y) = f(y,\\hat{b}) \\int \\text{exp}\\{1/2(b-b)\\frac{d2 log f(y,\\hat{b})}{db db}(b-b) db$\n",
    "\n",
    "Follow ?Bates and let $B = \\Lambda_{\\theta} U$ where $U \\sim N(0,\\sigma)$ then\n",
    "\n",
    "....\n",
    "\n",
    "\n",
    "This is a multivariate normal without normalising constant and so integrates to TERM giving\n",
    "\n",
    "$f(y) = f(y,\\hat{b})TERM = f(y|b)f(b)TERM$\n",
    "\n",
    "The log likelihood (or twice to remove the 1/2) is then:\n",
    "\n",
    "mse + btb + log(det)\n",
    "\n",
    "Where mse = ... then penalised residual sum of squares\n",
    "\n",
    "L'L = ZZ + I the cholesky decompositions.\n",
    "\n",
    "Estimation proceeds as:\n",
    "\n",
    "Initialise $\\theta$...\n",
    "\n",
    "1. for current estimates of $\\theta^{k-1}$ solve PRR for beta and b to get beta(k) and b(k)\n",
    "2. set sigma = ...\n",
    "3. Treating b, beta, sigma as maximise ... for theta.\n",
    "\n",
    "Steps 1 and 2 can be solved analytically but step 3 requires use of a numerical optimisaiton algorithm such as Nelder-Mead BDFGS..\n",
    "\n",
    "Some code to illustrate is shown below:"
   ]
  },
  {
   "cell_type": "markdown",
   "metadata": {},
   "source": [
    "The implementations differ in whether they:\n",
    "\n",
    "1. Take advantage of sparsity\n",
    "2. Reuse matrix decompositions\n",
    "3. Use spherical random effects"
   ]
  },
  {
   "cell_type": "code",
   "execution_count": 1,
   "metadata": {},
   "outputs": [],
   "source": [
    "## libraries\n",
    "# linear algebra\n",
    "using LinearAlgebra, SparseArrays\n",
    "# plotting\n",
    "using Plots\n",
    "# optimisation\n",
    "using Optim, NLSolversBase, Random\n",
    "import NLopt, Statistics"
   ]
  },
  {
   "cell_type": "code",
   "execution_count": 2,
   "metadata": {},
   "outputs": [
    {
     "name": "stdout",
     "output_type": "stream",
     "text": [
      "number of rows: 20000"
     ]
    }
   ],
   "source": [
    "# generate data\n",
    "N, n, p = 20, 1000, 100\n",
    "ids = repeat(1:n,inner=N)\n",
    "X = [repeat([1.0],N*n) randn(N*n,p)]\n",
    "β = randn(p+1)\n",
    "θ2 = 3.0\n",
    "b = sqrt(θ2) .* randn(n)\n",
    "Z = sparse(kron(sparse(1I, n, n),repeat([1],N)))\n",
    "y = X * β + Z * b + randn(N*n);\n",
    "print(\"number of rows: \",length(y))"
   ]
  },
  {
   "cell_type": "code",
   "execution_count": 3,
   "metadata": {},
   "outputs": [
    {
     "data": {
      "text/plain": [
       "-1.9395774021402665"
      ]
     },
     "execution_count": 3,
     "metadata": {},
     "output_type": "execute_result"
    }
   ],
   "source": [
    "Statistics.mean(y[ids .== 1])"
   ]
  },
  {
   "cell_type": "code",
   "execution_count": 4,
   "metadata": {},
   "outputs": [
    {
     "data": {
      "text/plain": [
       "9.083391506744068"
      ]
     },
     "execution_count": 4,
     "metadata": {},
     "output_type": "execute_result"
    }
   ],
   "source": [
    "means = zeros(n)\n",
    "for i in 1:n\n",
    "    means[i] = Statistics.mean(y[ids .== i])\n",
    "end\n",
    "Statistics.var(means)"
   ]
  },
  {
   "cell_type": "markdown",
   "metadata": {},
   "source": [
    "### Method 1"
   ]
  },
  {
   "cell_type": "code",
   "execution_count": 5,
   "metadata": {},
   "outputs": [],
   "source": [
    "# based on standard formulation, y = X\\beta + Zb\n",
    "# b ~ N()\n",
    "# Y|B=b ~ N()"
   ]
  },
  {
   "cell_type": "code",
   "execution_count": 6,
   "metadata": {},
   "outputs": [
    {
     "data": {
      "text/plain": [
       "dev1 (generic function with 1 method)"
      ]
     },
     "execution_count": 6,
     "metadata": {},
     "output_type": "execute_result"
    }
   ],
   "source": [
    "# use optim\n",
    "function dev1(X,Z,y,logθ)\n",
    "    θ_ = exp.(logθ)\n",
    "    Nn = length(y)\n",
    "    n = size(Z)[2]\n",
    "    p = (size(X)[2]-1)\n",
    "    M = [X Z]\n",
    "    LL = 1/θ_[1]*transpose(M)*M + diagm([repeat([0.0],(p+1));repeat([1/θ_[2]],n)])\n",
    "    rr = 1/θ_[1]*transpose(M)*y\n",
    "    βb_ = LL \\ rr\n",
    "    β_ = βb_[1:(p+1)]\n",
    "    b_ = βb_[(p+2):end]\n",
    "    logdetθ = logdet(cholesky(1/θ_[1]*transpose(Z)*Z + 1/θ_[2]*I))\n",
    "    m2l = (1/θ_[1])*sum((y - M*βb_).^2) + (1/θ_[2])*sum(b_.^2)+ 2*logdetθ  + n*log(θ_[2]) + N*n*log(θ_[1])\n",
    "    m2l\n",
    "end"
   ]
  },
  {
   "cell_type": "code",
   "execution_count": 7,
   "metadata": {},
   "outputs": [
    {
     "name": "stdout",
     "output_type": "stream",
     "text": [
      "  0.836324 seconds (24.75 k allocations: 277.307 MiB, 9.01% gc time, 3.75% compilation time)\n"
     ]
    },
    {
     "data": {
      "text/plain": [
       "27100.47896208406"
      ]
     },
     "execution_count": 7,
     "metadata": {},
     "output_type": "execute_result"
    }
   ],
   "source": [
    "dev1(X,Z,y,log.([1.0,3.0]));\n",
    "@time dev1(X,Z,y,log.([1.0,3.0]))"
   ]
  },
  {
   "cell_type": "code",
   "execution_count": 8,
   "metadata": {},
   "outputs": [
    {
     "name": "stdout",
     "output_type": "stream",
     "text": [
      "estimate: [2.0]\n"
     ]
    },
    {
     "data": {
      "image/svg+xml": [
       "<?xml version=\"1.0\" encoding=\"utf-8\"?>\n",
       "<svg xmlns=\"http://www.w3.org/2000/svg\" xmlns:xlink=\"http://www.w3.org/1999/xlink\" width=\"600\" height=\"400\" viewBox=\"0 0 2400 1600\">\n",
       "<defs>\n",
       "  <clipPath id=\"clip670\">\n",
       "    <rect x=\"0\" y=\"0\" width=\"2400\" height=\"1600\"/>\n",
       "  </clipPath>\n",
       "</defs>\n",
       "<path clip-path=\"url(#clip670)\" d=\"\n",
       "M0 1600 L2400 1600 L2400 0 L0 0  Z\n",
       "  \" fill=\"#ffffff\" fill-rule=\"evenodd\" fill-opacity=\"1\"/>\n",
       "<defs>\n",
       "  <clipPath id=\"clip671\">\n",
       "    <rect x=\"480\" y=\"0\" width=\"1681\" height=\"1600\"/>\n",
       "  </clipPath>\n",
       "</defs>\n",
       "<path clip-path=\"url(#clip670)\" d=\"\n",
       "M294.449 1423.18 L2352.76 1423.18 L2352.76 47.2441 L294.449 47.2441  Z\n",
       "  \" fill=\"#ffffff\" fill-rule=\"evenodd\" fill-opacity=\"1\"/>\n",
       "<defs>\n",
       "  <clipPath id=\"clip672\">\n",
       "    <rect x=\"294\" y=\"47\" width=\"2059\" height=\"1377\"/>\n",
       "  </clipPath>\n",
       "</defs>\n",
       "<polyline clip-path=\"url(#clip672)\" style=\"stroke:#000000; stroke-width:2; stroke-opacity:0.1; fill:none\" points=\"\n",
       "  352.703,1423.18 352.703,47.2441 \n",
       "  \"/>\n",
       "<polyline clip-path=\"url(#clip672)\" style=\"stroke:#000000; stroke-width:2; stroke-opacity:0.1; fill:none\" points=\"\n",
       "  999.969,1423.18 999.969,47.2441 \n",
       "  \"/>\n",
       "<polyline clip-path=\"url(#clip672)\" style=\"stroke:#000000; stroke-width:2; stroke-opacity:0.1; fill:none\" points=\"\n",
       "  1647.24,1423.18 1647.24,47.2441 \n",
       "  \"/>\n",
       "<polyline clip-path=\"url(#clip672)\" style=\"stroke:#000000; stroke-width:2; stroke-opacity:0.1; fill:none\" points=\"\n",
       "  2294.5,1423.18 2294.5,47.2441 \n",
       "  \"/>\n",
       "<polyline clip-path=\"url(#clip670)\" style=\"stroke:#000000; stroke-width:4; stroke-opacity:1; fill:none\" points=\"\n",
       "  294.449,1423.18 2352.76,1423.18 \n",
       "  \"/>\n",
       "<polyline clip-path=\"url(#clip670)\" style=\"stroke:#000000; stroke-width:4; stroke-opacity:1; fill:none\" points=\"\n",
       "  352.703,1423.18 352.703,1406.67 \n",
       "  \"/>\n",
       "<polyline clip-path=\"url(#clip670)\" style=\"stroke:#000000; stroke-width:4; stroke-opacity:1; fill:none\" points=\"\n",
       "  999.969,1423.18 999.969,1406.67 \n",
       "  \"/>\n",
       "<polyline clip-path=\"url(#clip670)\" style=\"stroke:#000000; stroke-width:4; stroke-opacity:1; fill:none\" points=\"\n",
       "  1647.24,1423.18 1647.24,1406.67 \n",
       "  \"/>\n",
       "<polyline clip-path=\"url(#clip670)\" style=\"stroke:#000000; stroke-width:4; stroke-opacity:1; fill:none\" points=\"\n",
       "  2294.5,1423.18 2294.5,1406.67 \n",
       "  \"/>\n",
       "<path clip-path=\"url(#clip670)\" d=\"M 0 0 M347.356 1479.92 L363.675 1479.92 L363.675 1483.85 L341.731 1483.85 L341.731 1479.92 Q344.393 1477.16 348.976 1472.53 Q353.583 1467.88 354.763 1466.54 Q357.009 1464.01 357.888 1462.28 Q358.791 1460.52 358.791 1458.83 Q358.791 1456.07 356.847 1454.34 Q354.925 1452.6 351.824 1452.6 Q349.624 1452.6 347.171 1453.37 Q344.74 1454.13 341.962 1455.68 L341.962 1450.96 Q344.787 1449.82 347.24 1449.25 Q349.694 1448.67 351.731 1448.67 Q357.101 1448.67 360.296 1451.35 Q363.49 1454.04 363.49 1458.53 Q363.49 1460.66 362.68 1462.58 Q361.893 1464.48 359.786 1467.07 Q359.208 1467.74 356.106 1470.96 Q353.004 1474.15 347.356 1479.92 Z\" fill=\"#000000\" fill-rule=\"evenodd\" fill-opacity=\"1\" /><path clip-path=\"url(#clip670)\" d=\"M 0 0 M1004.22 1465.22 Q1007.57 1465.94 1009.45 1468.2 Q1011.35 1470.47 1011.35 1473.81 Q1011.35 1478.92 1007.83 1481.72 Q1004.31 1484.52 997.828 1484.52 Q995.652 1484.52 993.338 1484.08 Q991.046 1483.67 988.592 1482.81 L988.592 1478.3 Q990.537 1479.43 992.851 1480.01 Q995.166 1480.59 997.689 1480.59 Q1002.09 1480.59 1004.38 1478.85 Q1006.69 1477.12 1006.69 1473.81 Q1006.69 1470.75 1004.54 1469.04 Q1002.41 1467.3 998.592 1467.3 L994.564 1467.3 L994.564 1463.46 L998.777 1463.46 Q1002.23 1463.46 1004.06 1462.09 Q1005.88 1460.7 1005.88 1458.11 Q1005.88 1455.45 1003.99 1454.04 Q1002.11 1452.6 998.592 1452.6 Q996.671 1452.6 994.472 1453.02 Q992.273 1453.44 989.634 1454.31 L989.634 1450.15 Q992.296 1449.41 994.611 1449.04 Q996.949 1448.67 999.009 1448.67 Q1004.33 1448.67 1007.43 1451.1 Q1010.54 1453.5 1010.54 1457.63 Q1010.54 1460.5 1008.89 1462.49 Q1007.25 1464.45 1004.22 1465.22 Z\" fill=\"#000000\" fill-rule=\"evenodd\" fill-opacity=\"1\" /><path clip-path=\"url(#clip670)\" d=\"M 0 0 M1650.24 1453.37 L1638.44 1471.81 L1650.24 1471.81 L1650.24 1453.37 M1649.02 1449.29 L1654.9 1449.29 L1654.9 1471.81 L1659.83 1471.81 L1659.83 1475.7 L1654.9 1475.7 L1654.9 1483.85 L1650.24 1483.85 L1650.24 1475.7 L1634.64 1475.7 L1634.64 1471.19 L1649.02 1449.29 Z\" fill=\"#000000\" fill-rule=\"evenodd\" fill-opacity=\"1\" /><path clip-path=\"url(#clip670)\" d=\"M 0 0 M2284.78 1449.29 L2303.14 1449.29 L2303.14 1453.23 L2289.06 1453.23 L2289.06 1461.7 Q2290.08 1461.35 2291.1 1461.19 Q2292.12 1461 2293.14 1461 Q2298.92 1461 2302.3 1464.18 Q2305.68 1467.35 2305.68 1472.76 Q2305.68 1478.34 2302.21 1481.44 Q2298.74 1484.52 2292.42 1484.52 Q2290.24 1484.52 2287.97 1484.15 Q2285.73 1483.78 2283.32 1483.04 L2283.32 1478.34 Q2285.4 1479.48 2287.63 1480.03 Q2289.85 1480.59 2292.33 1480.59 Q2296.33 1480.59 2298.67 1478.48 Q2301.01 1476.38 2301.01 1472.76 Q2301.01 1469.15 2298.67 1467.05 Q2296.33 1464.94 2292.33 1464.94 Q2290.45 1464.94 2288.58 1465.36 Q2286.72 1465.77 2284.78 1466.65 L2284.78 1449.29 Z\" fill=\"#000000\" fill-rule=\"evenodd\" fill-opacity=\"1\" /><path clip-path=\"url(#clip670)\" d=\"M 0 0 M1314.47 1545.45 L1294.19 1545.45 Q1294.67 1554.96 1296.87 1559 Q1299.6 1563.97 1304.35 1563.97 Q1309.12 1563.97 1311.76 1558.97 Q1314.09 1554.58 1314.47 1545.45 M1314.37 1540.03 Q1313.48 1531 1311.76 1527.81 Q1309.03 1522.78 1304.35 1522.78 Q1299.48 1522.78 1296.9 1527.75 Q1294.86 1531.76 1294.26 1540.03 L1314.37 1540.03 M1304.35 1518.01 Q1311.99 1518.01 1316.35 1524.76 Q1320.71 1531.47 1320.71 1543.38 Q1320.71 1555.25 1316.35 1562 Q1311.99 1568.78 1304.35 1568.78 Q1296.68 1568.78 1292.35 1562 Q1287.99 1555.25 1287.99 1543.38 Q1287.99 1531.47 1292.35 1524.76 Q1296.68 1518.01 1304.35 1518.01 Z\" fill=\"#000000\" fill-rule=\"evenodd\" fill-opacity=\"1\" /><path clip-path=\"url(#clip670)\" d=\"M 0 0 M1336.78 1562.63 L1359.22 1562.63 L1359.22 1568.04 L1329.05 1568.04 L1329.05 1562.63 Q1332.71 1558.85 1339.01 1552.48 Q1345.34 1546.08 1346.96 1544.24 Q1350.05 1540.77 1351.26 1538.38 Q1352.5 1535.96 1352.5 1533.64 Q1352.5 1529.85 1349.83 1527.46 Q1347.19 1525.08 1342.92 1525.08 Q1339.9 1525.08 1336.52 1526.13 Q1333.18 1527.18 1329.36 1529.31 L1329.36 1522.82 Q1333.25 1521.26 1336.62 1520.46 Q1339.99 1519.66 1342.8 1519.66 Q1350.18 1519.66 1354.57 1523.36 Q1358.96 1527.05 1358.96 1533.22 Q1358.96 1536.15 1357.85 1538.79 Q1356.77 1541.4 1353.87 1544.97 Q1353.08 1545.89 1348.81 1550.32 Q1344.55 1554.71 1336.78 1562.63 Z\" fill=\"#000000\" fill-rule=\"evenodd\" fill-opacity=\"1\" /><polyline clip-path=\"url(#clip672)\" style=\"stroke:#000000; stroke-width:2; stroke-opacity:0.1; fill:none\" points=\"\n",
       "  294.449,1162.07 2352.76,1162.07 \n",
       "  \"/>\n",
       "<polyline clip-path=\"url(#clip672)\" style=\"stroke:#000000; stroke-width:2; stroke-opacity:0.1; fill:none\" points=\"\n",
       "  294.449,860.134 2352.76,860.134 \n",
       "  \"/>\n",
       "<polyline clip-path=\"url(#clip672)\" style=\"stroke:#000000; stroke-width:2; stroke-opacity:0.1; fill:none\" points=\"\n",
       "  294.449,558.202 2352.76,558.202 \n",
       "  \"/>\n",
       "<polyline clip-path=\"url(#clip672)\" style=\"stroke:#000000; stroke-width:2; stroke-opacity:0.1; fill:none\" points=\"\n",
       "  294.449,256.271 2352.76,256.271 \n",
       "  \"/>\n",
       "<polyline clip-path=\"url(#clip670)\" style=\"stroke:#000000; stroke-width:4; stroke-opacity:1; fill:none\" points=\"\n",
       "  294.449,1423.18 294.449,47.2441 \n",
       "  \"/>\n",
       "<polyline clip-path=\"url(#clip670)\" style=\"stroke:#000000; stroke-width:4; stroke-opacity:1; fill:none\" points=\"\n",
       "  294.449,1162.07 319.149,1162.07 \n",
       "  \"/>\n",
       "<polyline clip-path=\"url(#clip670)\" style=\"stroke:#000000; stroke-width:4; stroke-opacity:1; fill:none\" points=\"\n",
       "  294.449,860.134 319.149,860.134 \n",
       "  \"/>\n",
       "<polyline clip-path=\"url(#clip670)\" style=\"stroke:#000000; stroke-width:4; stroke-opacity:1; fill:none\" points=\"\n",
       "  294.449,558.202 319.149,558.202 \n",
       "  \"/>\n",
       "<polyline clip-path=\"url(#clip670)\" style=\"stroke:#000000; stroke-width:4; stroke-opacity:1; fill:none\" points=\"\n",
       "  294.449,256.271 319.149,256.271 \n",
       "  \"/>\n",
       "<path clip-path=\"url(#clip670)\" d=\"M 0 0 M119.885 1175.41 L136.204 1175.41 L136.204 1179.35 L114.26 1179.35 L114.26 1175.41 Q116.922 1172.66 121.505 1168.03 Q126.112 1163.37 127.292 1162.03 Q129.538 1159.51 130.417 1157.77 Q131.32 1156.01 131.32 1154.32 Q131.32 1151.57 129.376 1149.83 Q127.455 1148.1 124.353 1148.1 Q122.154 1148.1 119.7 1148.86 Q117.269 1149.62 114.492 1151.17 L114.492 1146.45 Q117.316 1145.32 119.769 1144.74 Q122.223 1144.16 124.26 1144.16 Q129.63 1144.16 132.825 1146.85 Q136.019 1149.53 136.019 1154.02 Q136.019 1156.15 135.209 1158.07 Q134.422 1159.97 132.316 1162.56 Q131.737 1163.23 128.635 1166.45 Q125.533 1169.65 119.885 1175.41 Z\" fill=\"#000000\" fill-rule=\"evenodd\" fill-opacity=\"1\" /><path clip-path=\"url(#clip670)\" d=\"M 0 0 M144.839 1144.79 L167.061 1144.79 L167.061 1146.78 L154.515 1179.35 L149.63 1179.35 L161.436 1148.72 L144.839 1148.72 L144.839 1144.79 Z\" fill=\"#000000\" fill-rule=\"evenodd\" fill-opacity=\"1\" /><path clip-path=\"url(#clip670)\" d=\"M 0 0 M176.991 1175.41 L184.63 1175.41 L184.63 1149.05 L176.32 1150.71 L176.32 1146.45 L184.584 1144.79 L189.26 1144.79 L189.26 1175.41 L196.899 1175.41 L196.899 1179.35 L176.991 1179.35 L176.991 1175.41 Z\" fill=\"#000000\" fill-rule=\"evenodd\" fill-opacity=\"1\" /><path clip-path=\"url(#clip670)\" d=\"M 0 0 M210.371 1175.41 L226.69 1175.41 L226.69 1179.35 L204.746 1179.35 L204.746 1175.41 Q207.408 1172.66 211.991 1168.03 Q216.598 1163.37 217.778 1162.03 Q220.023 1159.51 220.903 1157.77 Q221.806 1156.01 221.806 1154.32 Q221.806 1151.57 219.861 1149.83 Q217.94 1148.1 214.838 1148.1 Q212.639 1148.1 210.186 1148.86 Q207.755 1149.62 204.977 1151.17 L204.977 1146.45 Q207.801 1145.32 210.255 1144.74 Q212.709 1144.16 214.746 1144.16 Q220.116 1144.16 223.31 1146.85 Q226.505 1149.53 226.505 1154.02 Q226.505 1156.15 225.695 1158.07 Q224.908 1159.97 222.801 1162.56 Q222.223 1163.23 219.121 1166.45 Q216.019 1169.65 210.371 1175.41 Z\" fill=\"#000000\" fill-rule=\"evenodd\" fill-opacity=\"1\" /><path clip-path=\"url(#clip670)\" d=\"M 0 0 M246.505 1147.86 Q242.894 1147.86 241.065 1151.43 Q239.259 1154.97 239.259 1162.1 Q239.259 1169.21 241.065 1172.77 Q242.894 1176.31 246.505 1176.31 Q250.139 1176.31 251.945 1172.77 Q253.773 1169.21 253.773 1162.1 Q253.773 1154.97 251.945 1151.43 Q250.139 1147.86 246.505 1147.86 M246.505 1144.16 Q252.315 1144.16 255.371 1148.77 Q258.449 1153.35 258.449 1162.1 Q258.449 1170.83 255.371 1175.43 Q252.315 1180.02 246.505 1180.02 Q240.695 1180.02 237.616 1175.43 Q234.56 1170.83 234.56 1162.1 Q234.56 1153.35 237.616 1148.77 Q240.695 1144.16 246.505 1144.16 Z\" fill=\"#000000\" fill-rule=\"evenodd\" fill-opacity=\"1\" /><path clip-path=\"url(#clip670)\" d=\"M 0 0 M119.885 873.479 L136.204 873.479 L136.204 877.414 L114.26 877.414 L114.26 873.479 Q116.922 870.724 121.505 866.095 Q126.112 861.442 127.292 860.099 Q129.538 857.576 130.417 855.84 Q131.32 854.081 131.32 852.391 Q131.32 849.637 129.376 847.9 Q127.455 846.164 124.353 846.164 Q122.154 846.164 119.7 846.928 Q117.269 847.692 114.492 849.243 L114.492 844.521 Q117.316 843.387 119.769 842.808 Q122.223 842.229 124.26 842.229 Q129.63 842.229 132.825 844.914 Q136.019 847.6 136.019 852.09 Q136.019 854.22 135.209 856.141 Q134.422 858.039 132.316 860.632 Q131.737 861.303 128.635 864.521 Q125.533 867.715 119.885 873.479 Z\" fill=\"#000000\" fill-rule=\"evenodd\" fill-opacity=\"1\" /><path clip-path=\"url(#clip670)\" d=\"M 0 0 M144.839 842.854 L167.061 842.854 L167.061 844.845 L154.515 877.414 L149.63 877.414 L161.436 846.789 L144.839 846.789 L144.839 842.854 Z\" fill=\"#000000\" fill-rule=\"evenodd\" fill-opacity=\"1\" /><path clip-path=\"url(#clip670)\" d=\"M 0 0 M176.991 873.479 L184.63 873.479 L184.63 847.113 L176.32 848.78 L176.32 844.521 L184.584 842.854 L189.26 842.854 L189.26 873.479 L196.899 873.479 L196.899 877.414 L176.991 877.414 L176.991 873.479 Z\" fill=\"#000000\" fill-rule=\"evenodd\" fill-opacity=\"1\" /><path clip-path=\"url(#clip670)\" d=\"M 0 0 M206.389 842.854 L224.746 842.854 L224.746 846.789 L210.672 846.789 L210.672 855.262 Q211.69 854.914 212.709 854.752 Q213.727 854.567 214.746 854.567 Q220.533 854.567 223.912 857.738 Q227.292 860.91 227.292 866.326 Q227.292 871.905 223.82 875.007 Q220.348 878.085 214.028 878.085 Q211.852 878.085 209.584 877.715 Q207.338 877.345 204.931 876.604 L204.931 871.905 Q207.014 873.039 209.237 873.595 Q211.459 874.15 213.936 874.15 Q217.94 874.15 220.278 872.044 Q222.616 869.937 222.616 866.326 Q222.616 862.715 220.278 860.609 Q217.94 858.502 213.936 858.502 Q212.061 858.502 210.186 858.919 Q208.334 859.336 206.389 860.215 L206.389 842.854 Z\" fill=\"#000000\" fill-rule=\"evenodd\" fill-opacity=\"1\" /><path clip-path=\"url(#clip670)\" d=\"M 0 0 M246.505 845.933 Q242.894 845.933 241.065 849.498 Q239.259 853.039 239.259 860.169 Q239.259 867.275 241.065 870.84 Q242.894 874.382 246.505 874.382 Q250.139 874.382 251.945 870.84 Q253.773 867.275 253.773 860.169 Q253.773 853.039 251.945 849.498 Q250.139 845.933 246.505 845.933 M246.505 842.229 Q252.315 842.229 255.371 846.836 Q258.449 851.419 258.449 860.169 Q258.449 868.896 255.371 873.502 Q252.315 878.085 246.505 878.085 Q240.695 878.085 237.616 873.502 Q234.56 868.896 234.56 860.169 Q234.56 851.419 237.616 846.836 Q240.695 842.229 246.505 842.229 Z\" fill=\"#000000\" fill-rule=\"evenodd\" fill-opacity=\"1\" /><path clip-path=\"url(#clip670)\" d=\"M 0 0 M119.885 571.547 L136.204 571.547 L136.204 575.482 L114.26 575.482 L114.26 571.547 Q116.922 568.793 121.505 564.163 Q126.112 559.51 127.292 558.168 Q129.538 555.645 130.417 553.908 Q131.32 552.149 131.32 550.459 Q131.32 547.705 129.376 545.969 Q127.455 544.233 124.353 544.233 Q122.154 544.233 119.7 544.996 Q117.269 545.76 114.492 547.311 L114.492 542.589 Q117.316 541.455 119.769 540.876 Q122.223 540.297 124.26 540.297 Q129.63 540.297 132.825 542.983 Q136.019 545.668 136.019 550.158 Q136.019 552.288 135.209 554.209 Q134.422 556.108 132.316 558.7 Q131.737 559.371 128.635 562.589 Q125.533 565.783 119.885 571.547 Z\" fill=\"#000000\" fill-rule=\"evenodd\" fill-opacity=\"1\" /><path clip-path=\"url(#clip670)\" d=\"M 0 0 M144.839 540.922 L167.061 540.922 L167.061 542.913 L154.515 575.482 L149.63 575.482 L161.436 544.858 L144.839 544.858 L144.839 540.922 Z\" fill=\"#000000\" fill-rule=\"evenodd\" fill-opacity=\"1\" /><path clip-path=\"url(#clip670)\" d=\"M 0 0 M176.991 571.547 L184.63 571.547 L184.63 545.182 L176.32 546.848 L176.32 542.589 L184.584 540.922 L189.26 540.922 L189.26 571.547 L196.899 571.547 L196.899 575.482 L176.991 575.482 L176.991 571.547 Z\" fill=\"#000000\" fill-rule=\"evenodd\" fill-opacity=\"1\" /><path clip-path=\"url(#clip670)\" d=\"M 0 0 M216.343 559.07 Q213.01 559.07 211.088 560.853 Q209.19 562.635 209.19 565.76 Q209.19 568.885 211.088 570.668 Q213.01 572.45 216.343 572.45 Q219.676 572.45 221.598 570.668 Q223.519 568.862 223.519 565.76 Q223.519 562.635 221.598 560.853 Q219.699 559.07 216.343 559.07 M211.667 557.08 Q208.658 556.339 206.968 554.279 Q205.301 552.219 205.301 549.256 Q205.301 545.112 208.241 542.705 Q211.204 540.297 216.343 540.297 Q221.505 540.297 224.445 542.705 Q227.385 545.112 227.385 549.256 Q227.385 552.219 225.695 554.279 Q224.028 556.339 221.042 557.08 Q224.422 557.867 226.297 560.158 Q228.195 562.45 228.195 565.76 Q228.195 570.783 225.116 573.469 Q222.061 576.154 216.343 576.154 Q210.625 576.154 207.547 573.469 Q204.491 570.783 204.491 565.76 Q204.491 562.45 206.389 560.158 Q208.287 557.867 211.667 557.08 M209.954 549.696 Q209.954 552.381 211.621 553.885 Q213.311 555.39 216.343 555.39 Q219.352 555.39 221.042 553.885 Q222.755 552.381 222.755 549.696 Q222.755 547.01 221.042 545.506 Q219.352 544.001 216.343 544.001 Q213.311 544.001 211.621 545.506 Q209.954 547.01 209.954 549.696 Z\" fill=\"#000000\" fill-rule=\"evenodd\" fill-opacity=\"1\" /><path clip-path=\"url(#clip670)\" d=\"M 0 0 M246.505 544.001 Q242.894 544.001 241.065 547.566 Q239.259 551.108 239.259 558.237 Q239.259 565.344 241.065 568.908 Q242.894 572.45 246.505 572.45 Q250.139 572.45 251.945 568.908 Q253.773 565.344 253.773 558.237 Q253.773 551.108 251.945 547.566 Q250.139 544.001 246.505 544.001 M246.505 540.297 Q252.315 540.297 255.371 544.904 Q258.449 549.487 258.449 558.237 Q258.449 566.964 255.371 571.57 Q252.315 576.154 246.505 576.154 Q240.695 576.154 237.616 571.57 Q234.56 566.964 234.56 558.237 Q234.56 549.487 237.616 544.904 Q240.695 540.297 246.505 540.297 Z\" fill=\"#000000\" fill-rule=\"evenodd\" fill-opacity=\"1\" /><path clip-path=\"url(#clip670)\" d=\"M 0 0 M119.885 269.616 L136.204 269.616 L136.204 273.551 L114.26 273.551 L114.26 269.616 Q116.922 266.861 121.505 262.231 Q126.112 257.579 127.292 256.236 Q129.538 253.713 130.417 251.977 Q131.32 250.217 131.32 248.528 Q131.32 245.773 129.376 244.037 Q127.455 242.301 124.353 242.301 Q122.154 242.301 119.7 243.065 Q117.269 243.829 114.492 245.38 L114.492 240.657 Q117.316 239.523 119.769 238.944 Q122.223 238.366 124.26 238.366 Q129.63 238.366 132.825 241.051 Q136.019 243.736 136.019 248.227 Q136.019 250.356 135.209 252.278 Q134.422 254.176 132.316 256.768 Q131.737 257.44 128.635 260.657 Q125.533 263.852 119.885 269.616 Z\" fill=\"#000000\" fill-rule=\"evenodd\" fill-opacity=\"1\" /><path clip-path=\"url(#clip670)\" d=\"M 0 0 M144.839 238.991 L167.061 238.991 L167.061 240.981 L154.515 273.551 L149.63 273.551 L161.436 242.926 L144.839 242.926 L144.839 238.991 Z\" fill=\"#000000\" fill-rule=\"evenodd\" fill-opacity=\"1\" /><path clip-path=\"url(#clip670)\" d=\"M 0 0 M180.209 269.616 L196.528 269.616 L196.528 273.551 L174.584 273.551 L174.584 269.616 Q177.246 266.861 181.829 262.231 Q186.436 257.579 187.616 256.236 Q189.862 253.713 190.741 251.977 Q191.644 250.217 191.644 248.528 Q191.644 245.773 189.7 244.037 Q187.778 242.301 184.676 242.301 Q182.477 242.301 180.024 243.065 Q177.593 243.829 174.815 245.38 L174.815 240.657 Q177.639 239.523 180.093 238.944 Q182.547 238.366 184.584 238.366 Q189.954 238.366 193.149 241.051 Q196.343 243.736 196.343 248.227 Q196.343 250.356 195.533 252.278 Q194.746 254.176 192.639 256.768 Q192.061 257.44 188.959 260.657 Q185.857 263.852 180.209 269.616 Z\" fill=\"#000000\" fill-rule=\"evenodd\" fill-opacity=\"1\" /><path clip-path=\"url(#clip670)\" d=\"M 0 0 M207.153 269.616 L214.792 269.616 L214.792 243.25 L206.482 244.917 L206.482 240.657 L214.746 238.991 L219.422 238.991 L219.422 269.616 L227.06 269.616 L227.06 273.551 L207.153 273.551 L207.153 269.616 Z\" fill=\"#000000\" fill-rule=\"evenodd\" fill-opacity=\"1\" /><path clip-path=\"url(#clip670)\" d=\"M 0 0 M246.505 242.069 Q242.894 242.069 241.065 245.634 Q239.259 249.176 239.259 256.305 Q239.259 263.412 241.065 266.977 Q242.894 270.518 246.505 270.518 Q250.139 270.518 251.945 266.977 Q253.773 263.412 253.773 256.305 Q253.773 249.176 251.945 245.634 Q250.139 242.069 246.505 242.069 M246.505 238.366 Q252.315 238.366 255.371 242.972 Q258.449 247.555 258.449 256.305 Q258.449 265.032 255.371 269.639 Q252.315 274.222 246.505 274.222 Q240.695 274.222 237.616 269.639 Q234.56 265.032 234.56 256.305 Q234.56 247.555 237.616 242.972 Q240.695 238.366 246.505 238.366 Z\" fill=\"#000000\" fill-rule=\"evenodd\" fill-opacity=\"1\" /><path clip-path=\"url(#clip670)\" d=\"M 0 0 M43.5384 772.117 L43.5384 754.962 L48.7583 754.962 L48.7583 772.117 L43.5384 772.117 Z\" fill=\"#000000\" fill-rule=\"evenodd\" fill-opacity=\"1\" /><path clip-path=\"url(#clip670)\" d=\"M 0 0 M58.5933 739.27 L58.5933 716.831 L64.0042 716.831 L64.0042 747.004 L58.5933 747.004 Q54.8057 743.344 48.44 737.042 Q42.0425 730.708 40.1964 729.085 Q36.7271 725.998 34.34 724.788 Q31.921 723.547 29.5975 723.547 Q25.8099 723.547 23.4228 726.22 Q21.0356 728.862 21.0356 733.127 Q21.0356 736.151 22.086 739.525 Q23.1363 742.867 25.2688 746.686 L18.7758 746.686 Q17.2162 742.803 16.4205 739.429 Q15.6248 736.055 15.6248 733.255 Q15.6248 725.87 19.3169 721.478 Q23.009 717.086 29.1837 717.086 Q32.112 717.086 34.7537 718.2 Q37.3637 719.282 40.9285 722.178 Q41.8515 722.974 46.2757 727.239 Q50.668 731.504 58.5933 739.27 Z\" fill=\"#000000\" fill-rule=\"evenodd\" fill-opacity=\"1\" /><path clip-path=\"url(#clip670)\" d=\"M 0 0 M14.479 704.163 L14.479 698.307 L64.0042 698.307 L64.0042 704.163 L14.479 704.163 Z\" fill=\"#000000\" fill-rule=\"evenodd\" fill-opacity=\"1\" /><polyline clip-path=\"url(#clip672)\" style=\"stroke:#009af9; stroke-width:4; stroke-opacity:1; fill:none\" points=\"\n",
       "  352.703,86.1857 482.156,578.33 611.61,916.981 741.063,1142.43 870.516,1282.87 999.969,1358.53 1129.42,1384.24 1258.88,1371.03 1388.33,1327.28 1517.78,1259.41 \n",
       "  1647.24,1172.42 1776.69,1070.21 1906.14,955.888 2035.6,831.941 2165.05,700.36 2294.5,562.759 \n",
       "  \"/>\n",
       "<polyline clip-path=\"url(#clip672)\" style=\"stroke:#ff0000; stroke-width:4; stroke-opacity:1; fill:none\" stroke-dasharray=\"16, 10\" points=\"\n",
       "  999.969,2799.12 999.969,-1328.69 \n",
       "  \"/>\n",
       "</svg>\n"
      ]
     },
     "execution_count": 8,
     "metadata": {},
     "output_type": "execute_result"
    }
   ],
   "source": [
    "θ2s = range(2.0,5.0,step=0.2)\n",
    "m2l = zeros(length(θ2s))\n",
    "for i in 1:length(θ2s)\n",
    "    m2l[i] = dev1(X,Z,y,log.([1.0,θ2s[i]]))\n",
    "end\n",
    "println(\"estimate: \",θ2s[m2l .== maximum(m2l)])\n",
    "plot(θ2s,m2l,legend=false,xlabel=\"θ2\",ylabel=\"-2l\")\n",
    "vline!([θ2],color=:red,linestyle=:dash,legend=false)"
   ]
  },
  {
   "cell_type": "code",
   "execution_count": 9,
   "metadata": {},
   "outputs": [
    {
     "name": "stdout",
     "output_type": "stream",
     "text": [
      " 21.156703 seconds (6.64 M allocations: 6.521 GiB, 7.66% gc time, 10.32% compilation time)\n",
      " * Status: success\n",
      "\n",
      " * Candidate solution\n",
      "    Final objective value:     2.707604e+04\n",
      "\n",
      " * Found with\n",
      "    Algorithm:     Nelder-Mead\n",
      "\n",
      " * Convergence measures\n",
      "    √(Σ(yᵢ-ȳ)²)/n ≤ 1.0e-01\n",
      "\n",
      " * Work counters\n",
      "    Seconds run:   16  (vs limit Inf)\n",
      "    Iterations:    10\n",
      "    f(x) calls:    23\n",
      "\n",
      "[1.0523399782540235, 3.266505129088487]\n"
     ]
    }
   ],
   "source": [
    "@time res = Optim.optimize(var -> dev1(X,Z,y,var), log.([1.0,3.0]),g_tol=0.1)\n",
    "println(res)\n",
    "println(exp.(Optim.minimizer(res)))"
   ]
  },
  {
   "cell_type": "markdown",
   "metadata": {},
   "source": [
    "### Method 2"
   ]
  },
  {
   "cell_type": "code",
   "execution_count": 10,
   "metadata": {},
   "outputs": [],
   "source": [
    "# based on standard formulation, y = X\\beta + Zb\n",
    "# b ~ N()\n",
    "# Y|B=b ~ N()"
   ]
  },
  {
   "cell_type": "code",
   "execution_count": 11,
   "metadata": {},
   "outputs": [
    {
     "data": {
      "text/plain": [
       "dev2 (generic function with 1 method)"
      ]
     },
     "execution_count": 11,
     "metadata": {},
     "output_type": "execute_result"
    }
   ],
   "source": [
    "function dev2(X,XtX,Z,ZtZ,XtZ,y,logθ)\n",
    "           θ_ = exp.(logθ)\n",
    "           Nn = length(y)\n",
    "           n = size(Z)[2]\n",
    "            p = (size(X)[2]-1)\n",
    "           MtM = [[XtX XtZ];[transpose(XtZ) ZtZ]]\n",
    "           M = [X Z]\n",
    "           LL = 1/θ_[1]*MtM + diagm([repeat([0.0],(p+1));repeat([1/θ_[2]],n)])\n",
    "           rr = 1/θ_[1]*transpose(M)*y\n",
    "           βb_ = LL \\ rr\n",
    "           β_ = βb_[1:(p+1)]\n",
    "           b_ = βb_[(p+2):end]\n",
    "           logdetθ = logdet(cholesky(1/θ_[1]*ZtZ + 1/θ_[2]*I))\n",
    "           m2l = (1/θ_[1])*sum((y - M*βb_).^2) + (1/θ_[2])*sum(b_.^2)+ 2*logdetθ  + n*log(θ_[2]) + N*n*log(θ_[1])\n",
    "           m2l\n",
    "       end"
   ]
  },
  {
   "cell_type": "code",
   "execution_count": 12,
   "metadata": {},
   "outputs": [
    {
     "name": "stdout",
     "output_type": "stream",
     "text": [
      "  0.483050 seconds (143 allocations: 211.947 MiB, 5.65% gc time)\n"
     ]
    },
    {
     "data": {
      "text/plain": [
       "27100.478962084057"
      ]
     },
     "execution_count": 12,
     "metadata": {},
     "output_type": "execute_result"
    }
   ],
   "source": [
    "XtX = transpose(X)*X\n",
    "ZtZ = transpose(Z)*Z\n",
    "XtZ = transpose(X)*Z\n",
    "\n",
    "dev2(X,XtX,Z,ZtZ,XtZ,y,log.([1.0,3.0]));\n",
    "@time dev2(X,XtX,Z,ZtZ,XtZ,y,log.([1.0,3.0]))"
   ]
  },
  {
   "cell_type": "code",
   "execution_count": 13,
   "metadata": {},
   "outputs": [
    {
     "name": "stdout",
     "output_type": "stream",
     "text": [
      " 11.218752 seconds (1.11 M allocations: 4.826 GiB, 6.13% gc time, 4.98% compilation time)\n",
      " * Status: success\n",
      "\n",
      " * Candidate solution\n",
      "    Final objective value:     2.707604e+04\n",
      "\n",
      " * Found with\n",
      "    Algorithm:     Nelder-Mead\n",
      "\n",
      " * Convergence measures\n",
      "    √(Σ(yᵢ-ȳ)²)/n ≤ 1.0e-01\n",
      "\n",
      " * Work counters\n",
      "    Seconds run:   9  (vs limit Inf)\n",
      "    Iterations:    10\n",
      "    f(x) calls:    23\n",
      "\n",
      "[1.0523399782540235, 3.266505129088487]\n"
     ]
    }
   ],
   "source": [
    "@time res = Optim.optimize(var -> dev2(X,XtX,Z,ZtZ,XtZ,y,var), log.([1.0,3.0]),g_tol=0.1)\n",
    "println(res)\n",
    "println(exp.(Optim.minimizer(res)))"
   ]
  },
  {
   "cell_type": "markdown",
   "metadata": {},
   "source": [
    "### Method 3"
   ]
  },
  {
   "cell_type": "code",
   "execution_count": 14,
   "metadata": {},
   "outputs": [],
   "source": [
    "# based on standard formulation, y = X\\beta + Zb\n",
    "# b ~ N()\n",
    "# Y|B=b ~ N()"
   ]
  },
  {
   "cell_type": "code",
   "execution_count": 15,
   "metadata": {},
   "outputs": [
    {
     "data": {
      "text/plain": [
       "dev3 (generic function with 1 method)"
      ]
     },
     "execution_count": 15,
     "metadata": {},
     "output_type": "execute_result"
    }
   ],
   "source": [
    "function dev3(X,XtX,Z,ZtZ,XtZ,y,logθ,n_levels)\n",
    "           θ_ = exp.(logθ)\n",
    "           Nn = length(y)\n",
    "           n = size(Z)[2]\n",
    "           p = (size(X)[2]-1)\n",
    "           MtM = [[XtX XtZ];[transpose(XtZ) ZtZ]]\n",
    "           M = [X Z]\n",
    "           LL = 1/θ_[1]*MtM + diagm([repeat([0.0],(p+1));repeat([1/θ_[2]],n)])\n",
    "           rr = 1/θ_[1]*transpose(M)*y\n",
    "           βb_ = LL \\ rr\n",
    "           β_ = βb_[1:(p+1)]\n",
    "           b_ = βb_[(p+2):end]\n",
    "           logdetθ = sum(log.((1/θ_[1])*n_levels .+ (1/θ_[2])))\n",
    "           m2l = (1/θ_[1])*sum((y - M*βb_).^2) + (1/θ_[2])*sum(b_.^2)+ 2*logdetθ  + n*log(θ_[2]) + N*n*log(θ_[1])\n",
    "           m2l\n",
    "       end"
   ]
  },
  {
   "cell_type": "code",
   "execution_count": 16,
   "metadata": {},
   "outputs": [],
   "source": [
    "n_levels = repeat([N],n);"
   ]
  },
  {
   "cell_type": "code",
   "execution_count": 17,
   "metadata": {},
   "outputs": [
    {
     "name": "stdout",
     "output_type": "stream",
     "text": [
      "  0.183738 seconds (104 allocations: 211.693 MiB, 11.47% gc time)\n"
     ]
    },
    {
     "data": {
      "text/plain": [
       "27100.478962083984"
      ]
     },
     "execution_count": 17,
     "metadata": {},
     "output_type": "execute_result"
    }
   ],
   "source": [
    "dev3(X,XtX,Z,ZtZ,XtZ,y,log.([1.0,3.0]),n_levels);\n",
    "@time dev3(X,XtX,Z,ZtZ,XtZ,y,log.([1.0,3.0]),n_levels)"
   ]
  },
  {
   "cell_type": "code",
   "execution_count": 18,
   "metadata": {},
   "outputs": [
    {
     "name": "stdout",
     "output_type": "stream",
     "text": [
      " 15.478292 seconds (1.11 M allocations: 6.681 GiB, 6.74% gc time, 3.68% compilation time)\n",
      " * Status: success\n",
      "\n",
      " * Candidate solution\n",
      "    Final objective value:     2.707592e+04\n",
      "\n",
      " * Found with\n",
      "    Algorithm:     Nelder-Mead\n",
      "\n",
      " * Convergence measures\n",
      "    √(Σ(yᵢ-ȳ)²)/n ≤ 1.0e-02\n",
      "\n",
      " * Work counters\n",
      "    Seconds run:   13  (vs limit Inf)\n",
      "    Iterations:    15\n",
      "    f(x) calls:    32\n",
      "\n",
      "[1.0501307840672454, 3.21964617847607]\n"
     ]
    }
   ],
   "source": [
    "@time res = Optim.optimize(var -> dev3(X,XtX,Z,ZtZ,XtZ,y,var,n_levels), log.([1.0,3.0]),g_tol=0.01)\n",
    "println(res)\n",
    "println(exp.(Optim.minimizer(res)))"
   ]
  },
  {
   "cell_type": "code",
   "execution_count": 19,
   "metadata": {},
   "outputs": [
    {
     "data": {
      "text/plain": [
       "27100.478962083984"
      ]
     },
     "execution_count": 19,
     "metadata": {},
     "output_type": "execute_result"
    }
   ],
   "source": [
    "function fdev3(var::Vector,grad::Vector)\n",
    "    if (length(grad) > 0)\n",
    "        \n",
    "    end\n",
    "    dev3(X,XtX,Z,ZtZ,XtZ,y,var,n_levels)\n",
    "end\n",
    "fdev3(log.([1.0,3.0]),[])"
   ]
  },
  {
   "cell_type": "code",
   "execution_count": 20,
   "metadata": {},
   "outputs": [
    {
     "name": "stdout",
     "output_type": "stream",
     "text": [
      "  5.776062 seconds (2.38 k allocations: 2.274 GiB, 7.27% gc time, 0.28% compilation time)\n",
      "got 27100.478962083984 at [1.0, 3.0000000000000004] after 11 iterations (returned FTOL_REACHED)\n"
     ]
    }
   ],
   "source": [
    "opt = NLopt.Opt(:LN_NELDERMEAD, 2)\n",
    "opt.min_objective = fdev3\n",
    "opt.ftol_rel = 0.01\n",
    "@time (minf,minx,ret) = NLopt.optimize(opt,log.([1.0,3.0]))\n",
    "minx = exp.(minx)\n",
    "numevals = opt.numevals\n",
    "println(\"got $minf at $minx after $numevals iterations (returned $ret)\")"
   ]
  },
  {
   "cell_type": "code",
   "execution_count": 21,
   "metadata": {},
   "outputs": [
    {
     "name": "stdout",
     "output_type": "stream",
     "text": [
      "  4.043573 seconds (837 allocations: 1.654 GiB, 6.92% gc time)\n",
      "got 27078.56747048579 at [1.0681937648788065, 3.258206893266905] after 8 iterations (returned FTOL_REACHED)\n"
     ]
    }
   ],
   "source": [
    "opt = NLopt.Opt(:LN_BOBYQA, 2)\n",
    "opt.min_objective = fdev3\n",
    "opt.ftol_rel = 0.01\n",
    "@time (minf,minx,ret) = NLopt.optimize(opt,log.([1.0,3.0]))\n",
    "minx = exp.(minx)\n",
    "numevals = opt.numevals\n",
    "println(\"got $minf at $minx after $numevals iterations (returned $ret)\")"
   ]
  },
  {
   "cell_type": "markdown",
   "metadata": {},
   "source": [
    "### Method 4"
   ]
  },
  {
   "cell_type": "code",
   "execution_count": 22,
   "metadata": {},
   "outputs": [],
   "source": [
    "# based on Bates spherical RE formulation, y = X\\beta + Z\\Lambda u\n",
    "# u ~ N(0,sigmaI)\n",
    "# Y|B=b ~ N()"
   ]
  },
  {
   "cell_type": "code",
   "execution_count": 23,
   "metadata": {},
   "outputs": [
    {
     "data": {
      "text/plain": [
       "dev4 (generic function with 1 method)"
      ]
     },
     "execution_count": 23,
     "metadata": {},
     "output_type": "execute_result"
    }
   ],
   "source": [
    "function dev4(X,Z,y,logθ2)\n",
    "    θ2 = exp.(logθ2)[1]\n",
    "    θ1 = 1.0\n",
    "    Nn = length(y)\n",
    "    n = size(Z)[2]\n",
    "    p = (size(X)[2]-1)\n",
    "    ϕθ = Matrix(θ1*I,N*n,N*n) # noise ~ N(0,Λθ)\n",
    "    Λθ = Matrix(sqrt(θ2)*I,n,n)  # b ~ N(0,ϕθ)\n",
    "    D = [[transpose(Λθ)*transpose(Z)*Z*Λθ + I transpose(Λθ)*transpose(Z)*X]; [transpose(X)*Z*Λθ transpose(X)*X]]\n",
    "    yy = [transpose(Λθ)*transpose(Z)*y; transpose(X)*y];\n",
    "    uβ_ = D \\ yy\n",
    "    u_ = uβ_[1:n]\n",
    "    β_ = uβ_[(n+1):end]\n",
    "    rr = sum((y - X*β_ - Z*Λθ*u_).^2) + sum(u_ .^2)\n",
    "    logdet(transpose(Λθ)*transpose(Z)*Z*Λθ + I) + Nn*(1 + log((2*pi*rr)/(Nn)))\n",
    "end"
   ]
  },
  {
   "cell_type": "code",
   "execution_count": 24,
   "metadata": {},
   "outputs": [
    {
     "name": "stdout",
     "output_type": "stream",
     "text": [
      "  3.483700 seconds (71 allocations: 3.815 GiB, 27.69% gc time)\n"
     ]
    },
    {
     "data": {
      "text/plain": [
       "60845.74587216641"
      ]
     },
     "execution_count": 24,
     "metadata": {},
     "output_type": "execute_result"
    }
   ],
   "source": [
    "dev4(X,Z,y,log.([3.0]));\n",
    "@time dev4(X,Z,y,log.([3.0]))"
   ]
  },
  {
   "cell_type": "code",
   "execution_count": 25,
   "metadata": {},
   "outputs": [
    {
     "name": "stdout",
     "output_type": "stream",
     "text": [
      "estimate: [2.0]\n"
     ]
    },
    {
     "data": {
      "image/svg+xml": [
       "<?xml version=\"1.0\" encoding=\"utf-8\"?>\n",
       "<svg xmlns=\"http://www.w3.org/2000/svg\" xmlns:xlink=\"http://www.w3.org/1999/xlink\" width=\"600\" height=\"400\" viewBox=\"0 0 2400 1600\">\n",
       "<defs>\n",
       "  <clipPath id=\"clip710\">\n",
       "    <rect x=\"0\" y=\"0\" width=\"2400\" height=\"1600\"/>\n",
       "  </clipPath>\n",
       "</defs>\n",
       "<path clip-path=\"url(#clip710)\" d=\"\n",
       "M0 1600 L2400 1600 L2400 0 L0 0  Z\n",
       "  \" fill=\"#ffffff\" fill-rule=\"evenodd\" fill-opacity=\"1\"/>\n",
       "<defs>\n",
       "  <clipPath id=\"clip711\">\n",
       "    <rect x=\"480\" y=\"0\" width=\"1681\" height=\"1600\"/>\n",
       "  </clipPath>\n",
       "</defs>\n",
       "<path clip-path=\"url(#clip710)\" d=\"\n",
       "M294.611 1423.18 L2352.76 1423.18 L2352.76 47.2441 L294.611 47.2441  Z\n",
       "  \" fill=\"#ffffff\" fill-rule=\"evenodd\" fill-opacity=\"1\"/>\n",
       "<defs>\n",
       "  <clipPath id=\"clip712\">\n",
       "    <rect x=\"294\" y=\"47\" width=\"2059\" height=\"1377\"/>\n",
       "  </clipPath>\n",
       "</defs>\n",
       "<polyline clip-path=\"url(#clip712)\" style=\"stroke:#000000; stroke-width:2; stroke-opacity:0.1; fill:none\" points=\"\n",
       "  352.861,1423.18 352.861,47.2441 \n",
       "  \"/>\n",
       "<polyline clip-path=\"url(#clip712)\" style=\"stroke:#000000; stroke-width:2; stroke-opacity:0.1; fill:none\" points=\"\n",
       "  838.272,1423.18 838.272,47.2441 \n",
       "  \"/>\n",
       "<polyline clip-path=\"url(#clip712)\" style=\"stroke:#000000; stroke-width:2; stroke-opacity:0.1; fill:none\" points=\"\n",
       "  1323.68,1423.18 1323.68,47.2441 \n",
       "  \"/>\n",
       "<polyline clip-path=\"url(#clip712)\" style=\"stroke:#000000; stroke-width:2; stroke-opacity:0.1; fill:none\" points=\"\n",
       "  1809.1,1423.18 1809.1,47.2441 \n",
       "  \"/>\n",
       "<polyline clip-path=\"url(#clip712)\" style=\"stroke:#000000; stroke-width:2; stroke-opacity:0.1; fill:none\" points=\"\n",
       "  2294.51,1423.18 2294.51,47.2441 \n",
       "  \"/>\n",
       "<polyline clip-path=\"url(#clip710)\" style=\"stroke:#000000; stroke-width:4; stroke-opacity:1; fill:none\" points=\"\n",
       "  294.611,1423.18 2352.76,1423.18 \n",
       "  \"/>\n",
       "<polyline clip-path=\"url(#clip710)\" style=\"stroke:#000000; stroke-width:4; stroke-opacity:1; fill:none\" points=\"\n",
       "  352.861,1423.18 352.861,1406.67 \n",
       "  \"/>\n",
       "<polyline clip-path=\"url(#clip710)\" style=\"stroke:#000000; stroke-width:4; stroke-opacity:1; fill:none\" points=\"\n",
       "  838.272,1423.18 838.272,1406.67 \n",
       "  \"/>\n",
       "<polyline clip-path=\"url(#clip710)\" style=\"stroke:#000000; stroke-width:4; stroke-opacity:1; fill:none\" points=\"\n",
       "  1323.68,1423.18 1323.68,1406.67 \n",
       "  \"/>\n",
       "<polyline clip-path=\"url(#clip710)\" style=\"stroke:#000000; stroke-width:4; stroke-opacity:1; fill:none\" points=\"\n",
       "  1809.1,1423.18 1809.1,1406.67 \n",
       "  \"/>\n",
       "<polyline clip-path=\"url(#clip710)\" style=\"stroke:#000000; stroke-width:4; stroke-opacity:1; fill:none\" points=\"\n",
       "  2294.51,1423.18 2294.51,1406.67 \n",
       "  \"/>\n",
       "<path clip-path=\"url(#clip710)\" d=\"M 0 0 M324.099 1479.92 L340.419 1479.92 L340.419 1483.85 L318.474 1483.85 L318.474 1479.92 Q321.136 1477.16 325.72 1472.53 Q330.326 1467.88 331.507 1466.54 Q333.752 1464.01 334.632 1462.28 Q335.534 1460.52 335.534 1458.83 Q335.534 1456.07 333.59 1454.34 Q331.669 1452.6 328.567 1452.6 Q326.368 1452.6 323.914 1453.37 Q321.483 1454.13 318.706 1455.68 L318.706 1450.96 Q321.53 1449.82 323.983 1449.25 Q326.437 1448.67 328.474 1448.67 Q333.845 1448.67 337.039 1451.35 Q340.233 1454.04 340.233 1458.53 Q340.233 1460.66 339.423 1462.58 Q338.636 1464.48 336.53 1467.07 Q335.951 1467.74 332.849 1470.96 Q329.747 1474.15 324.099 1479.92 Z\" fill=\"#000000\" fill-rule=\"evenodd\" fill-opacity=\"1\" /><path clip-path=\"url(#clip710)\" d=\"M 0 0 M350.233 1477.97 L355.118 1477.97 L355.118 1483.85 L350.233 1483.85 L350.233 1477.97 Z\" fill=\"#000000\" fill-rule=\"evenodd\" fill-opacity=\"1\" /><path clip-path=\"url(#clip710)\" d=\"M 0 0 M375.303 1452.37 Q371.692 1452.37 369.863 1455.94 Q368.057 1459.48 368.057 1466.61 Q368.057 1473.71 369.863 1477.28 Q371.692 1480.82 375.303 1480.82 Q378.937 1480.82 380.742 1477.28 Q382.571 1473.71 382.571 1466.61 Q382.571 1459.48 380.742 1455.94 Q378.937 1452.37 375.303 1452.37 M375.303 1448.67 Q381.113 1448.67 384.168 1453.27 Q387.247 1457.86 387.247 1466.61 Q387.247 1475.33 384.168 1479.94 Q381.113 1484.52 375.303 1484.52 Q369.492 1484.52 366.414 1479.94 Q363.358 1475.33 363.358 1466.61 Q363.358 1457.86 366.414 1453.27 Q369.492 1448.67 375.303 1448.67 Z\" fill=\"#000000\" fill-rule=\"evenodd\" fill-opacity=\"1\" /><path clip-path=\"url(#clip710)\" d=\"M 0 0 M810.008 1479.92 L826.328 1479.92 L826.328 1483.85 L804.383 1483.85 L804.383 1479.92 Q807.045 1477.16 811.629 1472.53 Q816.235 1467.88 817.416 1466.54 Q819.661 1464.01 820.541 1462.28 Q821.443 1460.52 821.443 1458.83 Q821.443 1456.07 819.499 1454.34 Q817.578 1452.6 814.476 1452.6 Q812.277 1452.6 809.823 1453.37 Q807.393 1454.13 804.615 1455.68 L804.615 1450.96 Q807.439 1449.82 809.893 1449.25 Q812.346 1448.67 814.383 1448.67 Q819.754 1448.67 822.948 1451.35 Q826.143 1454.04 826.143 1458.53 Q826.143 1460.66 825.332 1462.58 Q824.545 1464.48 822.439 1467.07 Q821.86 1467.74 818.758 1470.96 Q815.656 1474.15 810.008 1479.92 Z\" fill=\"#000000\" fill-rule=\"evenodd\" fill-opacity=\"1\" /><path clip-path=\"url(#clip710)\" d=\"M 0 0 M836.142 1477.97 L841.027 1477.97 L841.027 1483.85 L836.142 1483.85 L836.142 1477.97 Z\" fill=\"#000000\" fill-rule=\"evenodd\" fill-opacity=\"1\" /><path clip-path=\"url(#clip710)\" d=\"M 0 0 M851.258 1449.29 L869.615 1449.29 L869.615 1453.23 L855.541 1453.23 L855.541 1461.7 Q856.559 1461.35 857.578 1461.19 Q858.596 1461 859.615 1461 Q865.402 1461 868.781 1464.18 Q872.161 1467.35 872.161 1472.76 Q872.161 1478.34 868.689 1481.44 Q865.216 1484.52 858.897 1484.52 Q856.721 1484.52 854.453 1484.15 Q852.207 1483.78 849.8 1483.04 L849.8 1478.34 Q851.883 1479.48 854.105 1480.03 Q856.328 1480.59 858.804 1480.59 Q862.809 1480.59 865.147 1478.48 Q867.485 1476.38 867.485 1472.76 Q867.485 1469.15 865.147 1467.05 Q862.809 1464.94 858.804 1464.94 Q856.929 1464.94 855.054 1465.36 Q853.203 1465.77 851.258 1466.65 L851.258 1449.29 Z\" fill=\"#000000\" fill-rule=\"evenodd\" fill-opacity=\"1\" /><path clip-path=\"url(#clip710)\" d=\"M 0 0 M1304.99 1465.22 Q1308.35 1465.94 1310.22 1468.2 Q1312.12 1470.47 1312.12 1473.81 Q1312.12 1478.92 1308.6 1481.72 Q1305.08 1484.52 1298.6 1484.52 Q1296.43 1484.52 1294.11 1484.08 Q1291.82 1483.67 1289.37 1482.81 L1289.37 1478.3 Q1291.31 1479.43 1293.63 1480.01 Q1295.94 1480.59 1298.46 1480.59 Q1302.86 1480.59 1305.15 1478.85 Q1307.47 1477.12 1307.47 1473.81 Q1307.47 1470.75 1305.32 1469.04 Q1303.19 1467.3 1299.37 1467.3 L1295.34 1467.3 L1295.34 1463.46 L1299.55 1463.46 Q1303 1463.46 1304.83 1462.09 Q1306.66 1460.7 1306.66 1458.11 Q1306.66 1455.45 1304.76 1454.04 Q1302.89 1452.6 1299.37 1452.6 Q1297.45 1452.6 1295.25 1453.02 Q1293.05 1453.44 1290.41 1454.31 L1290.41 1450.15 Q1293.07 1449.41 1295.39 1449.04 Q1297.72 1448.67 1299.78 1448.67 Q1305.11 1448.67 1308.21 1451.1 Q1311.31 1453.5 1311.31 1457.63 Q1311.31 1460.5 1309.67 1462.49 Q1308.02 1464.45 1304.99 1465.22 Z\" fill=\"#000000\" fill-rule=\"evenodd\" fill-opacity=\"1\" /><path clip-path=\"url(#clip710)\" d=\"M 0 0 M1320.99 1477.97 L1325.87 1477.97 L1325.87 1483.85 L1320.99 1483.85 L1320.99 1477.97 Z\" fill=\"#000000\" fill-rule=\"evenodd\" fill-opacity=\"1\" /><path clip-path=\"url(#clip710)\" d=\"M 0 0 M1346.06 1452.37 Q1342.45 1452.37 1340.62 1455.94 Q1338.81 1459.48 1338.81 1466.61 Q1338.81 1473.71 1340.62 1477.28 Q1342.45 1480.82 1346.06 1480.82 Q1349.69 1480.82 1351.5 1477.28 Q1353.32 1473.71 1353.32 1466.61 Q1353.32 1459.48 1351.5 1455.94 Q1349.69 1452.37 1346.06 1452.37 M1346.06 1448.67 Q1351.87 1448.67 1354.92 1453.27 Q1358 1457.86 1358 1466.61 Q1358 1475.33 1354.92 1479.94 Q1351.87 1484.52 1346.06 1484.52 Q1340.25 1484.52 1337.17 1479.94 Q1334.11 1475.33 1334.11 1466.61 Q1334.11 1457.86 1337.17 1453.27 Q1340.25 1448.67 1346.06 1448.67 Z\" fill=\"#000000\" fill-rule=\"evenodd\" fill-opacity=\"1\" /><path clip-path=\"url(#clip710)\" d=\"M 0 0 M1790.9 1465.22 Q1794.26 1465.94 1796.13 1468.2 Q1798.03 1470.47 1798.03 1473.81 Q1798.03 1478.92 1794.51 1481.72 Q1790.99 1484.52 1784.51 1484.52 Q1782.34 1484.52 1780.02 1484.08 Q1777.73 1483.67 1775.28 1482.81 L1775.28 1478.3 Q1777.22 1479.43 1779.54 1480.01 Q1781.85 1480.59 1784.37 1480.59 Q1788.77 1480.59 1791.06 1478.85 Q1793.38 1477.12 1793.38 1473.81 Q1793.38 1470.75 1791.22 1469.04 Q1789.1 1467.3 1785.28 1467.3 L1781.25 1467.3 L1781.25 1463.46 L1785.46 1463.46 Q1788.91 1463.46 1790.74 1462.09 Q1792.57 1460.7 1792.57 1458.11 Q1792.57 1455.45 1790.67 1454.04 Q1788.79 1452.6 1785.28 1452.6 Q1783.35 1452.6 1781.16 1453.02 Q1778.96 1453.44 1776.32 1454.31 L1776.32 1450.15 Q1778.98 1449.41 1781.29 1449.04 Q1783.63 1448.67 1785.69 1448.67 Q1791.02 1448.67 1794.12 1451.1 Q1797.22 1453.5 1797.22 1457.63 Q1797.22 1460.5 1795.58 1462.49 Q1793.93 1464.45 1790.9 1465.22 Z\" fill=\"#000000\" fill-rule=\"evenodd\" fill-opacity=\"1\" /><path clip-path=\"url(#clip710)\" d=\"M 0 0 M1806.9 1477.97 L1811.78 1477.97 L1811.78 1483.85 L1806.9 1483.85 L1806.9 1477.97 Z\" fill=\"#000000\" fill-rule=\"evenodd\" fill-opacity=\"1\" /><path clip-path=\"url(#clip710)\" d=\"M 0 0 M1822.01 1449.29 L1840.37 1449.29 L1840.37 1453.23 L1826.29 1453.23 L1826.29 1461.7 Q1827.31 1461.35 1828.33 1461.19 Q1829.35 1461 1830.37 1461 Q1836.16 1461 1839.53 1464.18 Q1842.91 1467.35 1842.91 1472.76 Q1842.91 1478.34 1839.44 1481.44 Q1835.97 1484.52 1829.65 1484.52 Q1827.47 1484.52 1825.21 1484.15 Q1822.96 1483.78 1820.55 1483.04 L1820.55 1478.34 Q1822.64 1479.48 1824.86 1480.03 Q1827.08 1480.59 1829.56 1480.59 Q1833.56 1480.59 1835.9 1478.48 Q1838.24 1476.38 1838.24 1472.76 Q1838.24 1469.15 1835.9 1467.05 Q1833.56 1464.94 1829.56 1464.94 Q1827.68 1464.94 1825.81 1465.36 Q1823.96 1465.77 1822.01 1466.65 L1822.01 1449.29 Z\" fill=\"#000000\" fill-rule=\"evenodd\" fill-opacity=\"1\" /><path clip-path=\"url(#clip710)\" d=\"M 0 0 M2275.14 1453.37 L2263.34 1471.81 L2275.14 1471.81 L2275.14 1453.37 M2273.92 1449.29 L2279.8 1449.29 L2279.8 1471.81 L2284.73 1471.81 L2284.73 1475.7 L2279.8 1475.7 L2279.8 1483.85 L2275.14 1483.85 L2275.14 1475.7 L2259.54 1475.7 L2259.54 1471.19 L2273.92 1449.29 Z\" fill=\"#000000\" fill-rule=\"evenodd\" fill-opacity=\"1\" /><path clip-path=\"url(#clip710)\" d=\"M 0 0 M2292.46 1477.97 L2297.34 1477.97 L2297.34 1483.85 L2292.46 1483.85 L2292.46 1477.97 Z\" fill=\"#000000\" fill-rule=\"evenodd\" fill-opacity=\"1\" /><path clip-path=\"url(#clip710)\" d=\"M 0 0 M2317.53 1452.37 Q2313.92 1452.37 2312.09 1455.94 Q2310.28 1459.48 2310.28 1466.61 Q2310.28 1473.71 2312.09 1477.28 Q2313.92 1480.82 2317.53 1480.82 Q2321.16 1480.82 2322.97 1477.28 Q2324.8 1473.71 2324.8 1466.61 Q2324.8 1459.48 2322.97 1455.94 Q2321.16 1452.37 2317.53 1452.37 M2317.53 1448.67 Q2323.34 1448.67 2326.39 1453.27 Q2329.47 1457.86 2329.47 1466.61 Q2329.47 1475.33 2326.39 1479.94 Q2323.34 1484.52 2317.53 1484.52 Q2311.72 1484.52 2308.64 1479.94 Q2305.58 1475.33 2305.58 1466.61 Q2305.58 1457.86 2308.64 1453.27 Q2311.72 1448.67 2317.53 1448.67 Z\" fill=\"#000000\" fill-rule=\"evenodd\" fill-opacity=\"1\" /><path clip-path=\"url(#clip710)\" d=\"M 0 0 M1314.55 1545.45 L1294.27 1545.45 Q1294.75 1554.96 1296.95 1559 Q1299.68 1563.97 1304.43 1563.97 Q1309.2 1563.97 1311.84 1558.97 Q1314.17 1554.58 1314.55 1545.45 M1314.45 1540.03 Q1313.56 1531 1311.84 1527.81 Q1309.11 1522.78 1304.43 1522.78 Q1299.56 1522.78 1296.98 1527.75 Q1294.94 1531.76 1294.34 1540.03 L1314.45 1540.03 M1304.43 1518.01 Q1312.07 1518.01 1316.43 1524.76 Q1320.79 1531.47 1320.79 1543.38 Q1320.79 1555.25 1316.43 1562 Q1312.07 1568.78 1304.43 1568.78 Q1296.76 1568.78 1292.43 1562 Q1288.07 1555.25 1288.07 1543.38 Q1288.07 1531.47 1292.43 1524.76 Q1296.76 1518.01 1304.43 1518.01 Z\" fill=\"#000000\" fill-rule=\"evenodd\" fill-opacity=\"1\" /><path clip-path=\"url(#clip710)\" d=\"M 0 0 M1336.86 1562.63 L1359.3 1562.63 L1359.3 1568.04 L1329.13 1568.04 L1329.13 1562.63 Q1332.79 1558.85 1339.09 1552.48 Q1345.42 1546.08 1347.05 1544.24 Q1350.13 1540.77 1351.34 1538.38 Q1352.58 1535.96 1352.58 1533.64 Q1352.58 1529.85 1349.91 1527.46 Q1347.27 1525.08 1343 1525.08 Q1339.98 1525.08 1336.61 1526.13 Q1333.26 1527.18 1329.44 1529.31 L1329.44 1522.82 Q1333.33 1521.26 1336.7 1520.46 Q1340.08 1519.66 1342.88 1519.66 Q1350.26 1519.66 1354.65 1523.36 Q1359.05 1527.05 1359.05 1533.22 Q1359.05 1536.15 1357.93 1538.79 Q1356.85 1541.4 1353.95 1544.97 Q1353.16 1545.89 1348.89 1550.32 Q1344.63 1554.71 1336.86 1562.63 Z\" fill=\"#000000\" fill-rule=\"evenodd\" fill-opacity=\"1\" /><polyline clip-path=\"url(#clip712)\" style=\"stroke:#000000; stroke-width:2; stroke-opacity:0.1; fill:none\" points=\"\n",
       "  294.611,1318.14 2352.76,1318.14 \n",
       "  \"/>\n",
       "<polyline clip-path=\"url(#clip712)\" style=\"stroke:#000000; stroke-width:2; stroke-opacity:0.1; fill:none\" points=\"\n",
       "  294.611,1033.08 2352.76,1033.08 \n",
       "  \"/>\n",
       "<polyline clip-path=\"url(#clip712)\" style=\"stroke:#000000; stroke-width:2; stroke-opacity:0.1; fill:none\" points=\"\n",
       "  294.611,748.006 2352.76,748.006 \n",
       "  \"/>\n",
       "<polyline clip-path=\"url(#clip712)\" style=\"stroke:#000000; stroke-width:2; stroke-opacity:0.1; fill:none\" points=\"\n",
       "  294.611,462.937 2352.76,462.937 \n",
       "  \"/>\n",
       "<polyline clip-path=\"url(#clip712)\" style=\"stroke:#000000; stroke-width:2; stroke-opacity:0.1; fill:none\" points=\"\n",
       "  294.611,177.867 2352.76,177.867 \n",
       "  \"/>\n",
       "<polyline clip-path=\"url(#clip710)\" style=\"stroke:#000000; stroke-width:4; stroke-opacity:1; fill:none\" points=\"\n",
       "  294.611,1423.18 294.611,47.2441 \n",
       "  \"/>\n",
       "<polyline clip-path=\"url(#clip710)\" style=\"stroke:#000000; stroke-width:4; stroke-opacity:1; fill:none\" points=\"\n",
       "  294.611,1318.14 319.309,1318.14 \n",
       "  \"/>\n",
       "<polyline clip-path=\"url(#clip710)\" style=\"stroke:#000000; stroke-width:4; stroke-opacity:1; fill:none\" points=\"\n",
       "  294.611,1033.08 319.309,1033.08 \n",
       "  \"/>\n",
       "<polyline clip-path=\"url(#clip710)\" style=\"stroke:#000000; stroke-width:4; stroke-opacity:1; fill:none\" points=\"\n",
       "  294.611,748.006 319.309,748.006 \n",
       "  \"/>\n",
       "<polyline clip-path=\"url(#clip710)\" style=\"stroke:#000000; stroke-width:4; stroke-opacity:1; fill:none\" points=\"\n",
       "  294.611,462.937 319.309,462.937 \n",
       "  \"/>\n",
       "<polyline clip-path=\"url(#clip710)\" style=\"stroke:#000000; stroke-width:4; stroke-opacity:1; fill:none\" points=\"\n",
       "  294.611,177.867 319.309,177.867 \n",
       "  \"/>\n",
       "<path clip-path=\"url(#clip710)\" d=\"M 0 0 M126.598 1316.28 Q123.45 1316.28 121.598 1318.43 Q119.769 1320.59 119.769 1324.34 Q119.769 1328.06 121.598 1330.24 Q123.45 1332.39 126.598 1332.39 Q129.746 1332.39 131.575 1330.24 Q133.427 1328.06 133.427 1324.34 Q133.427 1320.59 131.575 1318.43 Q129.746 1316.28 126.598 1316.28 M135.88 1301.63 L135.88 1305.89 Q134.121 1305.05 132.316 1304.61 Q130.533 1304.17 128.774 1304.17 Q124.144 1304.17 121.691 1307.3 Q119.26 1310.42 118.913 1316.74 Q120.279 1314.73 122.339 1313.67 Q124.399 1312.58 126.876 1312.58 Q132.084 1312.58 135.093 1315.75 Q138.126 1318.9 138.126 1324.34 Q138.126 1329.66 134.978 1332.88 Q131.83 1336.1 126.598 1336.1 Q120.603 1336.1 117.431 1331.51 Q114.26 1326.91 114.26 1318.18 Q114.26 1309.98 118.149 1305.12 Q122.038 1300.24 128.589 1300.24 Q130.348 1300.24 132.13 1300.59 Q133.936 1300.93 135.88 1301.63 Z\" fill=\"#000000\" fill-rule=\"evenodd\" fill-opacity=\"1\" /><path clip-path=\"url(#clip710)\" d=\"M 0 0 M156.181 1303.94 Q152.57 1303.94 150.741 1307.51 Q148.936 1311.05 148.936 1318.18 Q148.936 1325.29 150.741 1328.85 Q152.57 1332.39 156.181 1332.39 Q159.815 1332.39 161.621 1328.85 Q163.45 1325.29 163.45 1318.18 Q163.45 1311.05 161.621 1307.51 Q159.815 1303.94 156.181 1303.94 M156.181 1300.24 Q161.991 1300.24 165.047 1304.85 Q168.126 1309.43 168.126 1318.18 Q168.126 1326.91 165.047 1331.51 Q161.991 1336.1 156.181 1336.1 Q150.371 1336.1 147.292 1331.51 Q144.237 1326.91 144.237 1318.18 Q144.237 1309.43 147.292 1304.85 Q150.371 1300.24 156.181 1300.24 Z\" fill=\"#000000\" fill-rule=\"evenodd\" fill-opacity=\"1\" /><path clip-path=\"url(#clip710)\" d=\"M 0 0 M186.343 1319.01 Q183.01 1319.01 181.089 1320.8 Q179.19 1322.58 179.19 1325.7 Q179.19 1328.83 181.089 1330.61 Q183.01 1332.39 186.343 1332.39 Q189.676 1332.39 191.598 1330.61 Q193.519 1328.8 193.519 1325.7 Q193.519 1322.58 191.598 1320.8 Q189.7 1319.01 186.343 1319.01 M181.667 1317.02 Q178.658 1316.28 176.968 1314.22 Q175.301 1312.16 175.301 1309.2 Q175.301 1305.05 178.241 1302.65 Q181.204 1300.24 186.343 1300.24 Q191.505 1300.24 194.445 1302.65 Q197.385 1305.05 197.385 1309.2 Q197.385 1312.16 195.695 1314.22 Q194.028 1316.28 191.042 1317.02 Q194.422 1317.81 196.297 1320.1 Q198.195 1322.39 198.195 1325.7 Q198.195 1330.73 195.116 1333.41 Q192.061 1336.1 186.343 1336.1 Q180.626 1336.1 177.547 1333.41 Q174.491 1330.73 174.491 1325.7 Q174.491 1322.39 176.389 1320.1 Q178.288 1317.81 181.667 1317.02 M179.954 1309.64 Q179.954 1312.32 181.621 1313.83 Q183.311 1315.33 186.343 1315.33 Q189.352 1315.33 191.042 1313.83 Q192.755 1312.32 192.755 1309.64 Q192.755 1306.95 191.042 1305.45 Q189.352 1303.94 186.343 1303.94 Q183.311 1303.94 181.621 1305.45 Q179.954 1306.95 179.954 1309.64 Z\" fill=\"#000000\" fill-rule=\"evenodd\" fill-opacity=\"1\" /><path clip-path=\"url(#clip710)\" d=\"M 0 0 M206.551 1300.86 L224.908 1300.86 L224.908 1304.8 L210.834 1304.8 L210.834 1313.27 Q211.852 1312.92 212.871 1312.76 Q213.889 1312.58 214.908 1312.58 Q220.695 1312.58 224.074 1315.75 Q227.454 1318.92 227.454 1324.34 Q227.454 1329.92 223.982 1333.02 Q220.51 1336.1 214.19 1336.1 Q212.014 1336.1 209.746 1335.73 Q207.5 1335.36 205.093 1334.61 L205.093 1329.92 Q207.176 1331.05 209.399 1331.61 Q211.621 1332.16 214.098 1332.16 Q218.102 1332.16 220.44 1330.05 Q222.778 1327.95 222.778 1324.34 Q222.778 1320.73 220.44 1318.62 Q218.102 1316.51 214.098 1316.51 Q212.223 1316.51 210.348 1316.93 Q208.496 1317.35 206.551 1318.23 L206.551 1300.86 Z\" fill=\"#000000\" fill-rule=\"evenodd\" fill-opacity=\"1\" /><path clip-path=\"url(#clip710)\" d=\"M 0 0 M246.667 1303.94 Q243.056 1303.94 241.227 1307.51 Q239.422 1311.05 239.422 1318.18 Q239.422 1325.29 241.227 1328.85 Q243.056 1332.39 246.667 1332.39 Q250.301 1332.39 252.107 1328.85 Q253.935 1325.29 253.935 1318.18 Q253.935 1311.05 252.107 1307.51 Q250.301 1303.94 246.667 1303.94 M246.667 1300.24 Q252.477 1300.24 255.533 1304.85 Q258.611 1309.43 258.611 1318.18 Q258.611 1326.91 255.533 1331.51 Q252.477 1336.1 246.667 1336.1 Q240.857 1336.1 237.778 1331.51 Q234.722 1326.91 234.722 1318.18 Q234.722 1309.43 237.778 1304.85 Q240.857 1300.24 246.667 1300.24 Z\" fill=\"#000000\" fill-rule=\"evenodd\" fill-opacity=\"1\" /><path clip-path=\"url(#clip710)\" d=\"M 0 0 M127.593 1031.21 Q124.445 1031.21 122.593 1033.36 Q120.765 1035.52 120.765 1039.27 Q120.765 1042.99 122.593 1045.17 Q124.445 1047.32 127.593 1047.32 Q130.742 1047.32 132.57 1045.17 Q134.422 1042.99 134.422 1039.27 Q134.422 1035.52 132.57 1033.36 Q130.742 1031.21 127.593 1031.21 M136.876 1016.56 L136.876 1020.82 Q135.117 1019.99 133.311 1019.55 Q131.529 1019.11 129.769 1019.11 Q125.14 1019.11 122.686 1022.23 Q120.255 1025.36 119.908 1031.67 Q121.274 1029.66 123.334 1028.6 Q125.394 1027.51 127.871 1027.51 Q133.08 1027.51 136.089 1030.68 Q139.121 1033.83 139.121 1039.27 Q139.121 1044.59 135.973 1047.81 Q132.825 1051.03 127.593 1051.03 Q121.598 1051.03 118.427 1046.44 Q115.256 1041.84 115.256 1033.11 Q115.256 1024.92 119.144 1020.05 Q123.033 1015.17 129.584 1015.17 Q131.343 1015.17 133.126 1015.52 Q134.931 1015.86 136.876 1016.56 Z\" fill=\"#000000\" fill-rule=\"evenodd\" fill-opacity=\"1\" /><path clip-path=\"url(#clip710)\" d=\"M 0 0 M157.177 1018.87 Q153.566 1018.87 151.737 1022.44 Q149.931 1025.98 149.931 1033.11 Q149.931 1040.22 151.737 1043.78 Q153.566 1047.32 157.177 1047.32 Q160.811 1047.32 162.616 1043.78 Q164.445 1040.22 164.445 1033.11 Q164.445 1025.98 162.616 1022.44 Q160.811 1018.87 157.177 1018.87 M157.177 1015.17 Q162.987 1015.17 166.042 1019.78 Q169.121 1024.36 169.121 1033.11 Q169.121 1041.84 166.042 1046.44 Q162.987 1051.03 157.177 1051.03 Q151.366 1051.03 148.288 1046.44 Q145.232 1041.84 145.232 1033.11 Q145.232 1024.36 148.288 1019.78 Q151.366 1015.17 157.177 1015.17 Z\" fill=\"#000000\" fill-rule=\"evenodd\" fill-opacity=\"1\" /><path clip-path=\"url(#clip710)\" d=\"M 0 0 M187.338 1033.94 Q184.005 1033.94 182.084 1035.73 Q180.186 1037.51 180.186 1040.63 Q180.186 1043.76 182.084 1045.54 Q184.005 1047.32 187.338 1047.32 Q190.672 1047.32 192.593 1045.54 Q194.514 1043.73 194.514 1040.63 Q194.514 1037.51 192.593 1035.73 Q190.695 1033.94 187.338 1033.94 M182.663 1031.95 Q179.653 1031.21 177.964 1029.15 Q176.297 1027.09 176.297 1024.13 Q176.297 1019.99 179.237 1017.58 Q182.2 1015.17 187.338 1015.17 Q192.5 1015.17 195.44 1017.58 Q198.38 1019.99 198.38 1024.13 Q198.38 1027.09 196.69 1029.15 Q195.024 1031.21 192.038 1031.95 Q195.417 1032.74 197.292 1035.03 Q199.19 1037.32 199.19 1040.63 Q199.19 1045.66 196.112 1048.34 Q193.056 1051.03 187.338 1051.03 Q181.621 1051.03 178.542 1048.34 Q175.487 1045.66 175.487 1040.63 Q175.487 1037.32 177.385 1035.03 Q179.283 1032.74 182.663 1031.95 M180.95 1024.57 Q180.95 1027.25 182.616 1028.76 Q184.306 1030.26 187.338 1030.26 Q190.348 1030.26 192.038 1028.76 Q193.75 1027.25 193.75 1024.57 Q193.75 1021.88 192.038 1020.38 Q190.348 1018.87 187.338 1018.87 Q184.306 1018.87 182.616 1020.38 Q180.95 1021.88 180.95 1024.57 Z\" fill=\"#000000\" fill-rule=\"evenodd\" fill-opacity=\"1\" /><path clip-path=\"url(#clip710)\" d=\"M 0 0 M206.32 1015.8 L228.542 1015.8 L228.542 1017.79 L215.996 1050.36 L211.111 1050.36 L222.917 1019.73 L206.32 1019.73 L206.32 1015.8 Z\" fill=\"#000000\" fill-rule=\"evenodd\" fill-opacity=\"1\" /><path clip-path=\"url(#clip710)\" d=\"M 0 0 M237.709 1015.8 L256.065 1015.8 L256.065 1019.73 L241.991 1019.73 L241.991 1028.2 Q243.009 1027.86 244.028 1027.69 Q245.046 1027.51 246.065 1027.51 Q251.852 1027.51 255.232 1030.68 Q258.611 1033.85 258.611 1039.27 Q258.611 1044.85 255.139 1047.95 Q251.667 1051.03 245.347 1051.03 Q243.172 1051.03 240.903 1050.66 Q238.658 1050.29 236.25 1049.55 L236.25 1044.85 Q238.334 1045.98 240.556 1046.54 Q242.778 1047.09 245.255 1047.09 Q249.259 1047.09 251.597 1044.98 Q253.935 1042.88 253.935 1039.27 Q253.935 1035.66 251.597 1033.55 Q249.259 1031.44 245.255 1031.44 Q243.38 1031.44 241.505 1031.86 Q239.653 1032.28 237.709 1033.16 L237.709 1015.8 Z\" fill=\"#000000\" fill-rule=\"evenodd\" fill-opacity=\"1\" /><path clip-path=\"url(#clip710)\" d=\"M 0 0 M126.598 746.142 Q123.45 746.142 121.598 748.295 Q119.769 750.448 119.769 754.198 Q119.769 757.925 121.598 760.101 Q123.45 762.253 126.598 762.253 Q129.746 762.253 131.575 760.101 Q133.427 757.925 133.427 754.198 Q133.427 750.448 131.575 748.295 Q129.746 746.142 126.598 746.142 M135.88 731.49 L135.88 735.749 Q134.121 734.916 132.316 734.476 Q130.533 734.036 128.774 734.036 Q124.144 734.036 121.691 737.161 Q119.26 740.286 118.913 746.605 Q120.279 744.592 122.339 743.527 Q124.399 742.439 126.876 742.439 Q132.084 742.439 135.093 745.61 Q138.126 748.758 138.126 754.198 Q138.126 759.522 134.978 762.74 Q131.83 765.957 126.598 765.957 Q120.603 765.957 117.431 761.374 Q114.26 756.767 114.26 748.041 Q114.26 739.846 118.149 734.985 Q122.038 730.101 128.589 730.101 Q130.348 730.101 132.13 730.448 Q133.936 730.795 135.88 731.49 Z\" fill=\"#000000\" fill-rule=\"evenodd\" fill-opacity=\"1\" /><path clip-path=\"url(#clip710)\" d=\"M 0 0 M156.181 733.805 Q152.57 733.805 150.741 737.369 Q148.936 740.911 148.936 748.041 Q148.936 755.147 150.741 758.712 Q152.57 762.253 156.181 762.253 Q159.815 762.253 161.621 758.712 Q163.45 755.147 163.45 748.041 Q163.45 740.911 161.621 737.369 Q159.815 733.805 156.181 733.805 M156.181 730.101 Q161.991 730.101 165.047 734.707 Q168.126 739.291 168.126 748.041 Q168.126 756.767 165.047 761.374 Q161.991 765.957 156.181 765.957 Q150.371 765.957 147.292 761.374 Q144.237 756.767 144.237 748.041 Q144.237 739.291 147.292 734.707 Q150.371 730.101 156.181 730.101 Z\" fill=\"#000000\" fill-rule=\"evenodd\" fill-opacity=\"1\" /><path clip-path=\"url(#clip710)\" d=\"M 0 0 M176.482 764.568 L176.482 760.309 Q178.241 761.142 180.047 761.582 Q181.852 762.022 183.588 762.022 Q188.218 762.022 190.649 758.92 Q193.102 755.795 193.45 749.453 Q192.107 751.443 190.047 752.508 Q187.987 753.573 185.487 753.573 Q180.301 753.573 177.269 750.448 Q174.26 747.3 174.26 741.86 Q174.26 736.536 177.408 733.318 Q180.556 730.101 185.788 730.101 Q191.783 730.101 194.931 734.707 Q198.102 739.291 198.102 748.041 Q198.102 756.212 194.213 761.096 Q190.348 765.957 183.797 765.957 Q182.038 765.957 180.232 765.61 Q178.426 765.263 176.482 764.568 M185.788 749.916 Q188.936 749.916 190.764 747.763 Q192.616 745.61 192.616 741.86 Q192.616 738.133 190.764 735.98 Q188.936 733.805 185.788 733.805 Q182.639 733.805 180.788 735.98 Q178.959 738.133 178.959 741.86 Q178.959 745.61 180.788 747.763 Q182.639 749.916 185.788 749.916 Z\" fill=\"#000000\" fill-rule=\"evenodd\" fill-opacity=\"1\" /><path clip-path=\"url(#clip710)\" d=\"M 0 0 M216.505 733.805 Q212.894 733.805 211.065 737.369 Q209.26 740.911 209.26 748.041 Q209.26 755.147 211.065 758.712 Q212.894 762.253 216.505 762.253 Q220.139 762.253 221.945 758.712 Q223.773 755.147 223.773 748.041 Q223.773 740.911 221.945 737.369 Q220.139 733.805 216.505 733.805 M216.505 730.101 Q222.315 730.101 225.371 734.707 Q228.449 739.291 228.449 748.041 Q228.449 756.767 225.371 761.374 Q222.315 765.957 216.505 765.957 Q210.695 765.957 207.616 761.374 Q204.561 756.767 204.561 748.041 Q204.561 739.291 207.616 734.707 Q210.695 730.101 216.505 730.101 Z\" fill=\"#000000\" fill-rule=\"evenodd\" fill-opacity=\"1\" /><path clip-path=\"url(#clip710)\" d=\"M 0 0 M246.667 733.805 Q243.056 733.805 241.227 737.369 Q239.422 740.911 239.422 748.041 Q239.422 755.147 241.227 758.712 Q243.056 762.253 246.667 762.253 Q250.301 762.253 252.107 758.712 Q253.935 755.147 253.935 748.041 Q253.935 740.911 252.107 737.369 Q250.301 733.805 246.667 733.805 M246.667 730.101 Q252.477 730.101 255.533 734.707 Q258.611 739.291 258.611 748.041 Q258.611 756.767 255.533 761.374 Q252.477 765.957 246.667 765.957 Q240.857 765.957 237.778 761.374 Q234.722 756.767 234.722 748.041 Q234.722 739.291 237.778 734.707 Q240.857 730.101 246.667 730.101 Z\" fill=\"#000000\" fill-rule=\"evenodd\" fill-opacity=\"1\" /><path clip-path=\"url(#clip710)\" d=\"M 0 0 M127.593 461.073 Q124.445 461.073 122.593 463.226 Q120.765 465.379 120.765 469.129 Q120.765 472.855 122.593 475.031 Q124.445 477.184 127.593 477.184 Q130.742 477.184 132.57 475.031 Q134.422 472.855 134.422 469.129 Q134.422 465.379 132.57 463.226 Q130.742 461.073 127.593 461.073 M136.876 446.42 L136.876 450.68 Q135.117 449.846 133.311 449.406 Q131.529 448.967 129.769 448.967 Q125.14 448.967 122.686 452.092 Q120.255 455.217 119.908 461.536 Q121.274 459.522 123.334 458.457 Q125.394 457.369 127.871 457.369 Q133.08 457.369 136.089 460.541 Q139.121 463.689 139.121 469.129 Q139.121 474.453 135.973 477.67 Q132.825 480.888 127.593 480.888 Q121.598 480.888 118.427 476.304 Q115.256 471.698 115.256 462.971 Q115.256 454.777 119.144 449.916 Q123.033 445.032 129.584 445.032 Q131.343 445.032 133.126 445.379 Q134.931 445.726 136.876 446.42 Z\" fill=\"#000000\" fill-rule=\"evenodd\" fill-opacity=\"1\" /><path clip-path=\"url(#clip710)\" d=\"M 0 0 M157.177 448.735 Q153.566 448.735 151.737 452.3 Q149.931 455.842 149.931 462.971 Q149.931 470.078 151.737 473.642 Q153.566 477.184 157.177 477.184 Q160.811 477.184 162.616 473.642 Q164.445 470.078 164.445 462.971 Q164.445 455.842 162.616 452.3 Q160.811 448.735 157.177 448.735 M157.177 445.032 Q162.987 445.032 166.042 449.638 Q169.121 454.221 169.121 462.971 Q169.121 471.698 166.042 476.304 Q162.987 480.888 157.177 480.888 Q151.366 480.888 148.288 476.304 Q145.232 471.698 145.232 462.971 Q145.232 454.221 148.288 449.638 Q151.366 445.032 157.177 445.032 Z\" fill=\"#000000\" fill-rule=\"evenodd\" fill-opacity=\"1\" /><path clip-path=\"url(#clip710)\" d=\"M 0 0 M177.477 479.499 L177.477 475.24 Q179.237 476.073 181.042 476.513 Q182.848 476.953 184.584 476.953 Q189.213 476.953 191.644 473.851 Q194.098 470.726 194.445 464.383 Q193.102 466.374 191.042 467.439 Q188.982 468.504 186.482 468.504 Q181.297 468.504 178.264 465.379 Q175.255 462.23 175.255 456.791 Q175.255 451.467 178.403 448.249 Q181.551 445.032 186.783 445.032 Q192.778 445.032 195.926 449.638 Q199.098 454.221 199.098 462.971 Q199.098 471.142 195.209 476.027 Q191.343 480.888 184.792 480.888 Q183.033 480.888 181.227 480.541 Q179.422 480.193 177.477 479.499 M186.783 464.846 Q189.931 464.846 191.76 462.693 Q193.612 460.541 193.612 456.791 Q193.612 453.064 191.76 450.911 Q189.931 448.735 186.783 448.735 Q183.635 448.735 181.783 450.911 Q179.954 453.064 179.954 456.791 Q179.954 460.541 181.783 462.693 Q183.635 464.846 186.783 464.846 Z\" fill=\"#000000\" fill-rule=\"evenodd\" fill-opacity=\"1\" /><path clip-path=\"url(#clip710)\" d=\"M 0 0 M211.528 476.281 L227.848 476.281 L227.848 480.217 L205.903 480.217 L205.903 476.281 Q208.565 473.527 213.149 468.897 Q217.755 464.244 218.936 462.902 Q221.181 460.379 222.061 458.643 Q222.963 456.883 222.963 455.193 Q222.963 452.439 221.019 450.703 Q219.098 448.967 215.996 448.967 Q213.797 448.967 211.343 449.731 Q208.912 450.494 206.135 452.045 L206.135 447.323 Q208.959 446.189 211.412 445.61 Q213.866 445.032 215.903 445.032 Q221.273 445.032 224.468 447.717 Q227.662 450.402 227.662 454.893 Q227.662 457.022 226.852 458.943 Q226.065 460.842 223.959 463.434 Q223.38 464.105 220.278 467.323 Q217.176 470.517 211.528 476.281 Z\" fill=\"#000000\" fill-rule=\"evenodd\" fill-opacity=\"1\" /><path clip-path=\"url(#clip710)\" d=\"M 0 0 M237.709 445.657 L256.065 445.657 L256.065 449.592 L241.991 449.592 L241.991 458.064 Q243.009 457.717 244.028 457.555 Q245.046 457.369 246.065 457.369 Q251.852 457.369 255.232 460.541 Q258.611 463.712 258.611 469.129 Q258.611 474.707 255.139 477.809 Q251.667 480.888 245.347 480.888 Q243.172 480.888 240.903 480.517 Q238.658 480.147 236.25 479.406 L236.25 474.707 Q238.334 475.842 240.556 476.397 Q242.778 476.953 245.255 476.953 Q249.259 476.953 251.597 474.846 Q253.935 472.74 253.935 469.129 Q253.935 465.518 251.597 463.411 Q249.259 461.305 245.255 461.305 Q243.38 461.305 241.505 461.721 Q239.653 462.138 237.709 463.018 L237.709 445.657 Z\" fill=\"#000000\" fill-rule=\"evenodd\" fill-opacity=\"1\" /><path clip-path=\"url(#clip710)\" d=\"M 0 0 M126.598 176.004 Q123.45 176.004 121.598 178.156 Q119.769 180.309 119.769 184.059 Q119.769 187.786 121.598 189.962 Q123.45 192.115 126.598 192.115 Q129.746 192.115 131.575 189.962 Q133.427 187.786 133.427 184.059 Q133.427 180.309 131.575 178.156 Q129.746 176.004 126.598 176.004 M135.88 161.351 L135.88 165.61 Q134.121 164.777 132.316 164.337 Q130.533 163.897 128.774 163.897 Q124.144 163.897 121.691 167.022 Q119.26 170.147 118.913 176.467 Q120.279 174.453 122.339 173.388 Q124.399 172.3 126.876 172.3 Q132.084 172.3 135.093 175.471 Q138.126 178.619 138.126 184.059 Q138.126 189.383 134.978 192.601 Q131.83 195.818 126.598 195.818 Q120.603 195.818 117.431 191.235 Q114.26 186.629 114.26 177.902 Q114.26 169.707 118.149 164.846 Q122.038 159.962 128.589 159.962 Q130.348 159.962 132.13 160.309 Q133.936 160.657 135.88 161.351 Z\" fill=\"#000000\" fill-rule=\"evenodd\" fill-opacity=\"1\" /><path clip-path=\"url(#clip710)\" d=\"M 0 0 M156.181 163.666 Q152.57 163.666 150.741 167.231 Q148.936 170.772 148.936 177.902 Q148.936 185.008 150.741 188.573 Q152.57 192.115 156.181 192.115 Q159.815 192.115 161.621 188.573 Q163.45 185.008 163.45 177.902 Q163.45 170.772 161.621 167.231 Q159.815 163.666 156.181 163.666 M156.181 159.962 Q161.991 159.962 165.047 164.569 Q168.126 169.152 168.126 177.902 Q168.126 186.629 165.047 191.235 Q161.991 195.818 156.181 195.818 Q150.371 195.818 147.292 191.235 Q144.237 186.629 144.237 177.902 Q144.237 169.152 147.292 164.569 Q150.371 159.962 156.181 159.962 Z\" fill=\"#000000\" fill-rule=\"evenodd\" fill-opacity=\"1\" /><path clip-path=\"url(#clip710)\" d=\"M 0 0 M176.482 194.43 L176.482 190.17 Q178.241 191.004 180.047 191.443 Q181.852 191.883 183.588 191.883 Q188.218 191.883 190.649 188.781 Q193.102 185.656 193.45 179.314 Q192.107 181.305 190.047 182.369 Q187.987 183.434 185.487 183.434 Q180.301 183.434 177.269 180.309 Q174.26 177.161 174.26 171.721 Q174.26 166.397 177.408 163.18 Q180.556 159.962 185.788 159.962 Q191.783 159.962 194.931 164.569 Q198.102 169.152 198.102 177.902 Q198.102 186.073 194.213 190.957 Q190.348 195.818 183.797 195.818 Q182.038 195.818 180.232 195.471 Q178.426 195.124 176.482 194.43 M185.788 179.777 Q188.936 179.777 190.764 177.624 Q192.616 175.471 192.616 171.721 Q192.616 167.995 190.764 165.842 Q188.936 163.666 185.788 163.666 Q182.639 163.666 180.788 165.842 Q178.959 167.995 178.959 171.721 Q178.959 175.471 180.788 177.624 Q182.639 179.777 185.788 179.777 Z\" fill=\"#000000\" fill-rule=\"evenodd\" fill-opacity=\"1\" /><path clip-path=\"url(#clip710)\" d=\"M 0 0 M206.551 160.587 L224.908 160.587 L224.908 164.522 L210.834 164.522 L210.834 172.994 Q211.852 172.647 212.871 172.485 Q213.889 172.3 214.908 172.3 Q220.695 172.3 224.074 175.471 Q227.454 178.643 227.454 184.059 Q227.454 189.638 223.982 192.74 Q220.51 195.818 214.19 195.818 Q212.014 195.818 209.746 195.448 Q207.5 195.078 205.093 194.337 L205.093 189.638 Q207.176 190.772 209.399 191.328 Q211.621 191.883 214.098 191.883 Q218.102 191.883 220.44 189.777 Q222.778 187.67 222.778 184.059 Q222.778 180.448 220.44 178.342 Q218.102 176.235 214.098 176.235 Q212.223 176.235 210.348 176.652 Q208.496 177.069 206.551 177.948 L206.551 160.587 Z\" fill=\"#000000\" fill-rule=\"evenodd\" fill-opacity=\"1\" /><path clip-path=\"url(#clip710)\" d=\"M 0 0 M246.667 163.666 Q243.056 163.666 241.227 167.231 Q239.422 170.772 239.422 177.902 Q239.422 185.008 241.227 188.573 Q243.056 192.115 246.667 192.115 Q250.301 192.115 252.107 188.573 Q253.935 185.008 253.935 177.902 Q253.935 170.772 252.107 167.231 Q250.301 163.666 246.667 163.666 M246.667 159.962 Q252.477 159.962 255.533 164.569 Q258.611 169.152 258.611 177.902 Q258.611 186.629 255.533 191.235 Q252.477 195.818 246.667 195.818 Q240.857 195.818 237.778 191.235 Q234.722 186.629 234.722 177.902 Q234.722 169.152 237.778 164.569 Q240.857 159.962 246.667 159.962 Z\" fill=\"#000000\" fill-rule=\"evenodd\" fill-opacity=\"1\" /><path clip-path=\"url(#clip710)\" d=\"M 0 0 M43.5384 772.117 L43.5384 754.962 L48.7583 754.962 L48.7583 772.117 L43.5384 772.117 Z\" fill=\"#000000\" fill-rule=\"evenodd\" fill-opacity=\"1\" /><path clip-path=\"url(#clip710)\" d=\"M 0 0 M58.5933 739.27 L58.5933 716.831 L64.0042 716.831 L64.0042 747.004 L58.5933 747.004 Q54.8057 743.344 48.44 737.042 Q42.0425 730.708 40.1964 729.085 Q36.7271 725.998 34.34 724.788 Q31.921 723.547 29.5975 723.547 Q25.8099 723.547 23.4228 726.22 Q21.0356 728.862 21.0356 733.127 Q21.0356 736.151 22.086 739.525 Q23.1363 742.867 25.2688 746.686 L18.7758 746.686 Q17.2162 742.803 16.4205 739.429 Q15.6248 736.055 15.6248 733.255 Q15.6248 725.87 19.3169 721.478 Q23.009 717.086 29.1837 717.086 Q32.112 717.086 34.7537 718.2 Q37.3637 719.282 40.9285 722.178 Q41.8515 722.974 46.2757 727.239 Q50.668 731.504 58.5933 739.27 Z\" fill=\"#000000\" fill-rule=\"evenodd\" fill-opacity=\"1\" /><path clip-path=\"url(#clip710)\" d=\"M 0 0 M14.479 704.163 L14.479 698.307 L64.0042 698.307 L64.0042 704.163 L14.479 704.163 Z\" fill=\"#000000\" fill-rule=\"evenodd\" fill-opacity=\"1\" /><polyline clip-path=\"url(#clip712)\" style=\"stroke:#009af9; stroke-width:4; stroke-opacity:1; fill:none\" points=\"\n",
       "  352.861,86.1857 595.566,684.082 838.272,1054.71 1080.98,1267.1 1323.68,1366.65 1566.39,1384.24 1809.1,1341.41 2051.8,1253.58 2294.51,1131.96 \n",
       "  \"/>\n",
       "<polyline clip-path=\"url(#clip712)\" style=\"stroke:#ff0000; stroke-width:4; stroke-opacity:1; fill:none\" stroke-dasharray=\"16, 10\" points=\"\n",
       "  1323.68,2799.12 1323.68,-1328.69 \n",
       "  \"/>\n",
       "</svg>\n"
      ]
     },
     "execution_count": 25,
     "metadata": {},
     "output_type": "execute_result"
    }
   ],
   "source": [
    "θ2s = range(2,4.0,step=0.25)\n",
    "m2l = zeros(length(θ2s))\n",
    "for i in 1:length(θ2s)\n",
    "    m2l[i] = dev4(X,Z,y,log.([θ2s[i]]))\n",
    "end\n",
    "println(\"estimate: \",θ2s[m2l .== maximum(m2l)])\n",
    "plot(θ2s,m2l,legend=false,xlabel=\"θ2\",ylabel=\"-2l\")\n",
    "vline!([θ2],color=:red,linestyle=:dash,legend=false)"
   ]
  },
  {
   "cell_type": "code",
   "execution_count": 26,
   "metadata": {},
   "outputs": [
    {
     "name": "stdout",
     "output_type": "stream",
     "text": [
      " 38.336154 seconds (6.32 M allocations: 46.119 GiB, 28.00% gc time, 6.45% compilation time)\n",
      "Results of Optimization Algorithm\n",
      " * Algorithm: Brent's Method\n",
      " * Search Interval: [0.000000, 5.000000]\n",
      " * Minimizer: 1.159154e+00\n",
      " * Minimum: 6.084403e+04\n",
      " * Iterations: 11\n",
      " * Convergence: max(|x - x_upper|, |x - x_lower|) <= 2*(1.5e-08*|x|+2.2e-16): true\n",
      " * Objective Function Calls: 12\n",
      "3.1872355771633134\n"
     ]
    }
   ],
   "source": [
    "@time res = Optim.optimize(var -> dev4(X,Z,y,var), 0.0, 5.0)\n",
    "println(res)\n",
    "println(exp.(Optim.minimizer(res)))"
   ]
  },
  {
   "cell_type": "code",
   "execution_count": 27,
   "metadata": {},
   "outputs": [
    {
     "data": {
      "text/plain": [
       "60845.74587216641"
      ]
     },
     "execution_count": 27,
     "metadata": {},
     "output_type": "execute_result"
    }
   ],
   "source": [
    "function fdev4(var::Vector,grad::Vector)\n",
    "    if (length(grad) > 0)\n",
    "        \n",
    "    end\n",
    "    dev4(X,Z,y,var)\n",
    "end\n",
    "fdev4(log.([3.0]),[])"
   ]
  },
  {
   "cell_type": "code",
   "execution_count": 28,
   "metadata": {},
   "outputs": [
    {
     "name": "stdout",
     "output_type": "stream",
     "text": [
      " 14.081755 seconds (1.49 k allocations: 19.076 GiB, 29.91% gc time, 0.03% compilation time)\n",
      "got 60844.12039342744 at [3.232401733190206] after 5 iterations (returned FTOL_REACHED)\n"
     ]
    }
   ],
   "source": [
    "opt = NLopt.Opt(:LN_BOBYQA, 1)\n",
    "opt.min_objective = fdev4\n",
    "opt.ftol_rel = 0.01\n",
    "@time (minf,minx,ret) = NLopt.optimize(opt,log.([3.0]))\n",
    "minx = exp.(minx)\n",
    "numevals = opt.numevals\n",
    "println(\"got $minf at $minx after $numevals iterations (returned $ret)\")"
   ]
  },
  {
   "cell_type": "markdown",
   "metadata": {},
   "source": [
    "### Method 5"
   ]
  },
  {
   "cell_type": "code",
   "execution_count": 29,
   "metadata": {},
   "outputs": [],
   "source": [
    "# based on Bates spherical RE formulation, y = X\\beta + Z\\Lambda u\n",
    "# u ~ N(0,sigmaI)\n",
    "# Y|B=b ~ N()"
   ]
  },
  {
   "cell_type": "code",
   "execution_count": 30,
   "metadata": {},
   "outputs": [
    {
     "data": {
      "text/plain": [
       "dev5 (generic function with 1 method)"
      ]
     },
     "execution_count": 30,
     "metadata": {},
     "output_type": "execute_result"
    }
   ],
   "source": [
    "function dev5(X,Z,y,logθ2)\n",
    "    θ2 = exp.(logθ2)[1]\n",
    "    θ1 = 1.0\n",
    "    Nn = length(y)\n",
    "    n = size(Z)[2]\n",
    "    p = (size(X)[2]-1)\n",
    "    ϕθ = Matrix(θ1*I,N*n,N*n) # noise ~ N(0,Λθ)\n",
    "    Λθ = Matrix(sqrt(θ2)*I,n,n)  # b ~ N(0,ϕθ)\n",
    "    D = [[transpose(Λθ)*transpose(Z)*Z*Λθ + I transpose(Λθ)*transpose(Z)*X]; [transpose(X)*Z*Λθ transpose(X)*X]]\n",
    "    Dchol = cholesky(Symmetric(D))\n",
    "    yy = [transpose(Λθ)*transpose(Z)*y; transpose(X)*y];\n",
    "    uβ_ = Dchol \\ yy\n",
    "    u_ = uβ_[1:n]\n",
    "    β_ = uβ_[(n+1):end]\n",
    "    rr = sum((y - X*β_ - Z*Λθ*u_).^2) + sum(u_ .^2)\n",
    "    2*sum(log.(diag(Dchol.L[1:n,1:n]))) + Nn*(1 + log((2*pi*rr)/(Nn)))\n",
    "end"
   ]
  },
  {
   "cell_type": "code",
   "execution_count": 31,
   "metadata": {},
   "outputs": [
    {
     "name": "stdout",
     "output_type": "stream",
     "text": [
      "  1.965966 seconds (68 allocations: 3.653 GiB, 29.54% gc time)\n"
     ]
    },
    {
     "data": {
      "text/plain": [
       "60845.74587216641"
      ]
     },
     "execution_count": 31,
     "metadata": {},
     "output_type": "execute_result"
    }
   ],
   "source": [
    "dev5(X,Z,y,log.([3.0]));\n",
    "@time dev5(X,Z,y,log.([3.0]))"
   ]
  },
  {
   "cell_type": "code",
   "execution_count": 32,
   "metadata": {},
   "outputs": [
    {
     "name": "stdout",
     "output_type": "stream",
     "text": [
      "estimate: [2.0]\n"
     ]
    },
    {
     "data": {
      "image/svg+xml": [
       "<?xml version=\"1.0\" encoding=\"utf-8\"?>\n",
       "<svg xmlns=\"http://www.w3.org/2000/svg\" xmlns:xlink=\"http://www.w3.org/1999/xlink\" width=\"600\" height=\"400\" viewBox=\"0 0 2400 1600\">\n",
       "<defs>\n",
       "  <clipPath id=\"clip750\">\n",
       "    <rect x=\"0\" y=\"0\" width=\"2400\" height=\"1600\"/>\n",
       "  </clipPath>\n",
       "</defs>\n",
       "<path clip-path=\"url(#clip750)\" d=\"\n",
       "M0 1600 L2400 1600 L2400 0 L0 0  Z\n",
       "  \" fill=\"#ffffff\" fill-rule=\"evenodd\" fill-opacity=\"1\"/>\n",
       "<defs>\n",
       "  <clipPath id=\"clip751\">\n",
       "    <rect x=\"480\" y=\"0\" width=\"1681\" height=\"1600\"/>\n",
       "  </clipPath>\n",
       "</defs>\n",
       "<path clip-path=\"url(#clip750)\" d=\"\n",
       "M294.611 1423.18 L2352.76 1423.18 L2352.76 47.2441 L294.611 47.2441  Z\n",
       "  \" fill=\"#ffffff\" fill-rule=\"evenodd\" fill-opacity=\"1\"/>\n",
       "<defs>\n",
       "  <clipPath id=\"clip752\">\n",
       "    <rect x=\"294\" y=\"47\" width=\"2059\" height=\"1377\"/>\n",
       "  </clipPath>\n",
       "</defs>\n",
       "<polyline clip-path=\"url(#clip752)\" style=\"stroke:#000000; stroke-width:2; stroke-opacity:0.1; fill:none\" points=\"\n",
       "  352.861,1423.18 352.861,47.2441 \n",
       "  \"/>\n",
       "<polyline clip-path=\"url(#clip752)\" style=\"stroke:#000000; stroke-width:2; stroke-opacity:0.1; fill:none\" points=\"\n",
       "  838.272,1423.18 838.272,47.2441 \n",
       "  \"/>\n",
       "<polyline clip-path=\"url(#clip752)\" style=\"stroke:#000000; stroke-width:2; stroke-opacity:0.1; fill:none\" points=\"\n",
       "  1323.68,1423.18 1323.68,47.2441 \n",
       "  \"/>\n",
       "<polyline clip-path=\"url(#clip752)\" style=\"stroke:#000000; stroke-width:2; stroke-opacity:0.1; fill:none\" points=\"\n",
       "  1809.1,1423.18 1809.1,47.2441 \n",
       "  \"/>\n",
       "<polyline clip-path=\"url(#clip752)\" style=\"stroke:#000000; stroke-width:2; stroke-opacity:0.1; fill:none\" points=\"\n",
       "  2294.51,1423.18 2294.51,47.2441 \n",
       "  \"/>\n",
       "<polyline clip-path=\"url(#clip750)\" style=\"stroke:#000000; stroke-width:4; stroke-opacity:1; fill:none\" points=\"\n",
       "  294.611,1423.18 2352.76,1423.18 \n",
       "  \"/>\n",
       "<polyline clip-path=\"url(#clip750)\" style=\"stroke:#000000; stroke-width:4; stroke-opacity:1; fill:none\" points=\"\n",
       "  352.861,1423.18 352.861,1406.67 \n",
       "  \"/>\n",
       "<polyline clip-path=\"url(#clip750)\" style=\"stroke:#000000; stroke-width:4; stroke-opacity:1; fill:none\" points=\"\n",
       "  838.272,1423.18 838.272,1406.67 \n",
       "  \"/>\n",
       "<polyline clip-path=\"url(#clip750)\" style=\"stroke:#000000; stroke-width:4; stroke-opacity:1; fill:none\" points=\"\n",
       "  1323.68,1423.18 1323.68,1406.67 \n",
       "  \"/>\n",
       "<polyline clip-path=\"url(#clip750)\" style=\"stroke:#000000; stroke-width:4; stroke-opacity:1; fill:none\" points=\"\n",
       "  1809.1,1423.18 1809.1,1406.67 \n",
       "  \"/>\n",
       "<polyline clip-path=\"url(#clip750)\" style=\"stroke:#000000; stroke-width:4; stroke-opacity:1; fill:none\" points=\"\n",
       "  2294.51,1423.18 2294.51,1406.67 \n",
       "  \"/>\n",
       "<path clip-path=\"url(#clip750)\" d=\"M 0 0 M324.099 1479.92 L340.419 1479.92 L340.419 1483.85 L318.474 1483.85 L318.474 1479.92 Q321.136 1477.16 325.72 1472.53 Q330.326 1467.88 331.507 1466.54 Q333.752 1464.01 334.632 1462.28 Q335.534 1460.52 335.534 1458.83 Q335.534 1456.07 333.59 1454.34 Q331.669 1452.6 328.567 1452.6 Q326.368 1452.6 323.914 1453.37 Q321.483 1454.13 318.706 1455.68 L318.706 1450.96 Q321.53 1449.82 323.983 1449.25 Q326.437 1448.67 328.474 1448.67 Q333.845 1448.67 337.039 1451.35 Q340.233 1454.04 340.233 1458.53 Q340.233 1460.66 339.423 1462.58 Q338.636 1464.48 336.53 1467.07 Q335.951 1467.74 332.849 1470.96 Q329.747 1474.15 324.099 1479.92 Z\" fill=\"#000000\" fill-rule=\"evenodd\" fill-opacity=\"1\" /><path clip-path=\"url(#clip750)\" d=\"M 0 0 M350.233 1477.97 L355.118 1477.97 L355.118 1483.85 L350.233 1483.85 L350.233 1477.97 Z\" fill=\"#000000\" fill-rule=\"evenodd\" fill-opacity=\"1\" /><path clip-path=\"url(#clip750)\" d=\"M 0 0 M375.303 1452.37 Q371.692 1452.37 369.863 1455.94 Q368.057 1459.48 368.057 1466.61 Q368.057 1473.71 369.863 1477.28 Q371.692 1480.82 375.303 1480.82 Q378.937 1480.82 380.742 1477.28 Q382.571 1473.71 382.571 1466.61 Q382.571 1459.48 380.742 1455.94 Q378.937 1452.37 375.303 1452.37 M375.303 1448.67 Q381.113 1448.67 384.168 1453.27 Q387.247 1457.86 387.247 1466.61 Q387.247 1475.33 384.168 1479.94 Q381.113 1484.52 375.303 1484.52 Q369.492 1484.52 366.414 1479.94 Q363.358 1475.33 363.358 1466.61 Q363.358 1457.86 366.414 1453.27 Q369.492 1448.67 375.303 1448.67 Z\" fill=\"#000000\" fill-rule=\"evenodd\" fill-opacity=\"1\" /><path clip-path=\"url(#clip750)\" d=\"M 0 0 M810.008 1479.92 L826.328 1479.92 L826.328 1483.85 L804.383 1483.85 L804.383 1479.92 Q807.045 1477.16 811.629 1472.53 Q816.235 1467.88 817.416 1466.54 Q819.661 1464.01 820.541 1462.28 Q821.443 1460.52 821.443 1458.83 Q821.443 1456.07 819.499 1454.34 Q817.578 1452.6 814.476 1452.6 Q812.277 1452.6 809.823 1453.37 Q807.393 1454.13 804.615 1455.68 L804.615 1450.96 Q807.439 1449.82 809.893 1449.25 Q812.346 1448.67 814.383 1448.67 Q819.754 1448.67 822.948 1451.35 Q826.143 1454.04 826.143 1458.53 Q826.143 1460.66 825.332 1462.58 Q824.545 1464.48 822.439 1467.07 Q821.86 1467.74 818.758 1470.96 Q815.656 1474.15 810.008 1479.92 Z\" fill=\"#000000\" fill-rule=\"evenodd\" fill-opacity=\"1\" /><path clip-path=\"url(#clip750)\" d=\"M 0 0 M836.142 1477.97 L841.027 1477.97 L841.027 1483.85 L836.142 1483.85 L836.142 1477.97 Z\" fill=\"#000000\" fill-rule=\"evenodd\" fill-opacity=\"1\" /><path clip-path=\"url(#clip750)\" d=\"M 0 0 M851.258 1449.29 L869.615 1449.29 L869.615 1453.23 L855.541 1453.23 L855.541 1461.7 Q856.559 1461.35 857.578 1461.19 Q858.596 1461 859.615 1461 Q865.402 1461 868.781 1464.18 Q872.161 1467.35 872.161 1472.76 Q872.161 1478.34 868.689 1481.44 Q865.216 1484.52 858.897 1484.52 Q856.721 1484.52 854.453 1484.15 Q852.207 1483.78 849.8 1483.04 L849.8 1478.34 Q851.883 1479.48 854.105 1480.03 Q856.328 1480.59 858.804 1480.59 Q862.809 1480.59 865.147 1478.48 Q867.485 1476.38 867.485 1472.76 Q867.485 1469.15 865.147 1467.05 Q862.809 1464.94 858.804 1464.94 Q856.929 1464.94 855.054 1465.36 Q853.203 1465.77 851.258 1466.65 L851.258 1449.29 Z\" fill=\"#000000\" fill-rule=\"evenodd\" fill-opacity=\"1\" /><path clip-path=\"url(#clip750)\" d=\"M 0 0 M1304.99 1465.22 Q1308.35 1465.94 1310.22 1468.2 Q1312.12 1470.47 1312.12 1473.81 Q1312.12 1478.92 1308.6 1481.72 Q1305.08 1484.52 1298.6 1484.52 Q1296.43 1484.52 1294.11 1484.08 Q1291.82 1483.67 1289.37 1482.81 L1289.37 1478.3 Q1291.31 1479.43 1293.63 1480.01 Q1295.94 1480.59 1298.46 1480.59 Q1302.86 1480.59 1305.15 1478.85 Q1307.47 1477.12 1307.47 1473.81 Q1307.47 1470.75 1305.32 1469.04 Q1303.19 1467.3 1299.37 1467.3 L1295.34 1467.3 L1295.34 1463.46 L1299.55 1463.46 Q1303 1463.46 1304.83 1462.09 Q1306.66 1460.7 1306.66 1458.11 Q1306.66 1455.45 1304.76 1454.04 Q1302.89 1452.6 1299.37 1452.6 Q1297.45 1452.6 1295.25 1453.02 Q1293.05 1453.44 1290.41 1454.31 L1290.41 1450.15 Q1293.07 1449.41 1295.39 1449.04 Q1297.72 1448.67 1299.78 1448.67 Q1305.11 1448.67 1308.21 1451.1 Q1311.31 1453.5 1311.31 1457.63 Q1311.31 1460.5 1309.67 1462.49 Q1308.02 1464.45 1304.99 1465.22 Z\" fill=\"#000000\" fill-rule=\"evenodd\" fill-opacity=\"1\" /><path clip-path=\"url(#clip750)\" d=\"M 0 0 M1320.99 1477.97 L1325.87 1477.97 L1325.87 1483.85 L1320.99 1483.85 L1320.99 1477.97 Z\" fill=\"#000000\" fill-rule=\"evenodd\" fill-opacity=\"1\" /><path clip-path=\"url(#clip750)\" d=\"M 0 0 M1346.06 1452.37 Q1342.45 1452.37 1340.62 1455.94 Q1338.81 1459.48 1338.81 1466.61 Q1338.81 1473.71 1340.62 1477.28 Q1342.45 1480.82 1346.06 1480.82 Q1349.69 1480.82 1351.5 1477.28 Q1353.32 1473.71 1353.32 1466.61 Q1353.32 1459.48 1351.5 1455.94 Q1349.69 1452.37 1346.06 1452.37 M1346.06 1448.67 Q1351.87 1448.67 1354.92 1453.27 Q1358 1457.86 1358 1466.61 Q1358 1475.33 1354.92 1479.94 Q1351.87 1484.52 1346.06 1484.52 Q1340.25 1484.52 1337.17 1479.94 Q1334.11 1475.33 1334.11 1466.61 Q1334.11 1457.86 1337.17 1453.27 Q1340.25 1448.67 1346.06 1448.67 Z\" fill=\"#000000\" fill-rule=\"evenodd\" fill-opacity=\"1\" /><path clip-path=\"url(#clip750)\" d=\"M 0 0 M1790.9 1465.22 Q1794.26 1465.94 1796.13 1468.2 Q1798.03 1470.47 1798.03 1473.81 Q1798.03 1478.92 1794.51 1481.72 Q1790.99 1484.52 1784.51 1484.52 Q1782.34 1484.52 1780.02 1484.08 Q1777.73 1483.67 1775.28 1482.81 L1775.28 1478.3 Q1777.22 1479.43 1779.54 1480.01 Q1781.85 1480.59 1784.37 1480.59 Q1788.77 1480.59 1791.06 1478.85 Q1793.38 1477.12 1793.38 1473.81 Q1793.38 1470.75 1791.22 1469.04 Q1789.1 1467.3 1785.28 1467.3 L1781.25 1467.3 L1781.25 1463.46 L1785.46 1463.46 Q1788.91 1463.46 1790.74 1462.09 Q1792.57 1460.7 1792.57 1458.11 Q1792.57 1455.45 1790.67 1454.04 Q1788.79 1452.6 1785.28 1452.6 Q1783.35 1452.6 1781.16 1453.02 Q1778.96 1453.44 1776.32 1454.31 L1776.32 1450.15 Q1778.98 1449.41 1781.29 1449.04 Q1783.63 1448.67 1785.69 1448.67 Q1791.02 1448.67 1794.12 1451.1 Q1797.22 1453.5 1797.22 1457.63 Q1797.22 1460.5 1795.58 1462.49 Q1793.93 1464.45 1790.9 1465.22 Z\" fill=\"#000000\" fill-rule=\"evenodd\" fill-opacity=\"1\" /><path clip-path=\"url(#clip750)\" d=\"M 0 0 M1806.9 1477.97 L1811.78 1477.97 L1811.78 1483.85 L1806.9 1483.85 L1806.9 1477.97 Z\" fill=\"#000000\" fill-rule=\"evenodd\" fill-opacity=\"1\" /><path clip-path=\"url(#clip750)\" d=\"M 0 0 M1822.01 1449.29 L1840.37 1449.29 L1840.37 1453.23 L1826.29 1453.23 L1826.29 1461.7 Q1827.31 1461.35 1828.33 1461.19 Q1829.35 1461 1830.37 1461 Q1836.16 1461 1839.53 1464.18 Q1842.91 1467.35 1842.91 1472.76 Q1842.91 1478.34 1839.44 1481.44 Q1835.97 1484.52 1829.65 1484.52 Q1827.47 1484.52 1825.21 1484.15 Q1822.96 1483.78 1820.55 1483.04 L1820.55 1478.34 Q1822.64 1479.48 1824.86 1480.03 Q1827.08 1480.59 1829.56 1480.59 Q1833.56 1480.59 1835.9 1478.48 Q1838.24 1476.38 1838.24 1472.76 Q1838.24 1469.15 1835.9 1467.05 Q1833.56 1464.94 1829.56 1464.94 Q1827.68 1464.94 1825.81 1465.36 Q1823.96 1465.77 1822.01 1466.65 L1822.01 1449.29 Z\" fill=\"#000000\" fill-rule=\"evenodd\" fill-opacity=\"1\" /><path clip-path=\"url(#clip750)\" d=\"M 0 0 M2275.14 1453.37 L2263.34 1471.81 L2275.14 1471.81 L2275.14 1453.37 M2273.92 1449.29 L2279.8 1449.29 L2279.8 1471.81 L2284.73 1471.81 L2284.73 1475.7 L2279.8 1475.7 L2279.8 1483.85 L2275.14 1483.85 L2275.14 1475.7 L2259.54 1475.7 L2259.54 1471.19 L2273.92 1449.29 Z\" fill=\"#000000\" fill-rule=\"evenodd\" fill-opacity=\"1\" /><path clip-path=\"url(#clip750)\" d=\"M 0 0 M2292.46 1477.97 L2297.34 1477.97 L2297.34 1483.85 L2292.46 1483.85 L2292.46 1477.97 Z\" fill=\"#000000\" fill-rule=\"evenodd\" fill-opacity=\"1\" /><path clip-path=\"url(#clip750)\" d=\"M 0 0 M2317.53 1452.37 Q2313.92 1452.37 2312.09 1455.94 Q2310.28 1459.48 2310.28 1466.61 Q2310.28 1473.71 2312.09 1477.28 Q2313.92 1480.82 2317.53 1480.82 Q2321.16 1480.82 2322.97 1477.28 Q2324.8 1473.71 2324.8 1466.61 Q2324.8 1459.48 2322.97 1455.94 Q2321.16 1452.37 2317.53 1452.37 M2317.53 1448.67 Q2323.34 1448.67 2326.39 1453.27 Q2329.47 1457.86 2329.47 1466.61 Q2329.47 1475.33 2326.39 1479.94 Q2323.34 1484.52 2317.53 1484.52 Q2311.72 1484.52 2308.64 1479.94 Q2305.58 1475.33 2305.58 1466.61 Q2305.58 1457.86 2308.64 1453.27 Q2311.72 1448.67 2317.53 1448.67 Z\" fill=\"#000000\" fill-rule=\"evenodd\" fill-opacity=\"1\" /><path clip-path=\"url(#clip750)\" d=\"M 0 0 M1314.55 1545.45 L1294.27 1545.45 Q1294.75 1554.96 1296.95 1559 Q1299.68 1563.97 1304.43 1563.97 Q1309.2 1563.97 1311.84 1558.97 Q1314.17 1554.58 1314.55 1545.45 M1314.45 1540.03 Q1313.56 1531 1311.84 1527.81 Q1309.11 1522.78 1304.43 1522.78 Q1299.56 1522.78 1296.98 1527.75 Q1294.94 1531.76 1294.34 1540.03 L1314.45 1540.03 M1304.43 1518.01 Q1312.07 1518.01 1316.43 1524.76 Q1320.79 1531.47 1320.79 1543.38 Q1320.79 1555.25 1316.43 1562 Q1312.07 1568.78 1304.43 1568.78 Q1296.76 1568.78 1292.43 1562 Q1288.07 1555.25 1288.07 1543.38 Q1288.07 1531.47 1292.43 1524.76 Q1296.76 1518.01 1304.43 1518.01 Z\" fill=\"#000000\" fill-rule=\"evenodd\" fill-opacity=\"1\" /><path clip-path=\"url(#clip750)\" d=\"M 0 0 M1336.86 1562.63 L1359.3 1562.63 L1359.3 1568.04 L1329.13 1568.04 L1329.13 1562.63 Q1332.79 1558.85 1339.09 1552.48 Q1345.42 1546.08 1347.05 1544.24 Q1350.13 1540.77 1351.34 1538.38 Q1352.58 1535.96 1352.58 1533.64 Q1352.58 1529.85 1349.91 1527.46 Q1347.27 1525.08 1343 1525.08 Q1339.98 1525.08 1336.61 1526.13 Q1333.26 1527.18 1329.44 1529.31 L1329.44 1522.82 Q1333.33 1521.26 1336.7 1520.46 Q1340.08 1519.66 1342.88 1519.66 Q1350.26 1519.66 1354.65 1523.36 Q1359.05 1527.05 1359.05 1533.22 Q1359.05 1536.15 1357.93 1538.79 Q1356.85 1541.4 1353.95 1544.97 Q1353.16 1545.89 1348.89 1550.32 Q1344.63 1554.71 1336.86 1562.63 Z\" fill=\"#000000\" fill-rule=\"evenodd\" fill-opacity=\"1\" /><polyline clip-path=\"url(#clip752)\" style=\"stroke:#000000; stroke-width:2; stroke-opacity:0.1; fill:none\" points=\"\n",
       "  294.611,1318.14 2352.76,1318.14 \n",
       "  \"/>\n",
       "<polyline clip-path=\"url(#clip752)\" style=\"stroke:#000000; stroke-width:2; stroke-opacity:0.1; fill:none\" points=\"\n",
       "  294.611,1033.08 2352.76,1033.08 \n",
       "  \"/>\n",
       "<polyline clip-path=\"url(#clip752)\" style=\"stroke:#000000; stroke-width:2; stroke-opacity:0.1; fill:none\" points=\"\n",
       "  294.611,748.006 2352.76,748.006 \n",
       "  \"/>\n",
       "<polyline clip-path=\"url(#clip752)\" style=\"stroke:#000000; stroke-width:2; stroke-opacity:0.1; fill:none\" points=\"\n",
       "  294.611,462.937 2352.76,462.937 \n",
       "  \"/>\n",
       "<polyline clip-path=\"url(#clip752)\" style=\"stroke:#000000; stroke-width:2; stroke-opacity:0.1; fill:none\" points=\"\n",
       "  294.611,177.867 2352.76,177.867 \n",
       "  \"/>\n",
       "<polyline clip-path=\"url(#clip750)\" style=\"stroke:#000000; stroke-width:4; stroke-opacity:1; fill:none\" points=\"\n",
       "  294.611,1423.18 294.611,47.2441 \n",
       "  \"/>\n",
       "<polyline clip-path=\"url(#clip750)\" style=\"stroke:#000000; stroke-width:4; stroke-opacity:1; fill:none\" points=\"\n",
       "  294.611,1318.14 319.309,1318.14 \n",
       "  \"/>\n",
       "<polyline clip-path=\"url(#clip750)\" style=\"stroke:#000000; stroke-width:4; stroke-opacity:1; fill:none\" points=\"\n",
       "  294.611,1033.08 319.309,1033.08 \n",
       "  \"/>\n",
       "<polyline clip-path=\"url(#clip750)\" style=\"stroke:#000000; stroke-width:4; stroke-opacity:1; fill:none\" points=\"\n",
       "  294.611,748.006 319.309,748.006 \n",
       "  \"/>\n",
       "<polyline clip-path=\"url(#clip750)\" style=\"stroke:#000000; stroke-width:4; stroke-opacity:1; fill:none\" points=\"\n",
       "  294.611,462.937 319.309,462.937 \n",
       "  \"/>\n",
       "<polyline clip-path=\"url(#clip750)\" style=\"stroke:#000000; stroke-width:4; stroke-opacity:1; fill:none\" points=\"\n",
       "  294.611,177.867 319.309,177.867 \n",
       "  \"/>\n",
       "<path clip-path=\"url(#clip750)\" d=\"M 0 0 M126.598 1316.28 Q123.45 1316.28 121.598 1318.43 Q119.769 1320.59 119.769 1324.34 Q119.769 1328.06 121.598 1330.24 Q123.45 1332.39 126.598 1332.39 Q129.746 1332.39 131.575 1330.24 Q133.427 1328.06 133.427 1324.34 Q133.427 1320.59 131.575 1318.43 Q129.746 1316.28 126.598 1316.28 M135.88 1301.63 L135.88 1305.89 Q134.121 1305.05 132.316 1304.61 Q130.533 1304.17 128.774 1304.17 Q124.144 1304.17 121.691 1307.3 Q119.26 1310.42 118.913 1316.74 Q120.279 1314.73 122.339 1313.67 Q124.399 1312.58 126.876 1312.58 Q132.084 1312.58 135.093 1315.75 Q138.126 1318.9 138.126 1324.34 Q138.126 1329.66 134.978 1332.88 Q131.83 1336.1 126.598 1336.1 Q120.603 1336.1 117.431 1331.51 Q114.26 1326.91 114.26 1318.18 Q114.26 1309.98 118.149 1305.12 Q122.038 1300.24 128.589 1300.24 Q130.348 1300.24 132.13 1300.59 Q133.936 1300.93 135.88 1301.63 Z\" fill=\"#000000\" fill-rule=\"evenodd\" fill-opacity=\"1\" /><path clip-path=\"url(#clip750)\" d=\"M 0 0 M156.181 1303.94 Q152.57 1303.94 150.741 1307.51 Q148.936 1311.05 148.936 1318.18 Q148.936 1325.29 150.741 1328.85 Q152.57 1332.39 156.181 1332.39 Q159.815 1332.39 161.621 1328.85 Q163.45 1325.29 163.45 1318.18 Q163.45 1311.05 161.621 1307.51 Q159.815 1303.94 156.181 1303.94 M156.181 1300.24 Q161.991 1300.24 165.047 1304.85 Q168.126 1309.43 168.126 1318.18 Q168.126 1326.91 165.047 1331.51 Q161.991 1336.1 156.181 1336.1 Q150.371 1336.1 147.292 1331.51 Q144.237 1326.91 144.237 1318.18 Q144.237 1309.43 147.292 1304.85 Q150.371 1300.24 156.181 1300.24 Z\" fill=\"#000000\" fill-rule=\"evenodd\" fill-opacity=\"1\" /><path clip-path=\"url(#clip750)\" d=\"M 0 0 M186.343 1319.01 Q183.01 1319.01 181.089 1320.8 Q179.19 1322.58 179.19 1325.7 Q179.19 1328.83 181.089 1330.61 Q183.01 1332.39 186.343 1332.39 Q189.676 1332.39 191.598 1330.61 Q193.519 1328.8 193.519 1325.7 Q193.519 1322.58 191.598 1320.8 Q189.7 1319.01 186.343 1319.01 M181.667 1317.02 Q178.658 1316.28 176.968 1314.22 Q175.301 1312.16 175.301 1309.2 Q175.301 1305.05 178.241 1302.65 Q181.204 1300.24 186.343 1300.24 Q191.505 1300.24 194.445 1302.65 Q197.385 1305.05 197.385 1309.2 Q197.385 1312.16 195.695 1314.22 Q194.028 1316.28 191.042 1317.02 Q194.422 1317.81 196.297 1320.1 Q198.195 1322.39 198.195 1325.7 Q198.195 1330.73 195.116 1333.41 Q192.061 1336.1 186.343 1336.1 Q180.626 1336.1 177.547 1333.41 Q174.491 1330.73 174.491 1325.7 Q174.491 1322.39 176.389 1320.1 Q178.288 1317.81 181.667 1317.02 M179.954 1309.64 Q179.954 1312.32 181.621 1313.83 Q183.311 1315.33 186.343 1315.33 Q189.352 1315.33 191.042 1313.83 Q192.755 1312.32 192.755 1309.64 Q192.755 1306.95 191.042 1305.45 Q189.352 1303.94 186.343 1303.94 Q183.311 1303.94 181.621 1305.45 Q179.954 1306.95 179.954 1309.64 Z\" fill=\"#000000\" fill-rule=\"evenodd\" fill-opacity=\"1\" /><path clip-path=\"url(#clip750)\" d=\"M 0 0 M206.551 1300.86 L224.908 1300.86 L224.908 1304.8 L210.834 1304.8 L210.834 1313.27 Q211.852 1312.92 212.871 1312.76 Q213.889 1312.58 214.908 1312.58 Q220.695 1312.58 224.074 1315.75 Q227.454 1318.92 227.454 1324.34 Q227.454 1329.92 223.982 1333.02 Q220.51 1336.1 214.19 1336.1 Q212.014 1336.1 209.746 1335.73 Q207.5 1335.36 205.093 1334.61 L205.093 1329.92 Q207.176 1331.05 209.399 1331.61 Q211.621 1332.16 214.098 1332.16 Q218.102 1332.16 220.44 1330.05 Q222.778 1327.95 222.778 1324.34 Q222.778 1320.73 220.44 1318.62 Q218.102 1316.51 214.098 1316.51 Q212.223 1316.51 210.348 1316.93 Q208.496 1317.35 206.551 1318.23 L206.551 1300.86 Z\" fill=\"#000000\" fill-rule=\"evenodd\" fill-opacity=\"1\" /><path clip-path=\"url(#clip750)\" d=\"M 0 0 M246.667 1303.94 Q243.056 1303.94 241.227 1307.51 Q239.422 1311.05 239.422 1318.18 Q239.422 1325.29 241.227 1328.85 Q243.056 1332.39 246.667 1332.39 Q250.301 1332.39 252.107 1328.85 Q253.935 1325.29 253.935 1318.18 Q253.935 1311.05 252.107 1307.51 Q250.301 1303.94 246.667 1303.94 M246.667 1300.24 Q252.477 1300.24 255.533 1304.85 Q258.611 1309.43 258.611 1318.18 Q258.611 1326.91 255.533 1331.51 Q252.477 1336.1 246.667 1336.1 Q240.857 1336.1 237.778 1331.51 Q234.722 1326.91 234.722 1318.18 Q234.722 1309.43 237.778 1304.85 Q240.857 1300.24 246.667 1300.24 Z\" fill=\"#000000\" fill-rule=\"evenodd\" fill-opacity=\"1\" /><path clip-path=\"url(#clip750)\" d=\"M 0 0 M127.593 1031.21 Q124.445 1031.21 122.593 1033.36 Q120.765 1035.52 120.765 1039.27 Q120.765 1042.99 122.593 1045.17 Q124.445 1047.32 127.593 1047.32 Q130.742 1047.32 132.57 1045.17 Q134.422 1042.99 134.422 1039.27 Q134.422 1035.52 132.57 1033.36 Q130.742 1031.21 127.593 1031.21 M136.876 1016.56 L136.876 1020.82 Q135.117 1019.99 133.311 1019.55 Q131.529 1019.11 129.769 1019.11 Q125.14 1019.11 122.686 1022.23 Q120.255 1025.36 119.908 1031.67 Q121.274 1029.66 123.334 1028.6 Q125.394 1027.51 127.871 1027.51 Q133.08 1027.51 136.089 1030.68 Q139.121 1033.83 139.121 1039.27 Q139.121 1044.59 135.973 1047.81 Q132.825 1051.03 127.593 1051.03 Q121.598 1051.03 118.427 1046.44 Q115.256 1041.84 115.256 1033.11 Q115.256 1024.92 119.144 1020.05 Q123.033 1015.17 129.584 1015.17 Q131.343 1015.17 133.126 1015.52 Q134.931 1015.86 136.876 1016.56 Z\" fill=\"#000000\" fill-rule=\"evenodd\" fill-opacity=\"1\" /><path clip-path=\"url(#clip750)\" d=\"M 0 0 M157.177 1018.87 Q153.566 1018.87 151.737 1022.44 Q149.931 1025.98 149.931 1033.11 Q149.931 1040.22 151.737 1043.78 Q153.566 1047.32 157.177 1047.32 Q160.811 1047.32 162.616 1043.78 Q164.445 1040.22 164.445 1033.11 Q164.445 1025.98 162.616 1022.44 Q160.811 1018.87 157.177 1018.87 M157.177 1015.17 Q162.987 1015.17 166.042 1019.78 Q169.121 1024.36 169.121 1033.11 Q169.121 1041.84 166.042 1046.44 Q162.987 1051.03 157.177 1051.03 Q151.366 1051.03 148.288 1046.44 Q145.232 1041.84 145.232 1033.11 Q145.232 1024.36 148.288 1019.78 Q151.366 1015.17 157.177 1015.17 Z\" fill=\"#000000\" fill-rule=\"evenodd\" fill-opacity=\"1\" /><path clip-path=\"url(#clip750)\" d=\"M 0 0 M187.338 1033.94 Q184.005 1033.94 182.084 1035.73 Q180.186 1037.51 180.186 1040.63 Q180.186 1043.76 182.084 1045.54 Q184.005 1047.32 187.338 1047.32 Q190.672 1047.32 192.593 1045.54 Q194.514 1043.73 194.514 1040.63 Q194.514 1037.51 192.593 1035.73 Q190.695 1033.94 187.338 1033.94 M182.663 1031.95 Q179.653 1031.21 177.964 1029.15 Q176.297 1027.09 176.297 1024.13 Q176.297 1019.99 179.237 1017.58 Q182.2 1015.17 187.338 1015.17 Q192.5 1015.17 195.44 1017.58 Q198.38 1019.99 198.38 1024.13 Q198.38 1027.09 196.69 1029.15 Q195.024 1031.21 192.038 1031.95 Q195.417 1032.74 197.292 1035.03 Q199.19 1037.32 199.19 1040.63 Q199.19 1045.66 196.112 1048.34 Q193.056 1051.03 187.338 1051.03 Q181.621 1051.03 178.542 1048.34 Q175.487 1045.66 175.487 1040.63 Q175.487 1037.32 177.385 1035.03 Q179.283 1032.74 182.663 1031.95 M180.95 1024.57 Q180.95 1027.25 182.616 1028.76 Q184.306 1030.26 187.338 1030.26 Q190.348 1030.26 192.038 1028.76 Q193.75 1027.25 193.75 1024.57 Q193.75 1021.88 192.038 1020.38 Q190.348 1018.87 187.338 1018.87 Q184.306 1018.87 182.616 1020.38 Q180.95 1021.88 180.95 1024.57 Z\" fill=\"#000000\" fill-rule=\"evenodd\" fill-opacity=\"1\" /><path clip-path=\"url(#clip750)\" d=\"M 0 0 M206.32 1015.8 L228.542 1015.8 L228.542 1017.79 L215.996 1050.36 L211.111 1050.36 L222.917 1019.73 L206.32 1019.73 L206.32 1015.8 Z\" fill=\"#000000\" fill-rule=\"evenodd\" fill-opacity=\"1\" /><path clip-path=\"url(#clip750)\" d=\"M 0 0 M237.709 1015.8 L256.065 1015.8 L256.065 1019.73 L241.991 1019.73 L241.991 1028.2 Q243.009 1027.86 244.028 1027.69 Q245.046 1027.51 246.065 1027.51 Q251.852 1027.51 255.232 1030.68 Q258.611 1033.85 258.611 1039.27 Q258.611 1044.85 255.139 1047.95 Q251.667 1051.03 245.347 1051.03 Q243.172 1051.03 240.903 1050.66 Q238.658 1050.29 236.25 1049.55 L236.25 1044.85 Q238.334 1045.98 240.556 1046.54 Q242.778 1047.09 245.255 1047.09 Q249.259 1047.09 251.597 1044.98 Q253.935 1042.88 253.935 1039.27 Q253.935 1035.66 251.597 1033.55 Q249.259 1031.44 245.255 1031.44 Q243.38 1031.44 241.505 1031.86 Q239.653 1032.28 237.709 1033.16 L237.709 1015.8 Z\" fill=\"#000000\" fill-rule=\"evenodd\" fill-opacity=\"1\" /><path clip-path=\"url(#clip750)\" d=\"M 0 0 M126.598 746.142 Q123.45 746.142 121.598 748.295 Q119.769 750.448 119.769 754.198 Q119.769 757.925 121.598 760.101 Q123.45 762.253 126.598 762.253 Q129.746 762.253 131.575 760.101 Q133.427 757.925 133.427 754.198 Q133.427 750.448 131.575 748.295 Q129.746 746.142 126.598 746.142 M135.88 731.49 L135.88 735.749 Q134.121 734.916 132.316 734.476 Q130.533 734.036 128.774 734.036 Q124.144 734.036 121.691 737.161 Q119.26 740.286 118.913 746.605 Q120.279 744.592 122.339 743.527 Q124.399 742.439 126.876 742.439 Q132.084 742.439 135.093 745.61 Q138.126 748.758 138.126 754.198 Q138.126 759.522 134.978 762.74 Q131.83 765.957 126.598 765.957 Q120.603 765.957 117.431 761.374 Q114.26 756.767 114.26 748.041 Q114.26 739.846 118.149 734.985 Q122.038 730.101 128.589 730.101 Q130.348 730.101 132.13 730.448 Q133.936 730.795 135.88 731.49 Z\" fill=\"#000000\" fill-rule=\"evenodd\" fill-opacity=\"1\" /><path clip-path=\"url(#clip750)\" d=\"M 0 0 M156.181 733.805 Q152.57 733.805 150.741 737.369 Q148.936 740.911 148.936 748.041 Q148.936 755.147 150.741 758.712 Q152.57 762.253 156.181 762.253 Q159.815 762.253 161.621 758.712 Q163.45 755.147 163.45 748.041 Q163.45 740.911 161.621 737.369 Q159.815 733.805 156.181 733.805 M156.181 730.101 Q161.991 730.101 165.047 734.707 Q168.126 739.291 168.126 748.041 Q168.126 756.767 165.047 761.374 Q161.991 765.957 156.181 765.957 Q150.371 765.957 147.292 761.374 Q144.237 756.767 144.237 748.041 Q144.237 739.291 147.292 734.707 Q150.371 730.101 156.181 730.101 Z\" fill=\"#000000\" fill-rule=\"evenodd\" fill-opacity=\"1\" /><path clip-path=\"url(#clip750)\" d=\"M 0 0 M176.482 764.568 L176.482 760.309 Q178.241 761.142 180.047 761.582 Q181.852 762.022 183.588 762.022 Q188.218 762.022 190.649 758.92 Q193.102 755.795 193.45 749.453 Q192.107 751.443 190.047 752.508 Q187.987 753.573 185.487 753.573 Q180.301 753.573 177.269 750.448 Q174.26 747.3 174.26 741.86 Q174.26 736.536 177.408 733.318 Q180.556 730.101 185.788 730.101 Q191.783 730.101 194.931 734.707 Q198.102 739.291 198.102 748.041 Q198.102 756.212 194.213 761.096 Q190.348 765.957 183.797 765.957 Q182.038 765.957 180.232 765.61 Q178.426 765.263 176.482 764.568 M185.788 749.916 Q188.936 749.916 190.764 747.763 Q192.616 745.61 192.616 741.86 Q192.616 738.133 190.764 735.98 Q188.936 733.805 185.788 733.805 Q182.639 733.805 180.788 735.98 Q178.959 738.133 178.959 741.86 Q178.959 745.61 180.788 747.763 Q182.639 749.916 185.788 749.916 Z\" fill=\"#000000\" fill-rule=\"evenodd\" fill-opacity=\"1\" /><path clip-path=\"url(#clip750)\" d=\"M 0 0 M216.505 733.805 Q212.894 733.805 211.065 737.369 Q209.26 740.911 209.26 748.041 Q209.26 755.147 211.065 758.712 Q212.894 762.253 216.505 762.253 Q220.139 762.253 221.945 758.712 Q223.773 755.147 223.773 748.041 Q223.773 740.911 221.945 737.369 Q220.139 733.805 216.505 733.805 M216.505 730.101 Q222.315 730.101 225.371 734.707 Q228.449 739.291 228.449 748.041 Q228.449 756.767 225.371 761.374 Q222.315 765.957 216.505 765.957 Q210.695 765.957 207.616 761.374 Q204.561 756.767 204.561 748.041 Q204.561 739.291 207.616 734.707 Q210.695 730.101 216.505 730.101 Z\" fill=\"#000000\" fill-rule=\"evenodd\" fill-opacity=\"1\" /><path clip-path=\"url(#clip750)\" d=\"M 0 0 M246.667 733.805 Q243.056 733.805 241.227 737.369 Q239.422 740.911 239.422 748.041 Q239.422 755.147 241.227 758.712 Q243.056 762.253 246.667 762.253 Q250.301 762.253 252.107 758.712 Q253.935 755.147 253.935 748.041 Q253.935 740.911 252.107 737.369 Q250.301 733.805 246.667 733.805 M246.667 730.101 Q252.477 730.101 255.533 734.707 Q258.611 739.291 258.611 748.041 Q258.611 756.767 255.533 761.374 Q252.477 765.957 246.667 765.957 Q240.857 765.957 237.778 761.374 Q234.722 756.767 234.722 748.041 Q234.722 739.291 237.778 734.707 Q240.857 730.101 246.667 730.101 Z\" fill=\"#000000\" fill-rule=\"evenodd\" fill-opacity=\"1\" /><path clip-path=\"url(#clip750)\" d=\"M 0 0 M127.593 461.073 Q124.445 461.073 122.593 463.226 Q120.765 465.379 120.765 469.129 Q120.765 472.855 122.593 475.031 Q124.445 477.184 127.593 477.184 Q130.742 477.184 132.57 475.031 Q134.422 472.855 134.422 469.129 Q134.422 465.379 132.57 463.226 Q130.742 461.073 127.593 461.073 M136.876 446.42 L136.876 450.68 Q135.117 449.846 133.311 449.406 Q131.529 448.967 129.769 448.967 Q125.14 448.967 122.686 452.092 Q120.255 455.217 119.908 461.536 Q121.274 459.522 123.334 458.457 Q125.394 457.369 127.871 457.369 Q133.08 457.369 136.089 460.541 Q139.121 463.689 139.121 469.129 Q139.121 474.453 135.973 477.67 Q132.825 480.888 127.593 480.888 Q121.598 480.888 118.427 476.304 Q115.256 471.698 115.256 462.971 Q115.256 454.777 119.144 449.916 Q123.033 445.032 129.584 445.032 Q131.343 445.032 133.126 445.379 Q134.931 445.726 136.876 446.42 Z\" fill=\"#000000\" fill-rule=\"evenodd\" fill-opacity=\"1\" /><path clip-path=\"url(#clip750)\" d=\"M 0 0 M157.177 448.735 Q153.566 448.735 151.737 452.3 Q149.931 455.842 149.931 462.971 Q149.931 470.078 151.737 473.642 Q153.566 477.184 157.177 477.184 Q160.811 477.184 162.616 473.642 Q164.445 470.078 164.445 462.971 Q164.445 455.842 162.616 452.3 Q160.811 448.735 157.177 448.735 M157.177 445.032 Q162.987 445.032 166.042 449.638 Q169.121 454.221 169.121 462.971 Q169.121 471.698 166.042 476.304 Q162.987 480.888 157.177 480.888 Q151.366 480.888 148.288 476.304 Q145.232 471.698 145.232 462.971 Q145.232 454.221 148.288 449.638 Q151.366 445.032 157.177 445.032 Z\" fill=\"#000000\" fill-rule=\"evenodd\" fill-opacity=\"1\" /><path clip-path=\"url(#clip750)\" d=\"M 0 0 M177.477 479.499 L177.477 475.24 Q179.237 476.073 181.042 476.513 Q182.848 476.953 184.584 476.953 Q189.213 476.953 191.644 473.851 Q194.098 470.726 194.445 464.383 Q193.102 466.374 191.042 467.439 Q188.982 468.504 186.482 468.504 Q181.297 468.504 178.264 465.379 Q175.255 462.23 175.255 456.791 Q175.255 451.467 178.403 448.249 Q181.551 445.032 186.783 445.032 Q192.778 445.032 195.926 449.638 Q199.098 454.221 199.098 462.971 Q199.098 471.142 195.209 476.027 Q191.343 480.888 184.792 480.888 Q183.033 480.888 181.227 480.541 Q179.422 480.193 177.477 479.499 M186.783 464.846 Q189.931 464.846 191.76 462.693 Q193.612 460.541 193.612 456.791 Q193.612 453.064 191.76 450.911 Q189.931 448.735 186.783 448.735 Q183.635 448.735 181.783 450.911 Q179.954 453.064 179.954 456.791 Q179.954 460.541 181.783 462.693 Q183.635 464.846 186.783 464.846 Z\" fill=\"#000000\" fill-rule=\"evenodd\" fill-opacity=\"1\" /><path clip-path=\"url(#clip750)\" d=\"M 0 0 M211.528 476.281 L227.848 476.281 L227.848 480.217 L205.903 480.217 L205.903 476.281 Q208.565 473.527 213.149 468.897 Q217.755 464.244 218.936 462.902 Q221.181 460.379 222.061 458.643 Q222.963 456.883 222.963 455.193 Q222.963 452.439 221.019 450.703 Q219.098 448.967 215.996 448.967 Q213.797 448.967 211.343 449.731 Q208.912 450.494 206.135 452.045 L206.135 447.323 Q208.959 446.189 211.412 445.61 Q213.866 445.032 215.903 445.032 Q221.273 445.032 224.468 447.717 Q227.662 450.402 227.662 454.893 Q227.662 457.022 226.852 458.943 Q226.065 460.842 223.959 463.434 Q223.38 464.105 220.278 467.323 Q217.176 470.517 211.528 476.281 Z\" fill=\"#000000\" fill-rule=\"evenodd\" fill-opacity=\"1\" /><path clip-path=\"url(#clip750)\" d=\"M 0 0 M237.709 445.657 L256.065 445.657 L256.065 449.592 L241.991 449.592 L241.991 458.064 Q243.009 457.717 244.028 457.555 Q245.046 457.369 246.065 457.369 Q251.852 457.369 255.232 460.541 Q258.611 463.712 258.611 469.129 Q258.611 474.707 255.139 477.809 Q251.667 480.888 245.347 480.888 Q243.172 480.888 240.903 480.517 Q238.658 480.147 236.25 479.406 L236.25 474.707 Q238.334 475.842 240.556 476.397 Q242.778 476.953 245.255 476.953 Q249.259 476.953 251.597 474.846 Q253.935 472.74 253.935 469.129 Q253.935 465.518 251.597 463.411 Q249.259 461.305 245.255 461.305 Q243.38 461.305 241.505 461.721 Q239.653 462.138 237.709 463.018 L237.709 445.657 Z\" fill=\"#000000\" fill-rule=\"evenodd\" fill-opacity=\"1\" /><path clip-path=\"url(#clip750)\" d=\"M 0 0 M126.598 176.004 Q123.45 176.004 121.598 178.156 Q119.769 180.309 119.769 184.059 Q119.769 187.786 121.598 189.962 Q123.45 192.115 126.598 192.115 Q129.746 192.115 131.575 189.962 Q133.427 187.786 133.427 184.059 Q133.427 180.309 131.575 178.156 Q129.746 176.004 126.598 176.004 M135.88 161.351 L135.88 165.61 Q134.121 164.777 132.316 164.337 Q130.533 163.897 128.774 163.897 Q124.144 163.897 121.691 167.022 Q119.26 170.147 118.913 176.467 Q120.279 174.453 122.339 173.388 Q124.399 172.3 126.876 172.3 Q132.084 172.3 135.093 175.471 Q138.126 178.619 138.126 184.059 Q138.126 189.383 134.978 192.601 Q131.83 195.818 126.598 195.818 Q120.603 195.818 117.431 191.235 Q114.26 186.629 114.26 177.902 Q114.26 169.707 118.149 164.846 Q122.038 159.962 128.589 159.962 Q130.348 159.962 132.13 160.309 Q133.936 160.657 135.88 161.351 Z\" fill=\"#000000\" fill-rule=\"evenodd\" fill-opacity=\"1\" /><path clip-path=\"url(#clip750)\" d=\"M 0 0 M156.181 163.666 Q152.57 163.666 150.741 167.231 Q148.936 170.772 148.936 177.902 Q148.936 185.008 150.741 188.573 Q152.57 192.115 156.181 192.115 Q159.815 192.115 161.621 188.573 Q163.45 185.008 163.45 177.902 Q163.45 170.772 161.621 167.231 Q159.815 163.666 156.181 163.666 M156.181 159.962 Q161.991 159.962 165.047 164.569 Q168.126 169.152 168.126 177.902 Q168.126 186.629 165.047 191.235 Q161.991 195.818 156.181 195.818 Q150.371 195.818 147.292 191.235 Q144.237 186.629 144.237 177.902 Q144.237 169.152 147.292 164.569 Q150.371 159.962 156.181 159.962 Z\" fill=\"#000000\" fill-rule=\"evenodd\" fill-opacity=\"1\" /><path clip-path=\"url(#clip750)\" d=\"M 0 0 M176.482 194.43 L176.482 190.17 Q178.241 191.004 180.047 191.443 Q181.852 191.883 183.588 191.883 Q188.218 191.883 190.649 188.781 Q193.102 185.656 193.45 179.314 Q192.107 181.305 190.047 182.369 Q187.987 183.434 185.487 183.434 Q180.301 183.434 177.269 180.309 Q174.26 177.161 174.26 171.721 Q174.26 166.397 177.408 163.18 Q180.556 159.962 185.788 159.962 Q191.783 159.962 194.931 164.569 Q198.102 169.152 198.102 177.902 Q198.102 186.073 194.213 190.957 Q190.348 195.818 183.797 195.818 Q182.038 195.818 180.232 195.471 Q178.426 195.124 176.482 194.43 M185.788 179.777 Q188.936 179.777 190.764 177.624 Q192.616 175.471 192.616 171.721 Q192.616 167.995 190.764 165.842 Q188.936 163.666 185.788 163.666 Q182.639 163.666 180.788 165.842 Q178.959 167.995 178.959 171.721 Q178.959 175.471 180.788 177.624 Q182.639 179.777 185.788 179.777 Z\" fill=\"#000000\" fill-rule=\"evenodd\" fill-opacity=\"1\" /><path clip-path=\"url(#clip750)\" d=\"M 0 0 M206.551 160.587 L224.908 160.587 L224.908 164.522 L210.834 164.522 L210.834 172.994 Q211.852 172.647 212.871 172.485 Q213.889 172.3 214.908 172.3 Q220.695 172.3 224.074 175.471 Q227.454 178.643 227.454 184.059 Q227.454 189.638 223.982 192.74 Q220.51 195.818 214.19 195.818 Q212.014 195.818 209.746 195.448 Q207.5 195.078 205.093 194.337 L205.093 189.638 Q207.176 190.772 209.399 191.328 Q211.621 191.883 214.098 191.883 Q218.102 191.883 220.44 189.777 Q222.778 187.67 222.778 184.059 Q222.778 180.448 220.44 178.342 Q218.102 176.235 214.098 176.235 Q212.223 176.235 210.348 176.652 Q208.496 177.069 206.551 177.948 L206.551 160.587 Z\" fill=\"#000000\" fill-rule=\"evenodd\" fill-opacity=\"1\" /><path clip-path=\"url(#clip750)\" d=\"M 0 0 M246.667 163.666 Q243.056 163.666 241.227 167.231 Q239.422 170.772 239.422 177.902 Q239.422 185.008 241.227 188.573 Q243.056 192.115 246.667 192.115 Q250.301 192.115 252.107 188.573 Q253.935 185.008 253.935 177.902 Q253.935 170.772 252.107 167.231 Q250.301 163.666 246.667 163.666 M246.667 159.962 Q252.477 159.962 255.533 164.569 Q258.611 169.152 258.611 177.902 Q258.611 186.629 255.533 191.235 Q252.477 195.818 246.667 195.818 Q240.857 195.818 237.778 191.235 Q234.722 186.629 234.722 177.902 Q234.722 169.152 237.778 164.569 Q240.857 159.962 246.667 159.962 Z\" fill=\"#000000\" fill-rule=\"evenodd\" fill-opacity=\"1\" /><path clip-path=\"url(#clip750)\" d=\"M 0 0 M43.5384 772.117 L43.5384 754.962 L48.7583 754.962 L48.7583 772.117 L43.5384 772.117 Z\" fill=\"#000000\" fill-rule=\"evenodd\" fill-opacity=\"1\" /><path clip-path=\"url(#clip750)\" d=\"M 0 0 M58.5933 739.27 L58.5933 716.831 L64.0042 716.831 L64.0042 747.004 L58.5933 747.004 Q54.8057 743.344 48.44 737.042 Q42.0425 730.708 40.1964 729.085 Q36.7271 725.998 34.34 724.788 Q31.921 723.547 29.5975 723.547 Q25.8099 723.547 23.4228 726.22 Q21.0356 728.862 21.0356 733.127 Q21.0356 736.151 22.086 739.525 Q23.1363 742.867 25.2688 746.686 L18.7758 746.686 Q17.2162 742.803 16.4205 739.429 Q15.6248 736.055 15.6248 733.255 Q15.6248 725.87 19.3169 721.478 Q23.009 717.086 29.1837 717.086 Q32.112 717.086 34.7537 718.2 Q37.3637 719.282 40.9285 722.178 Q41.8515 722.974 46.2757 727.239 Q50.668 731.504 58.5933 739.27 Z\" fill=\"#000000\" fill-rule=\"evenodd\" fill-opacity=\"1\" /><path clip-path=\"url(#clip750)\" d=\"M 0 0 M14.479 704.163 L14.479 698.307 L64.0042 698.307 L64.0042 704.163 L14.479 704.163 Z\" fill=\"#000000\" fill-rule=\"evenodd\" fill-opacity=\"1\" /><polyline clip-path=\"url(#clip752)\" style=\"stroke:#009af9; stroke-width:4; stroke-opacity:1; fill:none\" points=\"\n",
       "  352.861,86.1857 595.566,684.082 838.272,1054.71 1080.98,1267.1 1323.68,1366.65 1566.39,1384.24 1809.1,1341.41 2051.8,1253.58 2294.51,1131.96 \n",
       "  \"/>\n",
       "<polyline clip-path=\"url(#clip752)\" style=\"stroke:#ff0000; stroke-width:4; stroke-opacity:1; fill:none\" stroke-dasharray=\"16, 10\" points=\"\n",
       "  1323.68,2799.12 1323.68,-1328.69 \n",
       "  \"/>\n",
       "</svg>\n"
      ]
     },
     "execution_count": 32,
     "metadata": {},
     "output_type": "execute_result"
    }
   ],
   "source": [
    "θ2s = range(2,4.0,step=0.25)\n",
    "m2l = zeros(length(θ2s))\n",
    "for i in 1:length(θ2s)\n",
    "    m2l[i] = dev5(X,Z,y,log.([θ2s[i]]))\n",
    "end\n",
    "println(\"estimate: \",θ2s[m2l .== maximum(m2l)])\n",
    "plot(θ2s,m2l,legend=false,xlabel=\"θ2\",ylabel=\"-2l\")\n",
    "vline!([θ2],color=:red,linestyle=:dash,legend=false)"
   ]
  },
  {
   "cell_type": "code",
   "execution_count": 33,
   "metadata": {},
   "outputs": [
    {
     "data": {
      "text/plain": [
       "60845.74587216641"
      ]
     },
     "execution_count": 33,
     "metadata": {},
     "output_type": "execute_result"
    }
   ],
   "source": [
    "function fdev5(var::Vector,grad::Vector)\n",
    "    if (length(grad) > 0)\n",
    "        \n",
    "    end\n",
    "    dev5(X,Z,y,var)\n",
    "end\n",
    "fdev5(log.([3.0]),[])"
   ]
  },
  {
   "cell_type": "code",
   "execution_count": 34,
   "metadata": {},
   "outputs": [
    {
     "name": "stdout",
     "output_type": "stream",
     "text": [
      "  9.545044 seconds (1.48 k allocations: 18.264 GiB, 27.88% gc time, 0.05% compilation time)\n",
      "got 60844.12039342739 at [3.2324017331897346] after 5 iterations (returned FTOL_REACHED)\n"
     ]
    }
   ],
   "source": [
    "opt = NLopt.Opt(:LN_BOBYQA, 1)\n",
    "opt.min_objective = fdev5\n",
    "opt.ftol_rel = 0.01\n",
    "@time (minf,minx,ret) = NLopt.optimize(opt,log.([3.0]))\n",
    "minx = exp.(minx)\n",
    "numevals = opt.numevals\n",
    "println(\"got $minf at $minx after $numevals iterations (returned $ret)\")"
   ]
  },
  {
   "cell_type": "markdown",
   "metadata": {},
   "source": [
    "### Method 6"
   ]
  },
  {
   "cell_type": "code",
   "execution_count": 35,
   "metadata": {},
   "outputs": [],
   "source": [
    "# based on Bates spherical RE formulation, y = X\\beta + Z\\Lambda u\n",
    "# u ~ N(0,sigmaI)\n",
    "# Y|B=b ~ N()"
   ]
  },
  {
   "cell_type": "code",
   "execution_count": 90,
   "metadata": {},
   "outputs": [
    {
     "data": {
      "text/plain": [
       "dev6 (generic function with 1 method)"
      ]
     },
     "execution_count": 90,
     "metadata": {},
     "output_type": "execute_result"
    }
   ],
   "source": [
    "function dev6(X,XtX,Z,ZtZ,XtZ,y,logθ2)\n",
    "    θ2 = exp.(logθ2)[1]\n",
    "    θ1 = 1.0\n",
    "    Nn = length(y)\n",
    "    n = size(Z)[2]\n",
    "    p = (size(X)[2]-1)\n",
    "    ϕθ = sparse(θ1*I,N*n,N*n) # noise ~ N(0,Λθ)\n",
    "    Λθ = sparse(sqrt(θ2)*I,n,n)  # b ~ N(0,ϕθ)\n",
    "    D = [[transpose(Λθ)*ZtZ*Λθ + I transpose(Λθ)*transpose(XtZ)]; [XtZ*Λθ XtX]]\n",
    "    Dchol = cholesky(D,perm=1:size(D)[1])\n",
    "    yy = [transpose(Λθ)*transpose(Z)*y; transpose(X)*y]\n",
    "    uβ_ = Dchol \\ yy\n",
    "    u_ = uβ_[1:n]\n",
    "    β_ = uβ_[(n+1):end]\n",
    "    rr = sum((y - X*β_ - Z*Λθ*u_).^2) + sum(u_ .^2)\n",
    "    2*sum(log.(diag(sparse(Dchol.L)[1:n,1:n]))) + Nn*(1 + log((2*pi*rr)/(Nn)))\n",
    "end"
   ]
  },
  {
   "cell_type": "code",
   "execution_count": 92,
   "metadata": {},
   "outputs": [
    {
     "name": "stdout",
     "output_type": "stream",
     "text": [
      "  0.967563 seconds (291 allocations: 474.760 MiB, 38.06% gc time)\n"
     ]
    },
    {
     "data": {
      "text/plain": [
       "2.899412591367423e6"
      ]
     },
     "execution_count": 92,
     "metadata": {},
     "output_type": "execute_result"
    }
   ],
   "source": [
    "dev6(X,XtX,Z,ZtZ,XtZ,y,log.([3.0]));\n",
    "@time dev6(X,XtX,Z,ZtZ,XtZ,y,log.([9.0]))"
   ]
  },
  {
   "cell_type": "code",
   "execution_count": 38,
   "metadata": {},
   "outputs": [
    {
     "data": {
      "text/plain": [
       "60845.74587216641"
      ]
     },
     "execution_count": 38,
     "metadata": {},
     "output_type": "execute_result"
    }
   ],
   "source": [
    "function fdev6(var::Vector,grad::Vector)\n",
    "    if (length(grad) > 0)\n",
    "        \n",
    "    end\n",
    "    dev6(X,XtX,Z,ZtZ,XtZ,y,var)\n",
    "end\n",
    "fdev6(log.([3.0]),[])"
   ]
  },
  {
   "cell_type": "code",
   "execution_count": 39,
   "metadata": {},
   "outputs": [
    {
     "name": "stdout",
     "output_type": "stream",
     "text": [
      "  0.493171 seconds (3.42 k allocations: 338.319 MiB, 8.24% gc time, 0.92% compilation time)\n",
      "got 60844.13952621657 at [3.2369781232010424] after 9 iterations (returned FTOL_REACHED)\n"
     ]
    }
   ],
   "source": [
    "opt = NLopt.Opt(:LN_BOBYQA, 1)\n",
    "opt.min_objective = fdev6\n",
    "opt.ftol_rel = 0.00001\n",
    "@time (minf,minx,ret) = NLopt.optimize(opt,log.([9.0]))\n",
    "minx = exp.(minx)\n",
    "numevals = opt.numevals\n",
    "println(\"got $minf at $minx after $numevals iterations (returned $ret)\")"
   ]
  },
  {
   "cell_type": "markdown",
   "metadata": {},
   "source": [
    "### Method 7"
   ]
  },
  {
   "cell_type": "code",
   "execution_count": 40,
   "metadata": {},
   "outputs": [],
   "source": [
    "# based on Bates spherical RE formulation, y = X\\beta + Z\\Lambda u\n",
    "# u ~ N(0,sigmaI)\n",
    "# Y|B=b ~ N()"
   ]
  },
  {
   "cell_type": "code",
   "execution_count": 87,
   "metadata": {},
   "outputs": [
    {
     "data": {
      "text/plain": [
       "dev7 (generic function with 1 method)"
      ]
     },
     "execution_count": 87,
     "metadata": {},
     "output_type": "execute_result"
    }
   ],
   "source": [
    "function dev7(X,XtX,Z,ZtZ,XtZ,y,logθ2)\n",
    "    θ2 = exp.(logθ2)[1]\n",
    "    #θ1 = 1.0\n",
    "    Nn = length(y)\n",
    "    n = size(Z)[2]\n",
    "    p = (size(X)[2]-1)\n",
    "    D = [[θ2*ZtZ + I sqrt(θ2)*transpose(XtZ)]; [XtZ*sqrt(θ2) XtX]]\n",
    "    Dchol = cholesky(D,perm=1:size(D)[1])\n",
    "    yy = [sqrt(θ2)*transpose(Z)*y; transpose(X)*y]\n",
    "    uβ_ = Dchol \\ yy\n",
    "    u_ = uβ_[1:n]\n",
    "    β_ = uβ_[(n+1):end]\n",
    "    rr = sum((y - X*β_ - Z*sqrt(θ2)*u_).^2) + sum(u_ .^2)\n",
    "    2*sum(log.(diag(sparse(Dchol.L)[1:n,1:n]))) + Nn*(1 + log((2*pi*rr)/(Nn)))\n",
    "end"
   ]
  },
  {
   "cell_type": "code",
   "execution_count": 89,
   "metadata": {},
   "outputs": [
    {
     "name": "stdout",
     "output_type": "stream",
     "text": [
      "  0.907043 seconds (245 allocations: 431.174 MiB, 35.54% gc time)\n"
     ]
    },
    {
     "data": {
      "text/plain": [
       "2.895189689481789e6"
      ]
     },
     "execution_count": 89,
     "metadata": {},
     "output_type": "execute_result"
    }
   ],
   "source": [
    "dev7(X,XtX,Z,ZtZ,XtZ,y,log.([3.0]));\n",
    "@time dev7(X,XtX,Z,ZtZ,XtZ,y,log.([3.0]))"
   ]
  },
  {
   "cell_type": "code",
   "execution_count": 43,
   "metadata": {},
   "outputs": [
    {
     "data": {
      "text/plain": [
       "60845.74587216641"
      ]
     },
     "execution_count": 43,
     "metadata": {},
     "output_type": "execute_result"
    }
   ],
   "source": [
    "function fdev7(var::Vector,grad::Vector)\n",
    "    if (length(grad) > 0)\n",
    "        \n",
    "    end\n",
    "    dev7(X,XtX,Z,ZtZ,XtZ,y,var)\n",
    "end\n",
    "fdev7(log.([3.0]),[])"
   ]
  },
  {
   "cell_type": "code",
   "execution_count": 44,
   "metadata": {},
   "outputs": [
    {
     "name": "stdout",
     "output_type": "stream",
     "text": [
      "  0.254685 seconds (2.25 k allocations: 183.045 MiB, 5.95% gc time, 1.63% compilation time)\n",
      "got 60844.057613542915 at [3.2122251692731627] after 5 iterations (returned FTOL_REACHED)\n"
     ]
    }
   ],
   "source": [
    "opt = NLopt.Opt(:LN_BOBYQA, 1)\n",
    "opt.min_objective = fdev7\n",
    "opt.ftol_rel = 0.01\n",
    "@time (minf,minx,ret) = NLopt.optimize(opt,log.([2.9]))\n",
    "minx = exp.(minx)\n",
    "numevals = opt.numevals\n",
    "println(\"got $minf at $minx after $numevals iterations (returned $ret)\")"
   ]
  },
  {
   "cell_type": "markdown",
   "metadata": {},
   "source": [
    "### Method 8"
   ]
  },
  {
   "cell_type": "code",
   "execution_count": 45,
   "metadata": {},
   "outputs": [],
   "source": [
    "# based on Bates spherical RE formulation, y = X\\beta + Z\\Lambda u\n",
    "# u ~ N(0,sigmaI)\n",
    "# Y|B=b ~ N()"
   ]
  },
  {
   "cell_type": "code",
   "execution_count": 46,
   "metadata": {},
   "outputs": [
    {
     "ename": "LoadError",
     "evalue": "UndefVarError: logθ2 not defined",
     "output_type": "error",
     "traceback": [
      "UndefVarError: logθ2 not defined",
      "",
      "Stacktrace:",
      " [1] top-level scope",
      "   @ :0",
      " [2] eval",
      "   @ .\\boot.jl:360 [inlined]",
      " [3] include_string(mapexpr::typeof(REPL.softscope), mod::Module, code::String, filename::String)",
      "   @ Base .\\loading.jl:1094"
     ]
    }
   ],
   "source": [
    "logθ2"
   ]
  },
  {
   "cell_type": "code",
   "execution_count": 84,
   "metadata": {},
   "outputs": [
    {
     "data": {
      "text/plain": [
       "dev8 (generic function with 1 method)"
      ]
     },
     "execution_count": 84,
     "metadata": {},
     "output_type": "execute_result"
    }
   ],
   "source": [
    "function dev8(X,XtX,Z,ZtZ,XtZ,y,logθ2,n_levels,uβ_)\n",
    "    θ2 = exp.(logθ2)[1]\n",
    "    #θ1 = 1.0\n",
    "    Nn = length(y)\n",
    "    n = size(Z)[2]\n",
    "    p = (size(X)[2]-1)\n",
    "    D = [[θ2*ZtZ + I sqrt(θ2)*transpose(XtZ)]; [XtZ*sqrt(θ2) XtX]]\n",
    "    #Dchol = cholesky(D,perm=1:size(D)[1])\n",
    "    yy = [sqrt(θ2)*transpose(Z)*y; transpose(X)*y]\n",
    "    uβ_[1:end] = D \\ yy\n",
    "    u_ = uβ_[1:n]\n",
    "    β_ = uβ_[(n+1):end]\n",
    "    rr = sum((y - X*β_ - Z*sqrt(θ2)*u_).^2) + sum(u_ .^2)\n",
    "    logdetθ = sum(log.(θ2*n_levels .+ 1.0))\n",
    "    logdetθ + Nn*(1 + log((2*pi*rr)/(Nn)))\n",
    "end"
   ]
  },
  {
   "cell_type": "code",
   "execution_count": 86,
   "metadata": {},
   "outputs": [
    {
     "name": "stdout",
     "output_type": "stream",
     "text": [
      "  0.854452 seconds (179 allocations: 398.214 MiB, 37.41% gc time)\n"
     ]
    },
    {
     "data": {
      "text/plain": [
       "2.895189689481789e6"
      ]
     },
     "execution_count": 86,
     "metadata": {},
     "output_type": "execute_result"
    }
   ],
   "source": [
    "uβ_ = zeros(n+p+1)\n",
    "dev8(X,XtX,Z,ZtZ,XtZ,y,log.([3.0]),n_levels,uβ_);\n",
    "@time dev8(X,XtX,Z,ZtZ,XtZ,y,log.([3.0]),n_levels,uβ_)\n",
    "#    0.923071 seconds (179 allocations: 398.214 MiB, 41.06% gc time)"
   ]
  },
  {
   "cell_type": "code",
   "execution_count": 72,
   "metadata": {},
   "outputs": [
    {
     "data": {
      "text/plain": [
       "2.895189689481789e6"
      ]
     },
     "execution_count": 72,
     "metadata": {},
     "output_type": "execute_result"
    }
   ],
   "source": [
    "function fdev8(var::Vector,grad::Vector)\n",
    "    if (length(grad) > 0)\n",
    "        \n",
    "    end\n",
    "    dev8(X,XtX,Z,ZtZ,XtZ,y,var,n_levels,uβ_)\n",
    "end\n",
    "fdev8(log.([3.0]),[])"
   ]
  },
  {
   "cell_type": "code",
   "execution_count": null,
   "metadata": {},
   "outputs": [],
   "source": []
  },
  {
   "cell_type": "code",
   "execution_count": null,
   "metadata": {},
   "outputs": [],
   "source": []
  },
  {
   "cell_type": "code",
   "execution_count": 77,
   "metadata": {},
   "outputs": [
    {
     "name": "stdout",
     "output_type": "stream",
     "text": [
      "  9.916753 seconds (2.15 k allocations: 4.667 GiB, 38.24% gc time)\n",
      "got 2.8951899476614934e6 at [2.992351639689909] after 12 iterations (returned FTOL_REACHED)\n"
     ]
    }
   ],
   "source": [
    "uβ_ = zeros(n+p+1)\n",
    "opt = NLopt.Opt(:LN_BOBYQA, 1)\n",
    "opt.min_objective = fdev8\n",
    "opt.ftol_rel = 0.000001\n",
    "@time (minf,minx,ret) = NLopt.optimize(opt,log.([9.0]))\n",
    "minx = exp.(minx)\n",
    "numevals = opt.numevals\n",
    "println(\"got $minf at $minx after $numevals iterations (returned $ret)\")"
   ]
  },
  {
   "cell_type": "code",
   "execution_count": 78,
   "metadata": {},
   "outputs": [
    {
     "data": {
      "text/plain": [
       "(1000000, 101)"
      ]
     },
     "execution_count": 78,
     "metadata": {},
     "output_type": "execute_result"
    }
   ],
   "source": [
    "size(X)"
   ]
  },
  {
   "cell_type": "code",
   "execution_count": 52,
   "metadata": {},
   "outputs": [
    {
     "name": "stdout",
     "output_type": "stream",
     "text": [
      "number of rows: 1000000\n",
      "dim X: (1000000, 101)\n",
      "dim Z: (1000000, 10000)\n"
     ]
    }
   ],
   "source": [
    "# generate bigger data\n",
    "N, n, p = 100, 10000, 100\n",
    "X = [repeat([1.0],N*n) randn(N*n,p)]\n",
    "β = randn(p+1)\n",
    "θ2 = 3.0\n",
    "b = sqrt(θ2) .* randn(n)\n",
    "Z = sparse(kron(sparse(1I, n, n),repeat([1],N)))\n",
    "y = X * β + Z * b + randn(N*n);\n",
    "n_levels = repeat([N],n);\n",
    "println(\"number of rows: \",length(y))\n",
    "println(\"dim X: \",size(X))\n",
    "println(\"dim Z: \",size(Z))\n",
    "\n",
    "XtX = transpose(X)*X;\n",
    "ZtZ = transpose(Z)*Z;\n",
    "XtZ = transpose(X)*Z;"
   ]
  },
  {
   "cell_type": "code",
   "execution_count": null,
   "metadata": {},
   "outputs": [],
   "source": []
  },
  {
   "cell_type": "code",
   "execution_count": null,
   "metadata": {},
   "outputs": [],
   "source": []
  },
  {
   "cell_type": "code",
   "execution_count": 53,
   "metadata": {},
   "outputs": [
    {
     "ename": "LoadError",
     "evalue": "MethodError: no method matching dev8(::Matrix{Float64}, ::Matrix{Float64}, ::SparseMatrixCSC{Int64, Int64}, ::SparseMatrixCSC{Int64, Int64}, ::Matrix{Float64}, ::Vector{Float64}, ::Vector{Float64}, ::Vector{Int64})\n\u001b[0mClosest candidates are:\n\u001b[0m  dev8(::Any, ::Any, ::Any, ::Any, ::Any, ::Any, ::Any, ::Any, \u001b[91m::Any\u001b[39m) at In[47]:1",
     "output_type": "error",
     "traceback": [
      "MethodError: no method matching dev8(::Matrix{Float64}, ::Matrix{Float64}, ::SparseMatrixCSC{Int64, Int64}, ::SparseMatrixCSC{Int64, Int64}, ::Matrix{Float64}, ::Vector{Float64}, ::Vector{Float64}, ::Vector{Int64})\n\u001b[0mClosest candidates are:\n\u001b[0m  dev8(::Any, ::Any, ::Any, ::Any, ::Any, ::Any, ::Any, ::Any, \u001b[91m::Any\u001b[39m) at In[47]:1",
      "",
      "Stacktrace:",
      " [1] top-level scope",
      "   @ .\\timing.jl:210 [inlined]",
      " [2] top-level scope",
      "   @ .\\In[53]:0",
      " [3] eval",
      "   @ .\\boot.jl:360 [inlined]",
      " [4] include_string(mapexpr::typeof(REPL.softscope), mod::Module, code::String, filename::String)",
      "   @ Base .\\loading.jl:1094"
     ]
    }
   ],
   "source": [
    "#dev8(X,XtX,Z,ZtZ,XtZ,y,log.([3.0]),n_levels);\n",
    "@time dev8(X,XtX,Z,ZtZ,XtZ,y,log.([3.0]),n_levels)"
   ]
  },
  {
   "cell_type": "code",
   "execution_count": 54,
   "metadata": {},
   "outputs": [
    {
     "ename": "LoadError",
     "evalue": "MethodError: no method matching dev8(::Matrix{Float64}, ::Matrix{Float64}, ::SparseMatrixCSC{Int64, Int64}, ::SparseMatrixCSC{Int64, Int64}, ::Matrix{Float64}, ::Vector{Float64}, ::Vector{Float64}, ::Vector{Int64})\n\u001b[0mClosest candidates are:\n\u001b[0m  dev8(::Any, ::Any, ::Any, ::Any, ::Any, ::Any, ::Any, ::Any, \u001b[91m::Any\u001b[39m) at In[47]:1",
     "output_type": "error",
     "traceback": [
      "MethodError: no method matching dev8(::Matrix{Float64}, ::Matrix{Float64}, ::SparseMatrixCSC{Int64, Int64}, ::SparseMatrixCSC{Int64, Int64}, ::Matrix{Float64}, ::Vector{Float64}, ::Vector{Float64}, ::Vector{Int64})\n\u001b[0mClosest candidates are:\n\u001b[0m  dev8(::Any, ::Any, ::Any, ::Any, ::Any, ::Any, ::Any, ::Any, \u001b[91m::Any\u001b[39m) at In[47]:1",
      "",
      "Stacktrace:",
      " [1] fdev8(var::Vector{Float64}, grad::Vector{Any})",
      "   @ Main .\\In[54]:5",
      " [2] top-level scope",
      "   @ In[54]:7",
      " [3] eval",
      "   @ .\\boot.jl:360 [inlined]",
      " [4] include_string(mapexpr::typeof(REPL.softscope), mod::Module, code::String, filename::String)",
      "   @ Base .\\loading.jl:1094"
     ]
    }
   ],
   "source": [
    "function fdev8(var::Vector,grad::Vector)\n",
    "    if (length(grad) > 0)\n",
    "        \n",
    "    end\n",
    "    dev8(X,XtX,Z,ZtZ,XtZ,y,var,n_levels)\n",
    "end\n",
    "fdev8(log.([3.0]),[])"
   ]
  },
  {
   "cell_type": "code",
   "execution_count": 55,
   "metadata": {},
   "outputs": [
    {
     "name": "stdout",
     "output_type": "stream",
     "text": [
      "  0.032514 seconds (1.20 k allocations: 77.812 KiB, 13.13% compilation time)\n",
      "got 0.0 at [2.9] after 1 iterations (returned FORCED_STOP)\n"
     ]
    }
   ],
   "source": [
    "opt = NLopt.Opt(:LN_BOBYQA, 1)\n",
    "opt.min_objective = fdev8\n",
    "opt.ftol_rel = 0.0000001\n",
    "@time (minf,minx,ret) = NLopt.optimize(opt,log.([2.9]))\n",
    "minx = exp.(minx)\n",
    "numevals = opt.numevals\n",
    "println(\"got $minf at $minx after $numevals iterations (returned $ret)\")"
   ]
  },
  {
   "cell_type": "code",
   "execution_count": null,
   "metadata": {},
   "outputs": [],
   "source": []
  },
  {
   "cell_type": "markdown",
   "metadata": {},
   "source": [
    "### Method 9"
   ]
  },
  {
   "cell_type": "code",
   "execution_count": 116,
   "metadata": {},
   "outputs": [
    {
     "data": {
      "text/plain": [
       "dev9 (generic function with 2 methods)"
      ]
     },
     "execution_count": 116,
     "metadata": {},
     "output_type": "execute_result"
    }
   ],
   "source": [
    "function dev9(D,yy,X,Z,y,logθ2,n_levels,uβ_)\n",
    "    θ2 = exp.(logθ2)[1]\n",
    "    #θ1 = 1.0\n",
    "    Nn = length(y)\n",
    "    n = size(Z)[2]\n",
    "    p = (size(X)[2]-1)\n",
    "    #D = [[θ2*ZtZ sqrt(θ2)*transpose(XtZ)]; [XtZ*sqrt(θ2) XtX]]\n",
    "    D[1:n,1:n] = θ2*D[1:n,1:n] + I\n",
    "    D[1:n,(n+1):end] = sqrt(θ2)*D[1:n,(n+1):end]\n",
    "    D[(n+1):end,(n+1):end] = sqrt(θ2)*D[(n+1):end,(n+1):end]\n",
    "    #Dchol = cholesky(D,perm=1:size(D)[1])\n",
    "    yy[1:n] = sqrt(θ2)*yy[1:n]\n",
    "    uβ_[1:(n+p+1)] = D \\ yy\n",
    "    u_ = @view uβ_[1:n]\n",
    "    β_ = @view uβ_[(n+1):end]\n",
    "    rr = sum((y - X*β_ - Z*sqrt(θ2)*u_).^2) + sum(u_ .^2)\n",
    "    logdetθ = sum(log.(θ2*n_levels .+ 1.0))\n",
    "    logdetθ + Nn*(1 + log((2*pi*rr)/(Nn)))\n",
    "end"
   ]
  },
  {
   "cell_type": "code",
   "execution_count": 117,
   "metadata": {},
   "outputs": [
    {
     "name": "stdout",
     "output_type": "stream",
     "text": [
      "  0.980979 seconds (173 allocations: 350.333 MiB, 30.28% gc time)\n"
     ]
    },
    {
     "data": {
      "text/plain": [
       "6.801102251760842e6"
      ]
     },
     "execution_count": 117,
     "metadata": {},
     "output_type": "execute_result"
    }
   ],
   "source": [
    "logθ2 = log.([3.0])\n",
    "θ2 = exp.(logθ2)[1]\n",
    "D = [[ZtZ transpose(XtZ)]; [XtZ XtX]]\n",
    "yy = [transpose(Z)*y; transpose(X)*y]\n",
    "uβ_ = zeros(n+p+1)\n",
    "dev9(D,yy,X,Z,y,log.([3.0]),n_levels,uβ_)\n",
    "@time dev9(D,yy,X,Z,y,log.([3.0]),n_levels,uβ_)"
   ]
  },
  {
   "cell_type": "code",
   "execution_count": 58,
   "metadata": {},
   "outputs": [
    {
     "data": {
      "text/plain": [
       "6.784274790794368e6"
      ]
     },
     "execution_count": 58,
     "metadata": {},
     "output_type": "execute_result"
    }
   ],
   "source": [
    "function fdev9(var::Vector,grad::Vector)\n",
    "    if (length(grad) > 0)\n",
    "        \n",
    "    end\n",
    "    dev9(D,yy,X,Z,y,var,n_levels)\n",
    "end\n",
    "fdev9(log.([2.9]),[])"
   ]
  },
  {
   "cell_type": "code",
   "execution_count": 59,
   "metadata": {},
   "outputs": [
    {
     "name": "stdout",
     "output_type": "stream",
     "text": [
      " 66.116941 seconds (25.86 k allocations: 30.798 GiB, 3.71% gc time, 0.03% compilation time)\n",
      "got 7.178124028709893e6 at [2.9] after 90 iterations (returned ROUNDOFF_LIMITED)\n"
     ]
    }
   ],
   "source": [
    "opt = NLopt.Opt(:LN_BOBYQA, 1)\n",
    "opt.min_objective = fdev9\n",
    "opt.ftol_rel = 0.0000001\n",
    "@time (minf,minx,ret) = NLopt.optimize(opt,log.([2.9]))\n",
    "minx = exp.(minx)\n",
    "numevals = opt.numevals\n",
    "println(\"got $minf at $minx after $numevals iterations (returned $ret)\")"
   ]
  },
  {
   "cell_type": "code",
   "execution_count": null,
   "metadata": {},
   "outputs": [],
   "source": []
  },
  {
   "cell_type": "code",
   "execution_count": null,
   "metadata": {},
   "outputs": [],
   "source": []
  },
  {
   "cell_type": "code",
   "execution_count": null,
   "metadata": {},
   "outputs": [],
   "source": []
  },
  {
   "cell_type": "code",
   "execution_count": null,
   "metadata": {},
   "outputs": [],
   "source": []
  },
  {
   "cell_type": "markdown",
   "metadata": {},
   "source": [
    "### Julia's Mixed Models"
   ]
  },
  {
   "cell_type": "code",
   "execution_count": 60,
   "metadata": {},
   "outputs": [],
   "source": [
    "using MixedModels, DataFrames"
   ]
  },
  {
   "cell_type": "code",
   "execution_count": 61,
   "metadata": {},
   "outputs": [],
   "source": [
    "df = convert(DataFrame, [y X repeat(1:n,inner=N)]);\n",
    "categorical!(df, :x103);\n",
    "select!(df, Not(:x2));"
   ]
  },
  {
   "cell_type": "code",
   "execution_count": 62,
   "metadata": {},
   "outputs": [],
   "source": [
    "# f = \"x3\"\n",
    "# vars = \"x\" .* string.(4:102)\n",
    "# for i in 1:99\n",
    "#     f = f .* \"+\" .* vars[i]\n",
    "# end\n",
    "# #println(f)\n",
    "# f = f .* \"+(1|x103)\"\n",
    "# Meta.parse(f)\n",
    "# #@eval(@formula(Meta.parse(f)))"
   ]
  },
  {
   "cell_type": "code",
   "execution_count": 63,
   "metadata": {},
   "outputs": [
    {
     "name": "stdout",
     "output_type": "stream",
     "text": [
      " 77.872797 seconds (75.33 M allocations: 11.156 GiB, 5.15% gc time, 2.05% compilation time)\n"
     ]
    }
   ],
   "source": [
    "#lhs = Meta.parse(f)\n",
    "# \n",
    "m1 = fit(MixedModel, @formula(x1 ~ x3 + x4 + x5 + x6 + x7 + x8 + x9 + x10 + x11 + x12 + x13 + x14 + x15 + x16 + x17 + x18 + x19 + x20 + x21 + x22 + x23 + x24 + x25 + x26 + x27 + x28 + x29 + x30 + x31 + x32 + x33 + x34 + x35 + x36 + x37 + x38 + x39 + x40 + x41 + x42 + x43 + x44 + x45 + x46 + x47 + x48 + x49 + x50 + x51 + x52 + x53 + x54 + x55 + x56 + x57 + x58 + x59 + x60 + x61 + x62 + x63 + x64 + x65 + x66 + x67 + x68 + x69 + x70 + x71 + x72 + x73 + x74 + x75 + x76 + x77 + x78 + x79 + x80 + x81 + x82 + x83 + x84 + x85 + x86 + x87 + x88 + x89 + x90 + x91 + x92 + x93 + x94 + x95 + x96 + x97 + x98 + x99 + x100 + x101 + x102 + (1 | x103)), df);"
   ]
  },
  {
   "cell_type": "code",
   "execution_count": 79,
   "metadata": {},
   "outputs": [
    {
     "name": "stdout",
     "output_type": "stream",
     "text": [
      " 29.367561 seconds (813.69 k allocations: 6.194 GiB, 10.77% gc time, 11.11% compilation time)\n"
     ]
    }
   ],
   "source": [
    "@time m1 = fit(MixedModel, @formula(x1 ~ x3 + x4 + x5 + x6 + x7 + x8 + x9 + x10 + x11 + x12 + x13 + x14 + x15 + x16 + x17 + x18 + x19 + x20 + x21 + x22 + x23 + x24 + x25 + x26 + x27 + x28 + x29 + x30 + x31 + x32 + x33 + x34 + x35 + x36 + x37 + x38 + x39 + x40 + x41 + x42 + x43 + x44 + x45 + x46 + x47 + x48 + x49 + x50 + x51 + x52 + x53 + x54 + x55 + x56 + x57 + x58 + x59 + x60 + x61 + x62 + x63 + x64 + x65 + x66 + x67 + x68 + x69 + x70 + x71 + x72 + x73 + x74 + x75 + x76 + x77 + x78 + x79 + x80 + x81 + x82 + x83 + x84 + x85 + x86 + x87 + x88 + x89 + x90 + x91 + x92 + x93 + x94 + x95 + x96 + x97 + x98 + x99 + x100 + x101 + x102 + (1 | x103)), df);"
   ]
  },
  {
   "cell_type": "code",
   "execution_count": 80,
   "metadata": {},
   "outputs": [
    {
     "data": {
      "text/latex": [
       "\\begin{tabular}\n",
       "{l | l | r | r}\n",
       "  & Column &  Variance & Std.Dev \\\\\n",
       "\\hline\n",
       "x103 & (Intercept) & 3.02745 & 1.73996 \\\\\n",
       "Residual &   & 1.00015 & 1.00008 \\\\\n",
       "\\end{tabular}\n"
      ],
      "text/markdown": [
       "|          | Column      |  Variance | Std.Dev |\n",
       "|:-------- |:----------- | ---------:| -------:|\n",
       "| x103     | (Intercept) |   3.02745 | 1.73996 |\n",
       "| Residual |             |   1.00015 | 1.00008 |\n"
      ],
      "text/plain": [
       "Variance components:\n",
       "            Column   VarianceStd.Dev.\n",
       "x103     (Intercept)  3.02745 1.73996\n",
       "Residual              1.00015 1.00008\n"
      ]
     },
     "execution_count": 80,
     "metadata": {},
     "output_type": "execute_result"
    }
   ],
   "source": [
    "VarCorr(m1)"
   ]
  },
  {
   "cell_type": "code",
   "execution_count": 65,
   "metadata": {},
   "outputs": [
    {
     "name": "stdout",
     "output_type": "stream",
     "text": [
      "search: \u001b[0m\u001b[1mM\u001b[22m\u001b[0m\u001b[1mi\u001b[22m\u001b[0m\u001b[1mx\u001b[22m\u001b[0m\u001b[1me\u001b[22m\u001b[0m\u001b[1md\u001b[22m\u001b[0m\u001b[1mM\u001b[22m\u001b[0m\u001b[1mo\u001b[22m\u001b[0m\u001b[1md\u001b[22m\u001b[0m\u001b[1me\u001b[22m\u001b[0m\u001b[1ml\u001b[22m \u001b[0m\u001b[1mM\u001b[22m\u001b[0m\u001b[1mi\u001b[22m\u001b[0m\u001b[1mx\u001b[22m\u001b[0m\u001b[1me\u001b[22m\u001b[0m\u001b[1md\u001b[22m\u001b[0m\u001b[1mM\u001b[22m\u001b[0m\u001b[1mo\u001b[22m\u001b[0m\u001b[1md\u001b[22m\u001b[0m\u001b[1me\u001b[22m\u001b[0m\u001b[1ml\u001b[22ms \u001b[0m\u001b[1mM\u001b[22m\u001b[0m\u001b[1mi\u001b[22m\u001b[0m\u001b[1mx\u001b[22m\u001b[0m\u001b[1me\u001b[22m\u001b[0m\u001b[1md\u001b[22m\u001b[0m\u001b[1mM\u001b[22m\u001b[0m\u001b[1mo\u001b[22m\u001b[0m\u001b[1md\u001b[22m\u001b[0m\u001b[1me\u001b[22m\u001b[0m\u001b[1ml\u001b[22mBootstrap Linear\u001b[0m\u001b[1mM\u001b[22m\u001b[0m\u001b[1mi\u001b[22m\u001b[0m\u001b[1mx\u001b[22m\u001b[0m\u001b[1me\u001b[22m\u001b[0m\u001b[1md\u001b[22m\u001b[0m\u001b[1mM\u001b[22m\u001b[0m\u001b[1mo\u001b[22m\u001b[0m\u001b[1md\u001b[22m\u001b[0m\u001b[1me\u001b[22m\u001b[0m\u001b[1ml\u001b[22m\n",
      "\n"
     ]
    },
    {
     "data": {
      "text/latex": [
       "\\begin{verbatim}\n",
       "MixedModel\n",
       "\\end{verbatim}\n",
       "Abstract type for mixed models.  MixedModels.jl implements two subtypes: \\texttt{LinearMixedModel} and \\texttt{GeneralizedLinearMixedModel}.  See the documentation for each for more details.\n",
       "\n",
       "This type is primarily used for dispatch in \\texttt{fit}.  Without a distribution and link function specified, a \\texttt{LinearMixedModel} will be fit.  When a distribution/link function is provided, a \\texttt{GeneralizedLinearModel} is fit, unless that distribution is \\texttt{Normal} and the link is \\texttt{IdentityLink}, in which case the resulting GLMM would be equivalent to a \\texttt{LinearMixedModel} anyway and so the simpler, equivalent \\texttt{LinearMixedModel} will be fit instead.\n",
       "\n"
      ],
      "text/markdown": [
       "```\n",
       "MixedModel\n",
       "```\n",
       "\n",
       "Abstract type for mixed models.  MixedModels.jl implements two subtypes: `LinearMixedModel` and `GeneralizedLinearMixedModel`.  See the documentation for each for more details.\n",
       "\n",
       "This type is primarily used for dispatch in `fit`.  Without a distribution and link function specified, a `LinearMixedModel` will be fit.  When a distribution/link function is provided, a `GeneralizedLinearModel` is fit, unless that distribution is `Normal` and the link is `IdentityLink`, in which case the resulting GLMM would be equivalent to a `LinearMixedModel` anyway and so the simpler, equivalent `LinearMixedModel` will be fit instead.\n"
      ],
      "text/plain": [
       "\u001b[36m  MixedModel\u001b[39m\n",
       "\n",
       "  Abstract type for mixed models. MixedModels.jl implements two subtypes:\n",
       "  \u001b[36mLinearMixedModel\u001b[39m and \u001b[36mGeneralizedLinearMixedModel\u001b[39m. See the documentation for\n",
       "  each for more details.\n",
       "\n",
       "  This type is primarily used for dispatch in \u001b[36mfit\u001b[39m. Without a distribution and\n",
       "  link function specified, a \u001b[36mLinearMixedModel\u001b[39m will be fit. When a\n",
       "  distribution/link function is provided, a \u001b[36mGeneralizedLinearModel\u001b[39m is fit,\n",
       "  unless that distribution is \u001b[36mNormal\u001b[39m and the link is \u001b[36mIdentityLink\u001b[39m, in which\n",
       "  case the resulting GLMM would be equivalent to a \u001b[36mLinearMixedModel\u001b[39m anyway and\n",
       "  so the simpler, equivalent \u001b[36mLinearMixedModel\u001b[39m will be fit instead."
      ]
     },
     "execution_count": 65,
     "metadata": {},
     "output_type": "execute_result"
    }
   ],
   "source": [
    "?MixedModel"
   ]
  },
  {
   "cell_type": "code",
   "execution_count": null,
   "metadata": {},
   "outputs": [],
   "source": []
  },
  {
   "cell_type": "code",
   "execution_count": null,
   "metadata": {},
   "outputs": [],
   "source": []
  },
  {
   "cell_type": "markdown",
   "metadata": {},
   "source": [
    "## Appendix: Multivariate Gaussian\n",
    "\n",
    "$U \\sim N(0,\\sigma^2 I$)\n",
    "\n",
    "$B = \\Lambda(\\theta)U \\sim N(0,\\Lambda(\\theta)\\Lambda(\\theta)^t)$\n"
   ]
  },
  {
   "cell_type": "code",
   "execution_count": 66,
   "metadata": {},
   "outputs": [
    {
     "data": {
      "text/plain": [
       "10×10 LowerTriangular{Float64, Matrix{Float64}}:\n",
       " 1.51658   ⋅        ⋅        ⋅       …   ⋅        ⋅        ⋅        ⋅ \n",
       " 0.0      1.51658   ⋅        ⋅           ⋅        ⋅        ⋅        ⋅ \n",
       " 0.0      0.0      1.51658   ⋅           ⋅        ⋅        ⋅        ⋅ \n",
       " 0.0      0.0      0.0      1.51658      ⋅        ⋅        ⋅        ⋅ \n",
       " 0.0      0.0      0.0      0.0          ⋅        ⋅        ⋅        ⋅ \n",
       " 0.0      0.0      0.0      0.0      …   ⋅        ⋅        ⋅        ⋅ \n",
       " 0.0      0.0      0.0      0.0         1.51658   ⋅        ⋅        ⋅ \n",
       " 0.0      0.0      0.0      0.0         0.0      1.51658   ⋅        ⋅ \n",
       " 0.0      0.0      0.0      0.0         0.0      0.0      1.51658   ⋅ \n",
       " 0.0      0.0      0.0      0.0         0.0      0.0      0.0      1.51658"
      ]
     },
     "execution_count": 66,
     "metadata": {},
     "output_type": "execute_result"
    }
   ],
   "source": [
    "ll = cholesky(Matrix(1I*2.3, 10, 10)).L"
   ]
  },
  {
   "cell_type": "code",
   "execution_count": 67,
   "metadata": {},
   "outputs": [
    {
     "data": {
      "text/plain": [
       "10×10 UpperTriangular{Float64, Matrix{Float64}}:\n",
       " 1.51658  0.0      0.0      0.0      …  0.0      0.0      0.0      0.0\n",
       "  ⋅       1.51658  0.0      0.0         0.0      0.0      0.0      0.0\n",
       "  ⋅        ⋅       1.51658  0.0         0.0      0.0      0.0      0.0\n",
       "  ⋅        ⋅        ⋅       1.51658     0.0      0.0      0.0      0.0\n",
       "  ⋅        ⋅        ⋅        ⋅          0.0      0.0      0.0      0.0\n",
       "  ⋅        ⋅        ⋅        ⋅       …  0.0      0.0      0.0      0.0\n",
       "  ⋅        ⋅        ⋅        ⋅          1.51658  0.0      0.0      0.0\n",
       "  ⋅        ⋅        ⋅        ⋅           ⋅       1.51658  0.0      0.0\n",
       "  ⋅        ⋅        ⋅        ⋅           ⋅        ⋅       1.51658  0.0\n",
       "  ⋅        ⋅        ⋅        ⋅           ⋅        ⋅        ⋅       1.51658"
      ]
     },
     "execution_count": 67,
     "metadata": {},
     "output_type": "execute_result"
    }
   ],
   "source": [
    "cholesky(Matrix(1I*2.3, 10, 10)).U"
   ]
  },
  {
   "cell_type": "code",
   "execution_count": 68,
   "metadata": {},
   "outputs": [
    {
     "data": {
      "text/plain": [
       "0.6593783381028366"
      ]
     },
     "execution_count": 68,
     "metadata": {},
     "output_type": "execute_result"
    }
   ],
   "source": [
    "1/1.51658"
   ]
  },
  {
   "cell_type": "code",
   "execution_count": 69,
   "metadata": {},
   "outputs": [
    {
     "data": {
      "text/plain": [
       "1.51657508881031"
      ]
     },
     "execution_count": 69,
     "metadata": {},
     "output_type": "execute_result"
    }
   ],
   "source": [
    "sqrt(2.3)"
   ]
  },
  {
   "cell_type": "code",
   "execution_count": null,
   "metadata": {},
   "outputs": [],
   "source": []
  }
 ],
 "metadata": {
  "environment": {
   "name": "pytorch-gpu.1-4.m55",
   "type": "gcloud",
   "uri": "gcr.io/deeplearning-platform-release/pytorch-gpu.1-4:m55"
  },
  "kernelspec": {
   "display_name": "Julia 1.6.0",
   "language": "julia",
   "name": "julia-1.6"
  },
  "language_info": {
   "file_extension": ".jl",
   "mimetype": "application/julia",
   "name": "julia",
   "version": "1.6.0"
  }
 },
 "nbformat": 4,
 "nbformat_minor": 4
}
